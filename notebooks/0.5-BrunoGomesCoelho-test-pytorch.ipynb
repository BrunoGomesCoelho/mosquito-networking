{
 "cells": [
  {
   "cell_type": "markdown",
   "metadata": {},
   "source": [
    "# Sample code for trying out pytorch with this data"
   ]
  },
  {
   "cell_type": "code",
   "execution_count": 149,
   "metadata": {},
   "outputs": [
    {
     "name": "stdout",
     "output_type": "stream",
     "text": [
      "The autoreload extension is already loaded. To reload it, use:\n",
      "  %reload_ext autoreload\n"
     ]
    }
   ],
   "source": [
    "# OPTIONAL: Load the \"autoreload\" extension so that code can change\n",
    "%load_ext autoreload\n",
    "\n",
    "# OPTIONAL: always reload modules so that as you change code in src, it gets loaded\n",
    "%autoreload 2\n",
    "\n",
    "import numpy as np\n",
    "import pandas as pd\n",
    "from src.data import make_dataset\n",
    "from src.data import util\n",
    "\n",
    "import matplotlib.pyplot as plt\n",
    "import seaborn as sns\n",
    "sns.set()"
   ]
  },
  {
   "cell_type": "code",
   "execution_count": 165,
   "metadata": {
    "scrolled": true
   },
   "outputs": [],
   "source": [
    "df = make_dataset.main(subsample=100, reduce_mem_usage=False)"
   ]
  },
  {
   "cell_type": "code",
   "execution_count": 166,
   "metadata": {},
   "outputs": [
    {
     "data": {
      "text/plain": [
       "<matplotlib.axes._subplots.AxesSubplot at 0x7f39dc789a20>"
      ]
     },
     "execution_count": 166,
     "metadata": {},
     "output_type": "execute_result"
    },
    {
     "data": {
      "image/png": "[encoded data removed]",
      "text/plain": [
       "<Figure size 432x288 with 1 Axes>"
      ]
     },
     "metadata": {},
     "output_type": "display_data"
    }
   ],
   "source": [
    "sns.countplot(df[\"label\"])"
   ]
  },
  {
   "cell_type": "markdown",
   "metadata": {},
   "source": [
    "## Convert data to pytorch types"
   ]
  },
  {
   "cell_type": "code",
   "execution_count": 192,
   "metadata": {},
   "outputs": [],
   "source": [
    "data_vector = util.get_train_test(df)"
   ]
  },
  {
   "cell_type": "code",
   "execution_count": 209,
   "metadata": {},
   "outputs": [
    {
     "name": "stderr",
     "output_type": "stream",
     "text": [
      "From numpy option does not send to device!\n"
     ]
    },
    {
     "name": "stdout",
     "output_type": "stream",
     "text": [
      "torch.Size([50, 1, 22050]) torch.Size([48, 1, 22050])\n"
     ]
    }
   ],
   "source": [
    "import torch\n",
    "import torch.nn as nn\n",
    "import torch.nn.functional as F\n",
    "import torch.optim as optim\n",
    "\n",
    "device = torch.device(\"cuda:0\" if torch.cuda.is_available() else \"cpu\")\n",
    "x_train, x_test, y_train, y_test = util.transform_torch(data_vector, device=device)\n",
    "print(x_train.shape, x_test.shape)"
   ]
  },
  {
   "cell_type": "markdown",
   "metadata": {},
   "source": [
    "## Basic 1D convolutional network"
   ]
  },
  {
   "cell_type": "markdown",
   "metadata": {},
   "source": [
    "[1D conv in Pytorch](https://pytorch.org/docs/stable/nn.html#torch.nn.Conv1d) \n",
    "\n",
    "In the simplest case, the output value of the layer with input size\n",
    "\n",
    "$$ (N, C_{\\text{in}}, L) $$ and output $$ (N, C_{\\text{out}}, L_{\\text{out}}) $$ can be\n",
    "\n",
    "$$ (N, C_{\\text{in}}, L) $$ and output $$ (N, C_{\\text{out}}, L_{\\text{out}}) $$ can be\n",
    "    precisely described as:\n",
    "\n",
    "$$\n",
    "        \\text{out}(N_i, C_{\\text{out}_j}) = \\text{bias}(C_{\\text{out}_j}) +\n",
    "        \\sum_{k = 0}^{C_{in} - 1} \\text{weight}(C_{\\text{out}_j}, k)\n",
    "        \\star \\text{input}(N_i, k)\n",
    "$$ \n",
    "\n",
    "where $$ \\star $$  is the valid \"cross-correlation\"  operator,\n",
    "    N is a batch size, C denotes a number of channels,\n",
    "    L is a length of signal sequence."
   ]
  },
  {
   "cell_type": "code",
   "execution_count": 203,
   "metadata": {},
   "outputs": [],
   "source": [
    "class BasicMosquitoNet(nn.Module):\n",
    "    \"\"\"A basic 1D conv net.\n",
    "    We use 1D convolution, followed by max pool, 1D convolution, max pool, FC, FC.\n",
    "    \"\"\"\n",
    "    \n",
    "    def __init__(self, conv1_out=100, kernel_1=6, stride_1=3, \n",
    "                 conv2_out=10, kernel_2=4, stride_2=2):\n",
    "        \"\"\"\n",
    "        conv1: (22050 - 6)/3  + 1 = 7349\n",
    "        max_pool_1 = floor((Lin + −dilation×(kernel_size−1)−1)/stride_2) + 1\n",
    "                   = floor(7349-2 /2) + 1 = 3673 + 1 = 3674\n",
    "        conv2 = (3674 - 4)/2 + 1 = 1836\n",
    "        max_pool_2 = floor(1836-2 /2) + 1 = 918\n",
    "        \n",
    "        \"\"\"\n",
    "        super(BasicMosquitoNet, self).__init__()\n",
    "        self.conv1 = nn.Conv1d(in_channels=1, out_channels=conv1_out, \n",
    "                               kernel_size=kernel_1, stride=stride_1)\n",
    "        self.conv2 = nn.Conv1d(in_channels=conv1_out, out_channels=conv2_out, \n",
    "                               kernel_size=kernel_2, stride=stride_2)\n",
    "        self.fc1 = nn.Linear(918*conv2_out, 1)  \n",
    "        #self.fc1 = nn.Linear(918*conv2_out, 120)\n",
    "        #self.fc2 = nn.Linear(120, 84)\n",
    "        #self.fc3 = nn.Linear(84, 2)\n",
    "\n",
    "    def forward(self, x):\n",
    "        \"\"\"\n",
    "        In the forward function we accept a Tensor of input data and we must return\n",
    "        a Tensor of output data. \n",
    "        \"\"\"\n",
    "        # Max pooling over a (2, 2) window\n",
    "        x = F.max_pool1d(F.relu(self.conv1(x)), 2)\n",
    "        # If the size is a square you can only specify a single number\n",
    "        x = F.max_pool1d(F.relu(self.conv2(x)), 2)\n",
    "        x = x.view(-1, self.num_flat_features(x))\n",
    "        x = self.fc1(x)\n",
    "        \n",
    "        \"\"\"\n",
    "        x = F.relu(self.fc1(x))\n",
    "        x = F.relu(self.fc2(x))\n",
    "        x = self.fc3(x)\n",
    "        \"\"\"\n",
    "        # We use BCEWithLogitsLoss instead of applying sigmoid here\n",
    "        # It is better computationally\n",
    "        return x\n",
    "\n",
    "    def num_flat_features(self, x):\n",
    "        size = x.size()[1:]  # all dimensions except the batch dimension\n",
    "        num_features = 1\n",
    "        for s in size:\n",
    "            num_features *= s\n",
    "        return num_features"
   ]
  },
  {
   "cell_type": "markdown",
   "metadata": {},
   "source": [
    "Try out some basic checks:"
   ]
  },
  {
   "cell_type": "code",
   "execution_count": 204,
   "metadata": {},
   "outputs": [
    {
     "name": "stdout",
     "output_type": "stream",
     "text": [
      "BasicMosquitoNet(\n",
      "  (conv1): Conv1d(1, 100, kernel_size=(6,), stride=(3,))\n",
      "  (conv2): Conv1d(100, 10, kernel_size=(4,), stride=(2,))\n",
      "  (fc1): Linear(in_features=9180, out_features=1, bias=True)\n",
      ")\n"
     ]
    }
   ],
   "source": [
    "# Print Net structure\n",
    "net = BasicMosquitoNet()\n",
    "print(net)"
   ]
  },
  {
   "cell_type": "code",
   "execution_count": 205,
   "metadata": {},
   "outputs": [
    {
     "name": "stdout",
     "output_type": "stream",
     "text": [
      "torch.Size([100, 1, 6])\n",
      "torch.Size([100])\n",
      "torch.Size([10, 100, 4])\n",
      "torch.Size([10])\n",
      "torch.Size([1, 9180])\n",
      "torch.Size([1])\n"
     ]
    }
   ],
   "source": [
    "# Print params\n",
    "net = BasicMosquitoNet()\n",
    "params = list(net.parameters())\n",
    "for param in params:\n",
    "    print(param.size())  # conv1's .weight"
   ]
  },
  {
   "cell_type": "code",
   "execution_count": 207,
   "metadata": {},
   "outputs": [
    {
     "name": "stdout",
     "output_type": "stream",
     "text": [
      "tensor([[-0.0874],\n",
      "        [-0.1451],\n",
      "        [ 0.0205],\n",
      "        [-0.1918],\n",
      "        [-0.1852]], grad_fn=<SliceBackward>)\n"
     ]
    }
   ],
   "source": [
    "# Check random example - remembering pytorch ONLY works in mini-batches\n",
    "n_examples = 1000\n",
    "temp_input = torch.randn(n_examples, 1, 22050).float()\n",
    "out = net(temp_input)\n",
    "print(out[:5])"
   ]
  },
  {
   "cell_type": "code",
   "execution_count": 109,
   "metadata": {},
   "outputs": [
    {
     "name": "stdout",
     "output_type": "stream",
     "text": [
      "tensor(0.6968, grad_fn=<BinaryCrossEntropyWithLogitsBackward>)\n"
     ]
    }
   ],
   "source": [
    "# Check loss function\n",
    "# a dummy target, for example\n",
    "target = torch.randint(2, (n_examples,)).float()\n",
    "target = target.view(n_examples, -1)  # make it the same shape as output\n",
    "criterion = nn.BCEWithLogitsLoss()\n",
    "\n",
    "loss = criterion(out, target)\n",
    "print(loss)"
   ]
  },
  {
   "cell_type": "markdown",
   "metadata": {},
   "source": [
    "We should see something ~ln(0.5) = ~0.693!!"
   ]
  },
  {
   "cell_type": "code",
   "execution_count": 110,
   "metadata": {},
   "outputs": [],
   "source": [
    "# Check gradient \n",
    "net.zero_grad()\n",
    "out.backward(torch.randn(n_examples, 1))"
   ]
  },
  {
   "cell_type": "markdown",
   "metadata": {},
   "source": [
    "Check optimizer..."
   ]
  },
  {
   "cell_type": "code",
   "execution_count": 196,
   "metadata": {},
   "outputs": [],
   "source": [
    "# create your optimizer\n",
    "optimizer = optim.SGD(net.parameters(), lr=0.01, momentum=0.9)\n",
    "\n",
    "# in your training loop:\n",
    "optimizer.zero_grad()   # zero the gradient buffers\n",
    "output = net(temp_input)\n",
    "loss = criterion(output, target)\n",
    "loss.backward()\n",
    "optimizer.step()    # Does the update"
   ]
  },
  {
   "cell_type": "markdown",
   "metadata": {},
   "source": [
    "# Test with real data..."
   ]
  },
  {
   "cell_type": "code",
   "execution_count": 267,
   "metadata": {},
   "outputs": [
    {
     "name": "stdout",
     "output_type": "stream",
     "text": [
      "tensor(33.0908, grad_fn=<BinaryCrossEntropyWithLogitsBackward>)\n"
     ]
    }
   ],
   "source": [
    "# create your optimizer\n",
    "net = BasicMosquitoNet()\n",
    "criterion = nn.BCEWithLogitsLoss()\n",
    "optimizer = optim.SGD(net.parameters(), lr=0.01, momentum=0.9)\n",
    "\n",
    "# in your training loop:\n",
    "optimizer.zero_grad()   # zero the gradient buffers\n",
    "output = net(x_train)\n",
    "loss = criterion(output, y_train)\n",
    "loss.backward()\n",
    "optimizer.step()    # Does the update\n",
    "print(loss)"
   ]
  },
  {
   "cell_type": "code",
   "execution_count": 268,
   "metadata": {},
   "outputs": [
    {
     "name": "stdout",
     "output_type": "stream",
     "text": [
      "tensor(1573344.3750, grad_fn=<BinaryCrossEntropyWithLogitsBackward>)\n"
     ]
    }
   ],
   "source": [
    "output = net(x_test)\n",
    "loss = criterion(output, y_test)\n",
    "print(loss)"
   ]
  },
  {
   "cell_type": "code",
   "execution_count": null,
   "metadata": {},
   "outputs": [],
   "source": []
  }
 ],
 "metadata": {
  "kernelspec": {
   "display_name": "Python 3",
   "language": "python",
   "name": "python3"
  },
  "language_info": {
   "codemirror_mode": {
    "name": "ipython",
    "version": 3
   },
   "file_extension": ".py",
   "mimetype": "text/x-python",
   "name": "python",
   "nbconvert_exporter": "python",
   "pygments_lexer": "ipython3",
   "version": "3.6.5rc1"
  },
  "toc": {
   "base_numbering": 1,
   "nav_menu": {},
   "number_sections": true,
   "sideBar": true,
   "skip_h1_title": false,
   "title_cell": "Table of Contents",
   "title_sidebar": "Contents",
   "toc_cell": false,
   "toc_position": {},
   "toc_section_display": true,
   "toc_window_display": false
  }
 },
 "nbformat": 4,
 "nbformat_minor": 2
}
