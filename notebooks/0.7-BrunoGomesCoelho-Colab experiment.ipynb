{
 "cells": [
  {
   "cell_type": "code",
   "execution_count": 1,
   "metadata": {},
   "outputs": [],
   "source": [
    "#from google.colab import drive\n",
    "#drive.mount('/content/drive'"
   ]
  },
  {
   "cell_type": "code",
   "execution_count": 2,
   "metadata": {},
   "outputs": [],
   "source": [
    "#import sys\n",
    "#sys.path.append(\"/content/drive/My Drive/IC/mosquito-networking/\")"
   ]
  },
  {
   "cell_type": "markdown",
   "metadata": {},
   "source": [
    "\n",
    "\n",
    "- - - \n",
    "\n",
    "<br>\n",
    "<br>\n",
    "<br>\n",
    "<br>\n",
    "<br>\n",
    "<br>\n",
    "<br>\n",
    "<br>\n",
    "<br>\n",
    "<br>\n",
    "<br>\n",
    "<br>"
   ]
  },
  {
   "cell_type": "markdown",
   "metadata": {},
   "source": [
    "# Trying out a full pytorch experiment, with tensorboard, // processing, etc"
   ]
  },
  {
   "cell_type": "code",
   "execution_count": 3,
   "metadata": {},
   "outputs": [],
   "source": [
    "# OPTIONAL: Load the \"autoreload\" extension so that code can change\n",
    "%load_ext autoreload\n",
    "\n",
    "# OPTIONAL: always reload modules so that as you change code in src, it gets loaded\n",
    "%autoreload 2\n",
    "\n",
    "import numpy as np\n",
    "import pandas as pd\n",
    "from src.data import make_dataset\n",
    "from src.data import read_dataset\n",
    "from src.data import util\n",
    "from src.data.colab_dataset import MosquitoDatasetColab\n",
    "\n",
    "from torchsummary import summary\n",
    "\n",
    "import matplotlib.pyplot as plt\n",
    "import seaborn as sns\n",
    "sns.set()"
   ]
  },
  {
   "cell_type": "markdown",
   "metadata": {},
   "source": [
    "# Experiment params"
   ]
  },
  {
   "cell_type": "code",
   "execution_count": 4,
   "metadata": {},
   "outputs": [],
   "source": [
    "# Parameters\n",
    "params = {'batch_size': 32,\n",
    "          'shuffle': True,\n",
    "          'num_workers': 0}\n",
    "max_epochs = 1\n",
    "\n",
    "version = !python3 --version\n",
    "version = version[0].split(\".\")[1]\n",
    "\n",
    "if int(version) < 7 and params[\"num_workers\"]:\n",
    "    print(\"WARNING\\n\"*10)\n",
    "    print(\"Parallel execution only works for python3.7 or above!\")\n",
    "    print(\"Running in parallel with other versions is not guaranted to work\")\n",
    "    print(\"See https://discuss.pytorch.org/t/valueerror-signal-number-32-out-of-range-when-loading-data-with-num-worker-0/39615/2\")"
   ]
  },
  {
   "cell_type": "code",
   "execution_count": 5,
   "metadata": {},
   "outputs": [
    {
     "name": "stdout",
     "output_type": "stream",
     "text": [
      "Using device cpu\n"
     ]
    }
   ],
   "source": [
    "## Load gpu or cpu\n",
    "import torch\n",
    "import torch.nn as nn\n",
    "import torch.nn.functional as F\n",
    "import torch.optim as optim\n",
    "\n",
    "device = torch.device(\"cuda:0\" if torch.cuda.is_available() else \"cpu\")\n",
    "print(f\"Using device {device}\")"
   ]
  },
  {
   "cell_type": "markdown",
   "metadata": {},
   "source": [
    "# load data"
   ]
  },
  {
   "cell_type": "code",
   "execution_count": 6,
   "metadata": {},
   "outputs": [],
   "source": [
    "#df = pd.read_csv(\"data/interim/file_names.csv\")\n",
    "df = pd.read_csv(\"../data/interim/file_names.csv\")\n",
    "\n",
    "x = df[\"original_name\"]\n",
    "y = df[\"label\"]\n",
    "\n",
    "train_idx = df[\"training\"] == 1"
   ]
  },
  {
   "cell_type": "code",
   "execution_count": 7,
   "metadata": {},
   "outputs": [],
   "source": [
    "# Generators\n",
    "training_set = MosquitoDatasetColab(x[train_idx].values, y[train_idx].values,\n",
    "                                   device=device)\n",
    "training_generator = torch.utils.data.DataLoader(training_set, **params)\n",
    "\n",
    "test_set = MosquitoDatasetColab(x[~train_idx].values, y[~train_idx].values,\n",
    "                                   device=device)\n",
    "test_generator = torch.utils.data.DataLoader(test_set, **params)\n",
    "\n",
    "# Generate some example data\n",
    "temp_generator = torch.utils.data.DataLoader(training_set, **params)\n",
    "\n",
    "for (local_batch, local_labels) in temp_generator:\n",
    "    example_x = local_batch\n",
    "    example_y = local_labels\n",
    "    break\n"
   ]
  },
  {
   "cell_type": "code",
   "execution_count": 8,
   "metadata": {},
   "outputs": [
    {
     "data": {
      "text/plain": [
       "torch.Size([32])"
      ]
     },
     "execution_count": 8,
     "metadata": {},
     "output_type": "execute_result"
    }
   ],
   "source": [
    "example_y.shape"
   ]
  },
  {
   "cell_type": "markdown",
   "metadata": {},
   "source": [
    "## Basic 1D convolutional network"
   ]
  },
  {
   "cell_type": "markdown",
   "metadata": {},
   "source": [
    "[1D conv in Pytorch](https://pytorch.org/docs/stable/nn.html#torch.nn.Conv1d) \n",
    "\n",
    "In the simplest case, the output value of the layer with input size\n",
    "\n",
    "$$ (N, C_{\\text{in}}, L) $$ and output $$ (N, C_{\\text{out}}, L_{\\text{out}}) $$ can be\n",
    "\n",
    "$$ (N, C_{\\text{in}}, L) $$ and output $$ (N, C_{\\text{out}}, L_{\\text{out}}) $$ can be\n",
    "    precisely described as:\n",
    "\n",
    "$$\n",
    "        \\text{out}(N_i, C_{\\text{out}_j}) = \\text{bias}(C_{\\text{out}_j}) +\n",
    "        \\sum_{k = 0}^{C_{in} - 1} \\text{weight}(C_{\\text{out}_j}, k)\n",
    "        \\star \\text{input}(N_i, k)\n",
    "$$ \n",
    "\n",
    "where $$ \\star $$  is the valid \"cross-correlation\"  operator,\n",
    "    N is a batch size, C denotes a number of channels,\n",
    "    L is a length of signal sequence."
   ]
  },
  {
   "cell_type": "markdown",
   "metadata": {},
   "source": [
    "# Create Model"
   ]
  },
  {
   "cell_type": "code",
   "execution_count": 9,
   "metadata": {
    "code_folding": []
   },
   "outputs": [],
   "source": [
    "class BasicMosquitoNet(nn.Module):\n",
    "    \"\"\"A basic 1D conv net.\n",
    "    We use 1D convolution, followed by max pool, 1D convolution, max pool, FC, FC.\n",
    "    \"\"\"\n",
    "    \n",
    "    def __init__(self, conv1_out=100, kernel_1=6, stride_1=3, \n",
    "                 conv2_out=10, kernel_2=4, stride_2=2):\n",
    "        \"\"\"\n",
    "        conv1: (22050 - 6)/3  + 1 = 7349\n",
    "        max_pool_1 = floor((Lin + −dilation×(kernel_size−1)−1)/stride_2) + 1\n",
    "                   = floor(7349-2 /2) + 1 = 3673 + 1 = 3674\n",
    "        conv2 = (3674 - 4)/2 + 1 = 1836\n",
    "        max_pool_2 = floor(1836-2 /2) + 1 = 918\n",
    "        \n",
    "        \"\"\"\n",
    "        super(BasicMosquitoNet, self).__init__()\n",
    "        self.conv1 = nn.Conv1d(in_channels=1, out_channels=conv1_out, \n",
    "                               kernel_size=kernel_1, stride=stride_1)\n",
    "        self.conv2 = nn.Conv1d(in_channels=conv1_out, out_channels=conv2_out, \n",
    "                               kernel_size=kernel_2, stride=stride_2)\n",
    "        self.fc1 = nn.Linear(918*conv2_out, 1)  \n",
    "        #self.fc1 = nn.Linear(918*conv2_out, 120)\n",
    "        #self.fc2 = nn.Linear(120, 84)\n",
    "        #self.fc3 = nn.Linear(84, 2)\n",
    "\n",
    "    def forward(self, x):\n",
    "        \"\"\"\n",
    "        In the forward function we accept a Tensor of input data and we must return\n",
    "        a Tensor of output data. \n",
    "        \"\"\"\n",
    "        # Max pooling over a (2, 2) window\n",
    "        x = F.max_pool1d(F.relu(self.conv1(x)), 2)\n",
    "        # If the size is a square you can only specify a single number\n",
    "        x = F.max_pool1d(F.relu(self.conv2(x)), 2)\n",
    "        x = x.view(-1, self.num_flat_features(x))\n",
    "        x = self.fc1(x)\n",
    "        \n",
    "        \"\"\"\n",
    "        x = F.relu(self.fc1(x))\n",
    "        x = F.relu(self.fc2(x))\n",
    "        x = self.fc3(x)\n",
    "        \"\"\"\n",
    "        # We use BCEWithLogitsLoss instead of applying sigmoid here\n",
    "        # It is better computationally\n",
    "        return x\n",
    "\n",
    "    def num_flat_features(self, x):\n",
    "        size = x.size()[1:]  # all dimensions except the batch dimension\n",
    "        num_features = 1\n",
    "        for s in size:\n",
    "            num_features *= s\n",
    "        return num_features"
   ]
  },
  {
   "cell_type": "code",
   "execution_count": 10,
   "metadata": {},
   "outputs": [],
   "source": [
    "# create your optimizer\n",
    "net = BasicMosquitoNet()\n",
    "criterion = nn.BCEWithLogitsLoss()\n",
    "optimizer = optim.SGD(net.parameters(), lr=0.01, momentum=0.9)"
   ]
  },
  {
   "cell_type": "code",
   "execution_count": 11,
   "metadata": {},
   "outputs": [
    {
     "name": "stdout",
     "output_type": "stream",
     "text": [
      "----------------------------------------------------------------\n",
      "        Layer (type)               Output Shape         Param #\n",
      "================================================================\n",
      "            Conv1d-1            [-1, 100, 7349]             700\n",
      "            Conv1d-2             [-1, 10, 1836]           4,010\n",
      "            Linear-3                    [-1, 1]           9,181\n",
      "================================================================\n",
      "Total params: 13,891\n",
      "Trainable params: 13,891\n",
      "Non-trainable params: 0\n",
      "----------------------------------------------------------------\n",
      "Input size (MB): 0.08\n",
      "Forward/backward pass size (MB): 5.75\n",
      "Params size (MB): 0.05\n",
      "Estimated Total Size (MB): 5.88\n",
      "----------------------------------------------------------------\n"
     ]
    }
   ],
   "source": [
    "summary(net, input_size=example_x.shape[1:])"
   ]
  },
  {
   "cell_type": "markdown",
   "metadata": {},
   "source": [
    "# Start tensorboard"
   ]
  },
  {
   "cell_type": "markdown",
   "metadata": {},
   "source": [
    "Run in our terminal: \n",
    "\n",
    "`cd notebooks`\n",
    "\n",
    "`tensorboard --logdir runs`"
   ]
  },
  {
   "cell_type": "code",
   "execution_count": 12,
   "metadata": {},
   "outputs": [
    {
     "name": "stderr",
     "output_type": "stream",
     "text": [
      "/home/bcoelho/.virtualenvs/mosquito-networking/lib/python3.6/site-packages/tensorboard/compat/tensorflow_stub/dtypes.py:541: FutureWarning: Passing (type, 1) or '1type' as a synonym of type is deprecated; in a future version of numpy, it will be understood as (type, (1,)) / '(1,)type'.\n",
      "  _np_qint8 = np.dtype([(\"qint8\", np.int8, 1)])\n",
      "/home/bcoelho/.virtualenvs/mosquito-networking/lib/python3.6/site-packages/tensorboard/compat/tensorflow_stub/dtypes.py:542: FutureWarning: Passing (type, 1) or '1type' as a synonym of type is deprecated; in a future version of numpy, it will be understood as (type, (1,)) / '(1,)type'.\n",
      "  _np_quint8 = np.dtype([(\"quint8\", np.uint8, 1)])\n",
      "/home/bcoelho/.virtualenvs/mosquito-networking/lib/python3.6/site-packages/tensorboard/compat/tensorflow_stub/dtypes.py:543: FutureWarning: Passing (type, 1) or '1type' as a synonym of type is deprecated; in a future version of numpy, it will be understood as (type, (1,)) / '(1,)type'.\n",
      "  _np_qint16 = np.dtype([(\"qint16\", np.int16, 1)])\n",
      "/home/bcoelho/.virtualenvs/mosquito-networking/lib/python3.6/site-packages/tensorboard/compat/tensorflow_stub/dtypes.py:544: FutureWarning: Passing (type, 1) or '1type' as a synonym of type is deprecated; in a future version of numpy, it will be understood as (type, (1,)) / '(1,)type'.\n",
      "  _np_quint16 = np.dtype([(\"quint16\", np.uint16, 1)])\n",
      "/home/bcoelho/.virtualenvs/mosquito-networking/lib/python3.6/site-packages/tensorboard/compat/tensorflow_stub/dtypes.py:545: FutureWarning: Passing (type, 1) or '1type' as a synonym of type is deprecated; in a future version of numpy, it will be understood as (type, (1,)) / '(1,)type'.\n",
      "  _np_qint32 = np.dtype([(\"qint32\", np.int32, 1)])\n",
      "/home/bcoelho/.virtualenvs/mosquito-networking/lib/python3.6/site-packages/tensorboard/compat/tensorflow_stub/dtypes.py:550: FutureWarning: Passing (type, 1) or '1type' as a synonym of type is deprecated; in a future version of numpy, it will be understood as (type, (1,)) / '(1,)type'.\n",
      "  np_resource = np.dtype([(\"resource\", np.ubyte, 1)])\n"
     ]
    }
   ],
   "source": [
    "from torch.utils.tensorboard import SummaryWriter\n",
    "    \n",
    "# default `log_dir` is \"runs\" - we'll be more specific here\n",
    "writer = SummaryWriter()"
   ]
  },
  {
   "cell_type": "markdown",
   "metadata": {},
   "source": [
    "# train function"
   ]
  },
  {
   "cell_type": "code",
   "execution_count": 14,
   "metadata": {},
   "outputs": [],
   "source": [
    "# Simple train function\n",
    "\n",
    "def train(net, optimizer, max_epochs, testing=False):\n",
    "    # Loop over epochs\n",
    "    last_test_loss = 0\n",
    "    for epoch in range(max_epochs):\n",
    "        # Training\n",
    "        for idx, (local_batch, local_labels) in enumerate(training_generator):\n",
    "            local_batch, local_labels = util.convert_cuda(local_batch, \n",
    "                                                         local_labels,\n",
    "                                                         device)\n",
    "\n",
    "            optimizer.zero_grad()   # zero the gradient buffers\n",
    "            output = net(local_batch)\n",
    "            loss = criterion(output, local_labels)\n",
    "            loss.backward()\n",
    "            optimizer.step()    # Does the update\n",
    "            \n",
    "            if testing:\n",
    "                break\n",
    "            else:\n",
    "                writer.add_scalar(\"Train Loss Batch\", loss.data.item(), idx)\n",
    "\n",
    "        # Validation\n",
    "        with torch.set_grad_enabled(False):\n",
    "            cumulative_test_loss = 0\n",
    "            \n",
    "            for idx, (local_batch, local_labels) in enumerate(training_generator):\n",
    "                local_batch, local_labels = util.convert_cuda(local_batch, \n",
    "                                                 local_labels,\n",
    "                                                 device)\n",
    "                output = net(local_batch)\n",
    "                loss = criterion(output, local_labels)\n",
    "                if testing:\n",
    "                    break\n",
    "                else:\n",
    "                    writer.add_scalar(\"Test Loss Batch\", loss.data.item(), idx)\n",
    "                \n",
    "                cumulative_test_loss += loss.data.item()\n",
    "            cumulative_test_loss /= (idx+1)\n",
    "            last_test_loss = cumulative_test_loss\n",
    "            \n",
    "            if not testing:\n",
    "                writer.add_scalar(\"Test Loss Epoch\", loss.data.item(), idx)\n",
    "    \n",
    "    return last_test_loss\n",
    "    writer.close()"
   ]
  },
  {
   "cell_type": "code",
   "execution_count": 17,
   "metadata": {},
   "outputs": [
    {
     "name": "stdout",
     "output_type": "stream",
     "text": [
      "CPU times: user 16min 25s, sys: 3min 11s, total: 19min 37s\n",
      "Wall time: 5min 4s\n"
     ]
    },
    {
     "data": {
      "text/plain": [
       "0.6931620290690991"
      ]
     },
     "execution_count": 17,
     "metadata": {},
     "output_type": "execute_result"
    }
   ],
   "source": [
    "%%time\n",
    "train(net, optimizer, 1, testing=False)"
   ]
  },
  {
   "cell_type": "code",
   "execution_count": 16,
   "metadata": {},
   "outputs": [],
   "source": [
    "# Save the model\n",
    "#torch.save(net.state_dict(), \"../models/0.6-BrunoGomesCoelho-test-experiment.pt\")"
   ]
  }
 ],
 "metadata": {
  "kernelspec": {
   "display_name": "mosquito-networking",
   "language": "python",
   "name": "mosquito-networking"
  },
  "language_info": {
   "codemirror_mode": {
    "name": "ipython",
    "version": 3
   },
   "file_extension": ".py",
   "mimetype": "text/x-python",
   "name": "python",
   "nbconvert_exporter": "python",
   "pygments_lexer": "ipython3",
   "version": "3.6.5rc1"
  },
  "toc": {
   "base_numbering": 1,
   "nav_menu": {},
   "number_sections": true,
   "sideBar": true,
   "skip_h1_title": false,
   "title_cell": "Table of Contents",
   "title_sidebar": "Contents",
   "toc_cell": false,
   "toc_position": {},
   "toc_section_display": true,
   "toc_window_display": false
  }
 },
 "nbformat": 4,
 "nbformat_minor": 2
}
