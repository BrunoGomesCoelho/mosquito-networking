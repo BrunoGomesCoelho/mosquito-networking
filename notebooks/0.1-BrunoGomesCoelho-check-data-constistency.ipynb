{
 "cells": [
  {
   "cell_type": "markdown",
   "metadata": {},
   "source": [
    "We check if the .wavs we have match the files Denis had.\n",
    "\n",
    "Answer: yes"
   ]
  },
  {
   "cell_type": "code",
   "execution_count": 1,
   "metadata": {},
   "outputs": [
    {
     "name": "stdout",
     "output_type": "stream",
     "text": [
      "../data/raw/dadosBruno/t02 - 7864\n",
      "../data/raw/dadosBruno/t03 - 7354\n",
      "../data/raw/dadosBruno/t04 - 8872\n",
      "../data/raw/dadosBruno/t05 - 11142\n",
      "../data/raw/dadosBruno/t06 - 9678\n",
      "../data/raw/dadosBruno/t07 - 8920\n"
     ]
    }
   ],
   "source": [
    "%%bash\n",
    "# Count the amount of files in each folder\n",
    "for VARIABLE in ../data/raw/dadosBruno/*\n",
    "do\n",
    "    echo -n $VARIABLE ;  echo -n \" - \"; ls $VARIABLE -R | grep \".wav\" | wc -l\n",
    "done"
   ]
  },
  {
   "cell_type": "code",
   "execution_count": 2,
   "metadata": {},
   "outputs": [
    {
     "name": "stdout",
     "output_type": "stream",
     "text": [
      "../data/raw/t02.csv - 7864\n",
      "../data/raw/t03.csv - 7354\n",
      "../data/raw/t04.csv - 8872\n",
      "../data/raw/t05.csv - 11142\n",
      "../data/raw/t06.csv - 9678\n",
      "../data/raw/t07.csv - 8920\n"
     ]
    }
   ],
   "source": [
    "%%bash\n",
    "# Count the lines in each csv - we start from line 2 to skip the header row.\n",
    "for VARIABLE in ../data/raw/*.csv\n",
    "do\n",
    "    echo -n $VARIABLE ;  echo -n \" - \"; tail -n +2 $VARIABLE | wc -l \n",
    "done"
   ]
  },
  {
   "cell_type": "code",
   "execution_count": null,
   "metadata": {},
   "outputs": [],
   "source": []
  }
 ],
 "metadata": {
  "kernelspec": {
   "display_name": "Python 3",
   "language": "python",
   "name": "python3"
  },
  "language_info": {
   "codemirror_mode": {
    "name": "ipython",
    "version": 3
   },
   "file_extension": ".py",
   "mimetype": "text/x-python",
   "name": "python",
   "nbconvert_exporter": "python",
   "pygments_lexer": "ipython3",
   "version": "3.6.5rc1"
  },
  "toc": {
   "base_numbering": 1,
   "nav_menu": {},
   "number_sections": true,
   "sideBar": true,
   "skip_h1_title": false,
   "title_cell": "Table of Contents",
   "title_sidebar": "Contents",
   "toc_cell": false,
   "toc_position": {},
   "toc_section_display": true,
   "toc_window_display": false
  }
 },
 "nbformat": 4,
 "nbformat_minor": 2
}
