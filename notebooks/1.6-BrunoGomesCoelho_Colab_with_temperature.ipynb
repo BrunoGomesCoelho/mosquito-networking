{
 "cells": [
  {
   "cell_type": "markdown",
   "metadata": {
    "colab_type": "text",
    "id": "view-in-github"
   },
   "source": [
    "<a href=\"https://colab.research.google.com/github/BrunoGomesCoelho/mosquito-networking/blob/master/notebooks/1.3-BrunoGomesCoelho_Colab3.ipynb\" target=\"_parent\"><img src=\"https://colab.research.google.com/assets/colab-badge.svg\" alt=\"Open In Colab\"/></a>"
   ]
  },
  {
   "cell_type": "code",
   "execution_count": 0,
   "metadata": {
    "colab": {},
    "colab_type": "code",
    "id": "elnFGDCRpUTP"
   },
   "outputs": [],
   "source": [
    "# Colab console code\n",
    "\"\"\"\n",
    "function ClickConnect(){\n",
    "console.log(\"Working\"); \n",
    "document.querySelector(\"colab-toolbar-button#connect\").click() \n",
    "}setInterval(ClickConnect,60000)\n",
    "\"\"\""
   ]
  },
  {
   "cell_type": "code",
   "execution_count": 0,
   "metadata": {
    "colab": {},
    "colab_type": "code",
    "id": "f0Rk5pw-1vc3"
   },
   "outputs": [],
   "source": [
    "import time\n",
    "start_time = time.time()"
   ]
  },
  {
   "cell_type": "code",
   "execution_count": 1,
   "metadata": {
    "colab": {},
    "colab_type": "code",
    "id": "3g_a6iLcO1xR"
   },
   "outputs": [],
   "source": [
    "COLAB_IDX = 1\n",
    "TEMPERATURE = \"t02\""
   ]
  },
  {
   "cell_type": "code",
   "execution_count": 0,
   "metadata": {
    "colab": {},
    "colab_type": "code",
    "id": "RRfnZPSUG5MA"
   },
   "outputs": [],
   "source": [
    "TESTING = False\n",
    "COLAB = True\n",
    "\n",
    "if COLAB:\n",
    "    BASE_DIR = \"/content/drive/My Drive/IC/mosquito-networking/\"\n",
    "else:\n",
    "    BASE_DIR = \"../\""
   ]
  },
  {
   "cell_type": "code",
   "execution_count": 0,
   "metadata": {
    "colab": {
     "base_uri": "https://localhost:8080/",
     "height": 124
    },
    "colab_type": "code",
    "id": "AGLeMtFkG5MQ",
    "outputId": "9e89f651-581c-41c9-f037-a2699b35ca9a"
   },
   "outputs": [
    {
     "name": "stdout",
     "output_type": "stream",
     "text": [
      "Go to this URL in a browser: https://accounts.google.com/o/oauth2/auth?client_id=947318989803-6bn6qk8qdgf4n4g3pfee6491hc0brc4i.apps.googleusercontent.com&redirect_uri=urn%3Aietf%3Awg%3Aoauth%3A2.0%3Aoob&scope=email%20https%3A%2F%2Fwww.googleapis.com%2Fauth%2Fdocs.test%20https%3A%2F%2Fwww.googleapis.com%2Fauth%2Fdrive%20https%3A%2F%2Fwww.googleapis.com%2Fauth%2Fdrive.photos.readonly%20https%3A%2F%2Fwww.googleapis.com%2Fauth%2Fpeopleapi.readonly&response_type=code\n",
      "\n",
      "Enter your authorization code:\n",
      "··········\n",
      "Mounted at /content/drive\n"
     ]
    }
   ],
   "source": [
    "from google.colab import drive\n",
    "drive.mount('/content/drive')"
   ]
  },
  {
   "cell_type": "code",
   "execution_count": 0,
   "metadata": {
    "colab": {},
    "colab_type": "code",
    "id": "RCABbANbG5Ma"
   },
   "outputs": [],
   "source": [
    "import sys\n",
    "sys.path.append(\"/content/drive/My Drive/IC/mosquito-networking/\")"
   ]
  },
  {
   "cell_type": "code",
   "execution_count": 0,
   "metadata": {
    "colab": {
     "base_uri": "https://localhost:8080/",
     "height": 173
    },
    "colab_type": "code",
    "id": "3JUG_aW2H7lf",
    "outputId": "582b761b-169f-47fe-b01c-0a2ea05c2ee5"
   },
   "outputs": [
    {
     "name": "stdout",
     "output_type": "stream",
     "text": [
      "\u001b[K     |████████████████████████████████| 2.1MB 6.5MB/s \n",
      "\u001b[K     |████████████████████████████████| 71kB 24.0MB/s \n",
      "\u001b[K     |████████████████████████████████| 122kB 49.5MB/s \n",
      "\u001b[K     |████████████████████████████████| 5.7MB 41.1MB/s \n",
      "\u001b[K     |████████████████████████████████| 51kB 20.8MB/s \n",
      "\u001b[K     |████████████████████████████████| 61kB 24.0MB/s \n",
      "\u001b[K     |████████████████████████████████| 51kB 21.1MB/s \n",
      "\u001b[?25h  Building wheel for autopep8 (setup.py) ... \u001b[?25l\u001b[?25hdone\n",
      "  Building wheel for jupyter-tensorboard (setup.py) ... \u001b[?25l\u001b[?25hdone\n"
     ]
    }
   ],
   "source": [
    "!python3 -m pip install -qr \"/content/drive/My Drive/IC/mosquito-networking/drive_requirements.txt\""
   ]
  },
  {
   "cell_type": "markdown",
   "metadata": {
    "colab_type": "text",
    "id": "29syQKBqG5Ml"
   },
   "source": [
    "\n",
    "\n",
    "- - - \n",
    "\n",
    "<br>\n",
    "<br>\n",
    "<br>\n",
    "<br>\n",
    "<br>\n",
    "<br>\n",
    "<br>\n",
    "<br>\n",
    "<br>\n",
    "<br>\n",
    "<br>\n",
    "<br>"
   ]
  },
  {
   "cell_type": "markdown",
   "metadata": {
    "colab_type": "text",
    "id": "QkVEAZdhG5Mn"
   },
   "source": [
    "# Trying out a full pytorch experiment, with tensorboard, // processing, etc"
   ]
  },
  {
   "cell_type": "code",
   "execution_count": 0,
   "metadata": {
    "colab": {},
    "colab_type": "code",
    "id": "S-UqU8J3G5Mp"
   },
   "outputs": [],
   "source": [
    "# OPTIONAL: Load the \"autoreload\" extension so that code can change\n",
    "#%load_ext autoreload\n",
    "\n",
    "# OPTIONAL: always reload modules so that as you change code in src, it gets loaded\n",
    "#%autoreload 2\n",
    "\n",
    "import numpy as np\n",
    "import pandas as pd\n",
    "from src.data import make_dataset\n",
    "from src.data import read_dataset\n",
    "from src.data import util\n",
    "from src.data.colab_dataset import MosquitoDatasetColab\n",
    "import joblib\n",
    "\n",
    "from torchsummary import summary\n",
    "\n",
    "import matplotlib.pyplot as plt\n",
    "import seaborn as sns\n",
    "sns.set()"
   ]
  },
  {
   "cell_type": "markdown",
   "metadata": {
    "colab_type": "text",
    "id": "8qJ96Nw-G5Mx"
   },
   "source": [
    "# Experiment params"
   ]
  },
  {
   "cell_type": "code",
   "execution_count": 0,
   "metadata": {
    "colab": {},
    "colab_type": "code",
    "id": "VTHyGYcfG5M5"
   },
   "outputs": [],
   "source": [
    "# Parameters\n",
    "params = {'batch_size': 64,\n",
    "          'shuffle': True,\n",
    "          'num_workers': 0}\n",
    "max_epochs = 1\n",
    "\n",
    "if TESTING:\n",
    "    params[\"num_workers\"] = 0\n",
    "\n",
    "version = !python3 --version\n",
    "version = version[0].split(\".\")[1]\n",
    "\n",
    "if int(version) < 7 and params[\"num_workers\"]:\n",
    "    print(\"WARNING\\n\"*10)\n",
    "    print(\"Parallel execution only works for python3.7 or above!\")\n",
    "    print(\"Running in parallel with other versions is not guaranted to work\")\n",
    "    print(\"See https://discuss.pytorch.org/t/valueerror-signal-number-32-out-of-range-when-loading-data-with-num-worker-0/39615/2\")"
   ]
  },
  {
   "cell_type": "code",
   "execution_count": 0,
   "metadata": {
    "colab": {
     "base_uri": "https://localhost:8080/",
     "height": 34
    },
    "colab_type": "code",
    "id": "FlKDTQKJG5M9",
    "outputId": "988ba25c-d2fd-41ae-ed52-50a877516f82"
   },
   "outputs": [
    {
     "name": "stdout",
     "output_type": "stream",
     "text": [
      "Using device cuda:0\n"
     ]
    }
   ],
   "source": [
    "## Load gpu or cpu\n",
    "import torch\n",
    "import torch.nn as nn\n",
    "import torch.nn.functional as F\n",
    "import torch.optim as optim\n",
    "\n",
    "device = torch.device(\"cuda:0\" if torch.cuda.is_available() else \"cpu\")\n",
    "print(f\"Using device {device}\")"
   ]
  },
  {
   "cell_type": "markdown",
   "metadata": {
    "colab_type": "text",
    "id": "7lUKEmIlG5NG"
   },
   "source": [
    "# load data"
   ]
  },
  {
   "cell_type": "code",
   "execution_count": 0,
   "metadata": {
    "colab": {},
    "colab_type": "code",
    "id": "ZXUOOiHcG5NJ"
   },
   "outputs": [],
   "source": [
    "# Load scaler\n",
    "#scaler = joblib.load(\"../data/interim/scaler.pkl\")\n",
    "scaler = joblib.load(BASE_DIR + f\"data/interim/scaler_{TEMPERATURE}.pkl\")"
   ]
  },
  {
   "cell_type": "code",
   "execution_count": 0,
   "metadata": {
    "colab": {},
    "colab_type": "code",
    "id": "H3finABn5VMo"
   },
   "outputs": [],
   "source": [
    "data = np.load(BASE_DIR + f\"data/interim/all_wavs_{TEMPERATURE}.npz\",\n",
    "               allow_pickle=True)"
   ]
  },
  {
   "cell_type": "code",
   "execution_count": 0,
   "metadata": {
    "colab": {},
    "colab_type": "code",
    "id": "rwvRk7rX9YS8"
   },
   "outputs": [],
   "source": [
    "# Parse and divide data\n",
    "train_data = data[\"train\"]\n",
    "val_data = data[\"val\"]\n",
    "test_data = data[\"test\"]\n",
    "\n",
    "x_train = train_data[:, :-1]\n",
    "y_train = train_data[:, -1]\n",
    "\n",
    "x_val = val_data[:, :-1]\n",
    "y_val = val_data[:, -1]\n",
    "\n",
    "x_test = test_data[:, :-1]\n",
    "y_test = test_data[:, -1]"
   ]
  },
  {
   "cell_type": "code",
   "execution_count": 0,
   "metadata": {
    "colab": {},
    "colab_type": "code",
    "id": "T55sgV4nG5NT"
   },
   "outputs": [],
   "source": [
    "# Generators\n",
    "training_set = MosquitoDataTemperature(x_train, y_train,\n",
    "                                    device=device, scaler=scaler)\n",
    "training_generator = torch.utils.data.DataLoader(training_set, **params, \n",
    "                                                 pin_memory=True)\n",
    "\n",
    "val_set = MosquitoDataTemperature(x_val, y_val,\n",
    "                                device=device, scaler=scaler)\n",
    "\n",
    "val_generator = torch.utils.data.DataLoader(val_set, **params, \n",
    "                                             pin_memory=True)\n",
    "\n",
    "#sc Generate some example data\n",
    "temp_generator = torch.utils.data.DataLoader(training_set, **params)\n",
    "\n",
    "for (local_batch, local_labels) in temp_generator:\n",
    "    example_x = local_batch\n",
    "    example_y = local_labels\n",
    "    break\n"
   ]
  },
  {
   "cell_type": "markdown",
   "metadata": {
    "colab_type": "text",
    "id": "tnSGKM51G5NZ"
   },
   "source": [
    "# Load model"
   ]
  },
  {
   "cell_type": "code",
   "execution_count": 0,
   "metadata": {
    "code_folding": [],
    "colab": {},
    "colab_type": "code",
    "id": "i-4jOwGaG5Nb"
   },
   "outputs": [],
   "source": [
    "from src.models.BasicMosquitoNet2 import BasicMosquitoNet"
   ]
  },
  {
   "cell_type": "code",
   "execution_count": 0,
   "metadata": {
    "colab": {},
    "colab_type": "code",
    "id": "edH67jDzG5Nf"
   },
   "outputs": [],
   "source": [
    "# create your optimizer\n",
    "net = BasicMosquitoNet()\n",
    "#net.load_state_dict(torch.load(BASE_DIR + \n",
    "#f\"runs/colab/{COLAB_IDX-1}/model_epoch_90.pt\"))\n",
    "criterion = nn.BCEWithLogitsLoss()\n",
    "optimizer = optim.SGD(net.parameters(), lr=0.1, momentum=0.9)\n",
    "\n",
    "if device.type == \"cuda\":\n",
    "    net.cuda()"
   ]
  },
  {
   "cell_type": "code",
   "execution_count": 0,
   "metadata": {
    "colab": {
     "base_uri": "https://localhost:8080/",
     "height": 330
    },
    "colab_type": "code",
    "id": "OAmDeYoqG5Nj",
    "outputId": "a5b2fa64-994c-4a08-87ba-4451648bba9c"
   },
   "outputs": [
    {
     "name": "stdout",
     "output_type": "stream",
     "text": [
      "----------------------------------------------------------------\n",
      "        Layer (type)               Output Shape         Param #\n",
      "================================================================\n",
      "            Conv1d-1             [-1, 64, 7309]           8,256\n",
      "       BatchNorm1d-2             [-1, 64, 7309]             128\n",
      "            Conv1d-3             [-1, 32, 3527]         262,176\n",
      "       BatchNorm1d-4             [-1, 32, 3527]              64\n",
      "            Linear-5                    [-1, 1]          56,417\n",
      "================================================================\n",
      "Total params: 327,041\n",
      "Trainable params: 327,041\n",
      "Non-trainable params: 0\n",
      "----------------------------------------------------------------\n",
      "Input size (MB): 0.08\n",
      "Forward/backward pass size (MB): 8.86\n",
      "Params size (MB): 1.25\n",
      "Estimated Total Size (MB): 10.19\n",
      "----------------------------------------------------------------\n"
     ]
    }
   ],
   "source": [
    "summary(net, input_size=example_x.shape[1:])"
   ]
  },
  {
   "cell_type": "markdown",
   "metadata": {
    "colab_type": "text",
    "id": "fVoQ1CdUG5No"
   },
   "source": [
    "# Start tensorboard"
   ]
  },
  {
   "cell_type": "code",
   "execution_count": 0,
   "metadata": {
    "colab": {},
    "colab_type": "code",
    "id": "7PLsosnUG5Nq"
   },
   "outputs": [],
   "source": [
    "from torch.utils.tensorboard import SummaryWriter\n",
    "save_path =  BASE_DIR + f\"runs/colab/{TEMPERATURE}/{COLAB_IDX}/\"\n",
    "    \n",
    "# default `log_dir` is \"runs\" - we'll be more specific here\n",
    "writer = SummaryWriter(save_path, max_queue=3)"
   ]
  },
  {
   "cell_type": "markdown",
   "metadata": {
    "colab_type": "text",
    "id": "lvnnGZpPG5Nv"
   },
   "source": [
    "# train function"
   ]
  },
  {
   "cell_type": "code",
   "execution_count": 0,
   "metadata": {
    "colab": {},
    "colab_type": "code",
    "id": "IMW87OFnG5Nx"
   },
   "outputs": [],
   "source": [
    "# Simple train function\n",
    "\n",
    "def train(net, optimizer, max_epochs, testing=False, testing_idx=0, \n",
    "          save_idx=1, save_path=\"\"):\n",
    "    # Loop over epochs\n",
    "    last_test_loss = 0\n",
    "    for epoch in range(max_epochs):\n",
    "        # Training\n",
    "        cumulative_train_loss = 0\n",
    "        cumulative_train_acc = 0\n",
    "        amount_train_samples = 0\n",
    "\n",
    "        for idx, (local_batch, local_labels) in enumerate(training_generator):\n",
    "            amount_train_samples += len(local_batch)\n",
    "            local_batch, local_labels = util.convert_cuda(local_batch, \n",
    "                                                         local_labels,\n",
    "                                                         device)\n",
    "\n",
    "            optimizer.zero_grad()   # zero the gradient buffers\n",
    "            output = net(local_batch)\n",
    "            loss = criterion(output, local_labels)\n",
    "            cumulative_train_loss += loss.data.item()\n",
    "            loss.backward()\n",
    "            optimizer.step()    # Does the update\n",
    "\n",
    "            # Stores loss\n",
    "            pred = output >= 0.5\n",
    "            cumulative_train_acc += pred.float().eq(local_labels).sum().data.item()\n",
    "            \n",
    "            if testing and idx == testing_idx:\n",
    "                    break\n",
    "        \n",
    "        cumulative_train_loss /= (idx+1)\n",
    "        cumulative_train_acc /= amount_train_samples\n",
    "        writer.add_scalar(\"Train Loss\", cumulative_train_loss, epoch)\n",
    "        writer.add_scalar(\"Train Acc\", cumulative_train_acc, epoch)\n",
    "\n",
    "        # Validation\n",
    "        with torch.set_grad_enabled(False):\n",
    "            cumulative_test_loss = 0\n",
    "            cumulative_test_acc = 0\n",
    "            amount_test_samples = 0\n",
    "            \n",
    "            for idx, (local_batch, local_labels) in enumerate(val_generator):\n",
    "                amount_test_samples += len(local_batch)\n",
    "                local_batch, local_labels = util.convert_cuda(local_batch, \n",
    "                                                 local_labels,\n",
    "                                                 device)\n",
    "\n",
    "                output = net(local_batch)\n",
    "                loss = criterion(output, local_labels)\n",
    "                cumulative_test_loss += loss.data.item()\n",
    "                \n",
    "                # Stores loss\n",
    "                pred = output >= 0.5\n",
    "                cumulative_test_acc += pred.float().eq(local_labels).sum().data.item()\n",
    "\n",
    "                if testing:\n",
    "                    break\n",
    "                \n",
    "            cumulative_test_loss /= (idx+1)\n",
    "            cumulative_test_acc /= amount_test_samples\n",
    "            writer.add_scalar(\"Val Loss\", cumulative_test_loss, epoch)\n",
    "            writer.add_scalar(\"Val Acc\", cumulative_test_acc, epoch)\n",
    "        torch.save(net.state_dict(), save_path + f\"model_epoch_{epoch}.pt\")\n",
    "            \n",
    "    writer.close()\n",
    "    return cumulative_test_loss"
   ]
  },
  {
   "cell_type": "code",
   "execution_count": 0,
   "metadata": {
    "colab": {},
    "colab_type": "code",
    "id": "pE3LS4edG5N7"
   },
   "outputs": [],
   "source": [
    "%%time\n",
    "train(net, optimizer, 150, testing=TESTING, save_path=save_path)"
   ]
  },
  {
   "cell_type": "code",
   "execution_count": 0,
   "metadata": {
    "colab": {},
    "colab_type": "code",
    "id": "u0c6gpsAKBsO"
   },
   "outputs": [],
   "source": [
    "print(start_time)\n",
    "print(time.time() - start_time)"
   ]
  },
  {
   "cell_type": "code",
   "execution_count": 0,
   "metadata": {
    "colab": {},
    "colab_type": "code",
    "id": "hpnjOgyI5F-Z"
   },
   "outputs": [],
   "source": []
  }
 ],
 "metadata": {
  "accelerator": "GPU",
  "colab": {
   "collapsed_sections": [],
   "include_colab_link": true,
   "name": "Copy of 0.9-BrunoGomesCoelho-Actual-Colab experiment.ipynb",
   "provenance": []
  },
  "kernelspec": {
   "display_name": "mosquito-networking",
   "language": "python",
   "name": "mosquito-networking"
  },
  "language_info": {
   "codemirror_mode": {
    "name": "ipython",
    "version": 3
   },
   "file_extension": ".py",
   "mimetype": "text/x-python",
   "name": "python",
   "nbconvert_exporter": "python",
   "pygments_lexer": "ipython3",
   "version": "3.6.5rc1"
  },
  "toc": {
   "base_numbering": 1,
   "nav_menu": {},
   "number_sections": true,
   "sideBar": true,
   "skip_h1_title": false,
   "title_cell": "Table of Contents",
   "title_sidebar": "Contents",
   "toc_cell": false,
   "toc_position": {},
   "toc_section_display": true,
   "toc_window_display": false
  }
 },
 "nbformat": 4,
 "nbformat_minor": 1
}
