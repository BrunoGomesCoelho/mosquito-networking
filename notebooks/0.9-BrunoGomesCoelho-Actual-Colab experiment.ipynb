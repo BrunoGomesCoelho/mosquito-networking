{
  "nbformat": 4,
  "nbformat_minor": 0,
  "metadata": {
    "kernelspec": {
      "display_name": "mosquito-networking",
      "language": "python",
      "name": "mosquito-networking"
    },
    "language_info": {
      "codemirror_mode": {
        "name": "ipython",
        "version": 3
      },
      "file_extension": ".py",
      "mimetype": "text/x-python",
      "name": "python",
      "nbconvert_exporter": "python",
      "pygments_lexer": "ipython3",
      "version": "3.6.5rc1"
    },
    "toc": {
      "base_numbering": 1,
      "nav_menu": {},
      "number_sections": true,
      "sideBar": true,
      "skip_h1_title": false,
      "title_cell": "Table of Contents",
      "title_sidebar": "Contents",
      "toc_cell": false,
      "toc_position": {},
      "toc_section_display": true,
      "toc_window_display": false
    },
    "colab": {
      "name": "0.9-BrunoGomesCoelho-Actual-Colab experiment.ipynb",
      "provenance": [],
      "collapsed_sections": [],
      "toc_visible": true,
      "include_colab_link": true
    },
    "accelerator": "GPU"
  },
  "cells": [
    {
      "cell_type": "markdown",
      "metadata": {
        "id": "view-in-github",
        "colab_type": "text"
      },
      "source": [
        "<a href=\"https://colab.research.google.com/github/BrunoGomesCoelho/mosquito-networking/blob/master/notebooks/0.9-BrunoGomesCoelho-Actual-Colab%20experiment.ipynb\" target=\"_parent\"><img src=\"https://colab.research.google.com/assets/colab-badge.svg\" alt=\"Open In Colab\"/></a>"
      ]
    },
    {
      "cell_type": "code",
      "metadata": {
        "id": "3g_a6iLcO1xR",
        "colab_type": "code",
        "colab": {}
      },
      "source": [
        "COLAB_IDX = 1"
      ],
      "execution_count": 0,
      "outputs": []
    },
    {
      "cell_type": "code",
      "metadata": {
        "id": "RRfnZPSUG5MA",
        "colab_type": "code",
        "colab": {}
      },
      "source": [
        "TESTING = True\n",
        "COLAB = True\n",
        "\n",
        "if COLAB:\n",
        "    BASE_DIR = \"/content/drive/My Drive/IC/mosquito-networking/\"\n",
        "else:\n",
        "    BASE_DIR = \"../\""
      ],
      "execution_count": 0,
      "outputs": []
    },
    {
      "cell_type": "code",
      "metadata": {
        "id": "AGLeMtFkG5MQ",
        "colab_type": "code",
        "outputId": "7b08fa28-cd30-457f-87b3-6b5ceedd5d0f",
        "colab": {
          "base_uri": "https://localhost:8080/",
          "height": 124
        }
      },
      "source": [
        "from google.colab import drive\n",
        "drive.mount('/content/drive')\n"
      ],
      "execution_count": 3,
      "outputs": [
        {
          "output_type": "stream",
          "text": [
            "Go to this URL in a browser: https://accounts.google.com/o/oauth2/auth?client_id=947318989803-6bn6qk8qdgf4n4g3pfee6491hc0brc4i.apps.googleusercontent.com&redirect_uri=urn%3Aietf%3Awg%3Aoauth%3A2.0%3Aoob&scope=email%20https%3A%2F%2Fwww.googleapis.com%2Fauth%2Fdocs.test%20https%3A%2F%2Fwww.googleapis.com%2Fauth%2Fdrive%20https%3A%2F%2Fwww.googleapis.com%2Fauth%2Fdrive.photos.readonly%20https%3A%2F%2Fwww.googleapis.com%2Fauth%2Fpeopleapi.readonly&response_type=code\n",
            "\n",
            "Enter your authorization code:\n",
            "··········\n",
            "Mounted at /content/drive\n"
          ],
          "name": "stdout"
        }
      ]
    },
    {
      "cell_type": "code",
      "metadata": {
        "id": "RCABbANbG5Ma",
        "colab_type": "code",
        "colab": {}
      },
      "source": [
        "import sys\n",
        "sys.path.append(\"/content/drive/My Drive/IC/mosquito-networking/\")"
      ],
      "execution_count": 0,
      "outputs": []
    },
    {
      "cell_type": "code",
      "metadata": {
        "id": "3JUG_aW2H7lf",
        "colab_type": "code",
        "outputId": "e80ce0b2-6fe9-4e7d-e489-38c522fb58d6",
        "colab": {
          "base_uri": "https://localhost:8080/",
          "height": 173
        }
      },
      "source": [
        "!python3 -m pip install -qr \"/content/drive/My Drive/IC/mosquito-networking/drive_requirements.txt\""
      ],
      "execution_count": 5,
      "outputs": [
        {
          "output_type": "stream",
          "text": [
            "\u001b[K     |████████████████████████████████| 2.1MB 44.6MB/s \n",
            "\u001b[K     |████████████████████████████████| 71kB 20.2MB/s \n",
            "\u001b[K     |████████████████████████████████| 122kB 72.9MB/s \n",
            "\u001b[K     |████████████████████████████████| 5.7MB 50.6MB/s \n",
            "\u001b[K     |████████████████████████████████| 51kB 28.4MB/s \n",
            "\u001b[K     |████████████████████████████████| 61kB 33.4MB/s \n",
            "\u001b[K     |████████████████████████████████| 51kB 5.9MB/s \n",
            "\u001b[?25h  Building wheel for autopep8 (setup.py) ... \u001b[?25l\u001b[?25hdone\n",
            "  Building wheel for jupyter-tensorboard (setup.py) ... \u001b[?25l\u001b[?25hdone\n"
          ],
          "name": "stdout"
        }
      ]
    },
    {
      "cell_type": "markdown",
      "metadata": {
        "id": "29syQKBqG5Ml",
        "colab_type": "text"
      },
      "source": [
        "\n",
        "\n",
        "- - - \n",
        "\n",
        "<br>\n",
        "<br>\n",
        "<br>\n",
        "<br>\n",
        "<br>\n",
        "<br>\n",
        "<br>\n",
        "<br>\n",
        "<br>\n",
        "<br>\n",
        "<br>\n",
        "<br>"
      ]
    },
    {
      "cell_type": "markdown",
      "metadata": {
        "id": "QkVEAZdhG5Mn",
        "colab_type": "text"
      },
      "source": [
        "# Trying out a full pytorch experiment, with tensorboard, // processing, etc"
      ]
    },
    {
      "cell_type": "code",
      "metadata": {
        "id": "S-UqU8J3G5Mp",
        "colab_type": "code",
        "colab": {}
      },
      "source": [
        "# OPTIONAL: Load the \"autoreload\" extension so that code can change\n",
        "#%load_ext autoreload\n",
        "\n",
        "# OPTIONAL: always reload modules so that as you change code in src, it gets loaded\n",
        "#%autoreload 2\n",
        "\n",
        "import numpy as np\n",
        "import pandas as pd\n",
        "from src.data import make_dataset\n",
        "from src.data import read_dataset\n",
        "from src.data import util\n",
        "from src.data.colab_dataset import MosquitoDatasetColab\n",
        "import joblib\n",
        "\n",
        "from torchsummary import summary\n",
        "\n",
        "import matplotlib.pyplot as plt\n",
        "import seaborn as sns\n",
        "sns.set()"
      ],
      "execution_count": 0,
      "outputs": []
    },
    {
      "cell_type": "markdown",
      "metadata": {
        "id": "8qJ96Nw-G5Mx",
        "colab_type": "text"
      },
      "source": [
        "# Experiment params"
      ]
    },
    {
      "cell_type": "code",
      "metadata": {
        "id": "VTHyGYcfG5M5",
        "colab_type": "code",
        "colab": {}
      },
      "source": [
        "# Parameters\n",
        "params = {'batch_size': 32,\n",
        "          'shuffle': True,\n",
        "          'num_workers': 0}\n",
        "max_epochs = 1\n",
        "\n",
        "if TESTING:\n",
        "    params[\"num_workers\"] = 0\n",
        "\n",
        "version = !python3 --version\n",
        "version = version[0].split(\".\")[1]\n",
        "\n",
        "if int(version) < 7 and params[\"num_workers\"]:\n",
        "    print(\"WARNING\\n\"*10)\n",
        "    print(\"Parallel execution only works for python3.7 or above!\")\n",
        "    print(\"Running in parallel with other versions is not guaranted to work\")\n",
        "    print(\"See https://discuss.pytorch.org/t/valueerror-signal-number-32-out-of-range-when-loading-data-with-num-worker-0/39615/2\")"
      ],
      "execution_count": 0,
      "outputs": []
    },
    {
      "cell_type": "code",
      "metadata": {
        "id": "FlKDTQKJG5M9",
        "colab_type": "code",
        "outputId": "be638e42-c760-4916-88ea-96a1b014f294",
        "colab": {
          "base_uri": "https://localhost:8080/",
          "height": 34
        }
      },
      "source": [
        "## Load gpu or cpu\n",
        "import torch\n",
        "import torch.nn as nn\n",
        "import torch.nn.functional as F\n",
        "import torch.optim as optim\n",
        "\n",
        "device = torch.device(\"cuda:0\" if torch.cuda.is_available() else \"cpu\")\n",
        "print(f\"Using device {device}\")"
      ],
      "execution_count": 8,
      "outputs": [
        {
          "output_type": "stream",
          "text": [
            "Using device cuda:0\n"
          ],
          "name": "stdout"
        }
      ]
    },
    {
      "cell_type": "markdown",
      "metadata": {
        "id": "7lUKEmIlG5NG",
        "colab_type": "text"
      },
      "source": [
        "# load data"
      ]
    },
    {
      "cell_type": "code",
      "metadata": {
        "id": "ZXUOOiHcG5NJ",
        "colab_type": "code",
        "colab": {}
      },
      "source": [
        "# Load scaler\n",
        "#scaler = joblib.load(\"../data/interim/scaler.pkl\")\n",
        "scaler = joblib.load(BASE_DIR + \"data/interim/scaler.pkl\")"
      ],
      "execution_count": 0,
      "outputs": []
    },
    {
      "cell_type": "code",
      "metadata": {
        "id": "H3finABn5VMo",
        "colab_type": "code",
        "colab": {}
      },
      "source": [
        "data = np.load(BASE_DIR + \"data/interim/all_wavs.npy\", allow_pickle=True)\n",
        "data = data[data[:, -1].argsort()]"
      ],
      "execution_count": 0,
      "outputs": []
    },
    {
      "cell_type": "code",
      "metadata": {
        "id": "TxLY1YI8G5NO",
        "colab_type": "code",
        "colab": {}
      },
      "source": [
        "df = pd.read_csv(BASE_DIR + \"data/interim/file_names.csv\")\n",
        "df.sort_values(\"original_name\", inplace=True)"
      ],
      "execution_count": 0,
      "outputs": []
    },
    {
      "cell_type": "code",
      "metadata": {
        "id": "e2QTmUB65ynK",
        "colab_type": "code",
        "colab": {}
      },
      "source": [
        "errors = (df[\"original_name\"].values != data[:, -1]).sum()\n",
        "if errors:\n",
        "    print(f\"We have {errors} errors!\")\n",
        "    raise ValueError(\"Error in WAV/CSV\")"
      ],
      "execution_count": 0,
      "outputs": []
    },
    {
      "cell_type": "code",
      "metadata": {
        "id": "rwvRk7rX9YS8",
        "colab_type": "code",
        "colab": {}
      },
      "source": [
        "x = data[:, 0]\n",
        "y = df[\"label\"]\n",
        "\n",
        "train_idx = df[\"training\"] == 1"
      ],
      "execution_count": 0,
      "outputs": []
    },
    {
      "cell_type": "code",
      "metadata": {
        "id": "T55sgV4nG5NT",
        "colab_type": "code",
        "colab": {}
      },
      "source": [
        "# Generators\n",
        "training_set = MosquitoDatasetColab(x[train_idx], y[train_idx].values,\n",
        "                                    device=device, scaler=scaler)\n",
        "training_generator = torch.utils.data.DataLoader(training_set, **params, \n",
        "                                                 pin_memory=True)\n",
        "\n",
        "test_set = MosquitoDatasetColab(x[~train_idx], y[~train_idx].values,\n",
        "                                device=device, scaler=scaler)\n",
        "\n",
        "                                   \n",
        "test_generator = torch.utils.data.DataLoader(test_set, **params, \n",
        "                                             pin_memory=True)\n",
        "\n",
        "#sc Generate some example data\n",
        "temp_generator = torch.utils.data.DataLoader(training_set, **params)\n",
        "\n",
        "for (local_batch, local_labels) in temp_generator:\n",
        "    example_x = local_batch\n",
        "    example_y = local_labels\n",
        "    break\n"
      ],
      "execution_count": 0,
      "outputs": []
    },
    {
      "cell_type": "markdown",
      "metadata": {
        "id": "tnSGKM51G5NZ",
        "colab_type": "text"
      },
      "source": [
        "# Load model"
      ]
    },
    {
      "cell_type": "code",
      "metadata": {
        "code_folding": [],
        "id": "i-4jOwGaG5Nb",
        "colab_type": "code",
        "colab": {}
      },
      "source": [
        "from src.models.BasicMosquitoNet import BasicMosquitoNet"
      ],
      "execution_count": 0,
      "outputs": []
    },
    {
      "cell_type": "code",
      "metadata": {
        "id": "edH67jDzG5Nf",
        "colab_type": "code",
        "colab": {}
      },
      "source": [
        "# create your optimizer\n",
        "net = BasicMosquitoNet()\n",
        "criterion = nn.BCEWithLogitsLoss()\n",
        "optimizer = optim.SGD(net.parameters(), lr=0.01, momentum=0.9)\n",
        "\n",
        "if device.type == \"cuda\":\n",
        "    net.cuda()"
      ],
      "execution_count": 0,
      "outputs": []
    },
    {
      "cell_type": "code",
      "metadata": {
        "id": "OAmDeYoqG5Nj",
        "colab_type": "code",
        "outputId": "5178f065-48d9-4227-93e4-d55b10b1f597",
        "colab": {
          "base_uri": "https://localhost:8080/",
          "height": 295
        }
      },
      "source": [
        "summary(net, input_size=example_x.shape[1:])"
      ],
      "execution_count": 17,
      "outputs": [
        {
          "output_type": "stream",
          "text": [
            "----------------------------------------------------------------\n",
            "        Layer (type)               Output Shape         Param #\n",
            "================================================================\n",
            "            Conv1d-1            [-1, 100, 7309]          12,900\n",
            "            Conv1d-2            [-1, 100, 3527]       1,280,100\n",
            "            Linear-3                    [-1, 1]         176,301\n",
            "================================================================\n",
            "Total params: 1,469,301\n",
            "Trainable params: 1,469,301\n",
            "Non-trainable params: 0\n",
            "----------------------------------------------------------------\n",
            "Input size (MB): 0.08\n",
            "Forward/backward pass size (MB): 8.27\n",
            "Params size (MB): 5.60\n",
            "Estimated Total Size (MB): 13.96\n",
            "----------------------------------------------------------------\n"
          ],
          "name": "stdout"
        }
      ]
    },
    {
      "cell_type": "markdown",
      "metadata": {
        "id": "fVoQ1CdUG5No",
        "colab_type": "text"
      },
      "source": [
        "# Start tensorboard"
      ]
    },
    {
      "cell_type": "markdown",
      "metadata": {
        "id": "IkL_mdIXG5Np",
        "colab_type": "text"
      },
      "source": [
        "Run in our terminal: \n",
        "\n",
        "`cd notebooks`\n",
        "\n",
        "`tensorboard --logdir runs`"
      ]
    },
    {
      "cell_type": "code",
      "metadata": {
        "id": "7PLsosnUG5Nq",
        "colab_type": "code",
        "colab": {}
      },
      "source": [
        "from torch.utils.tensorboard import SummaryWriter\n",
        "save_path = BASE_DIR + f\"runs/colab/{COLAB_IDX}/\"\n",
        "    \n",
        "# default `log_dir` is \"runs\" - we'll be more specific here\n",
        "writer = SummaryWriter(save_path)"
      ],
      "execution_count": 0,
      "outputs": []
    },
    {
      "cell_type": "markdown",
      "metadata": {
        "id": "lvnnGZpPG5Nv",
        "colab_type": "text"
      },
      "source": [
        "# train function"
      ]
    },
    {
      "cell_type": "code",
      "metadata": {
        "id": "IMW87OFnG5Nx",
        "colab_type": "code",
        "colab": {}
      },
      "source": [
        "# Simple train function\n",
        "\n",
        "def train(net, optimizer, max_epochs, testing=False, testing_idx=0, \n",
        "          save_idx=1, save_path=\"\"):\n",
        "    # Loop over epochs\n",
        "    last_test_loss = 0\n",
        "    for epoch in range(max_epochs):\n",
        "        # Training\n",
        "        cumulative_train_loss = 0\n",
        "        for idx, (local_batch, local_labels) in enumerate(training_generator):\n",
        "            local_batch, local_labels = util.convert_cuda(local_batch, \n",
        "                                                         local_labels,\n",
        "                                                         device)\n",
        "\n",
        "            optimizer.zero_grad()   # zero the gradient buffers\n",
        "            output = net(local_batch)\n",
        "            loss = criterion(output, local_labels)\n",
        "            cumulative_train_loss += loss.data.item()\n",
        "            loss.backward()\n",
        "            optimizer.step()    # Does the update\n",
        "            \n",
        "            if testing and idx == testing_idx:\n",
        "                    break\n",
        "        \n",
        "        cumulative_train_loss /= (idx+1)\n",
        "        writer.add_scalar(\"Train Loss\", cumulative_train_loss, idx)\n",
        "\n",
        "        # Validation\n",
        "        with torch.set_grad_enabled(False):\n",
        "            cumulative_test_loss = 0\n",
        "            \n",
        "            for idx, (local_batch, local_labels) in enumerate(training_generator):\n",
        "                local_batch, local_labels = util.convert_cuda(local_batch, \n",
        "                                                 local_labels,\n",
        "                                                 device)\n",
        "                output = net(local_batch)\n",
        "                loss = criterion(output, local_labels)\n",
        "                cumulative_test_loss += loss.data.item()\n",
        "                if testing:\n",
        "                    break\n",
        "                \n",
        "            cumulative_test_loss /= (idx+1)\n",
        "            writer.add_scalar(\"Test Loss\", cumulative_test_loss, idx)\n",
        "\n",
        "        torch.save(net.state_dict(), save_path + f\"model_epoch_{epoch}.pt\")\n",
        "            \n",
        "    writer.close()\n",
        "    return cumulative_test_loss"
      ],
      "execution_count": 0,
      "outputs": []
    },
    {
      "cell_type": "code",
      "metadata": {
        "id": "GyYUS6LKG5N1",
        "colab_type": "code",
        "outputId": "3961cb32-0a1d-4369-8404-fdb85c98741f",
        "colab": {
          "base_uri": "https://localhost:8080/",
          "height": 69
        }
      },
      "source": [
        "%%time\n",
        "train(net, optimizer, 1, testing=TESTING,)"
      ],
      "execution_count": 38,
      "outputs": [
        {
          "output_type": "stream",
          "text": [
            "CPU times: user 230 ms, sys: 155 ms, total: 385 ms\n",
            "Wall time: 394 ms\n"
          ],
          "name": "stdout"
        },
        {
          "output_type": "execute_result",
          "data": {
            "text/plain": [
              "0.6913989782333374"
            ]
          },
          "metadata": {
            "tags": []
          },
          "execution_count": 38
        }
      ]
    },
    {
      "cell_type": "code",
      "metadata": {
        "id": "pE3LS4edG5N7",
        "colab_type": "code",
        "colab": {
          "base_uri": "https://localhost:8080/",
          "height": 69
        },
        "outputId": "09256a19-1e63-489c-cfcf-bda3d9431fe4"
      },
      "source": [
        "%%time\n",
        "train(net, optimizer, 5, testing=True, save_path=save_path)"
      ],
      "execution_count": 39,
      "outputs": [
        {
          "output_type": "stream",
          "text": [
            "CPU times: user 844 ms, sys: 526 ms, total: 1.37 s\n",
            "Wall time: 1.46 s\n"
          ],
          "name": "stdout"
        },
        {
          "output_type": "execute_result",
          "data": {
            "text/plain": [
              "0.6964643001556396"
            ]
          },
          "metadata": {
            "tags": []
          },
          "execution_count": 39
        }
      ]
    },
    {
      "cell_type": "code",
      "metadata": {
        "colab_type": "code",
        "id": "t1qFeUUsAQcu",
        "colab": {}
      },
      "source": [
        "import time\n",
        "start_time = time.time()\n",
        "train(net, optimizer, 1, testing=False)"
      ],
      "execution_count": 0,
      "outputs": []
    },
    {
      "cell_type": "code",
      "metadata": {
        "id": "G8IlZ1xDARn7",
        "colab_type": "code",
        "colab": {}
      },
      "source": [
        "print(time.time()-start_time)"
      ],
      "execution_count": 0,
      "outputs": []
    },
    {
      "cell_type": "code",
      "metadata": {
        "id": "uiswCOZwDRSs",
        "colab_type": "code",
        "colab": {}
      },
      "source": [
        "# So we have ~8 min = 470 / 60 = \n",
        "470 / 60"
      ],
      "execution_count": 0,
      "outputs": []
    },
    {
      "cell_type": "code",
      "metadata": {
        "id": "u0c6gpsAKBsO",
        "colab_type": "code",
        "colab": {}
      },
      "source": [
        ""
      ],
      "execution_count": 0,
      "outputs": []
    }
  ]
}