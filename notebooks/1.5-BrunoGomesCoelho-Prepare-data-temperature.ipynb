{
 "cells": [
  {
   "cell_type": "markdown",
   "metadata": {},
   "source": [
    "# Calculate the values to be used for normalization the entire training data\n",
    "\n",
    "We need to looad it all into memory unfortunately\n",
    "\n",
    "We calculate 1 mean per temperature and save it"
   ]
  },
  {
   "cell_type": "code",
   "execution_count": 1,
   "metadata": {},
   "outputs": [],
   "source": [
    "# OPTIONAL: Load the \"autoreload\" extension so that code can change\n",
    "#%load_ext autoreload\n",
    "\n",
    "# OPTIONAL: always reload modules so that as you change code in src, it gets loaded\n",
    "#%autoreload 2\n",
    "\n",
    "import numpy as np\n",
    "import pandas as pd\n",
    "from sklearn.preprocessing import StandardScaler\n",
    "from sklearn.model_selection import train_test_split\n",
    "from joblib import dump, load\n",
    "\n",
    "from src.data import make_dataset\n",
    "from src.data import read_dataset\n",
    "from src.data import util\n",
    "\n",
    "import matplotlib.pyplot as plt\n",
    "import seaborn as sns\n",
    "sns.set()"
   ]
  },
  {
   "cell_type": "code",
   "execution_count": 4,
   "metadata": {
    "scrolled": true
   },
   "outputs": [],
   "source": [
    "from src.data.read_dataset import read_temperature\n",
    "\n",
    "def make_temperatures(testing=False):\n",
    "    num_cols = [x for x in range(22050)]\n",
    "    save_cols = num_cols + [\"label\"]\n",
    "    \n",
    "    for i in range(2, 8):\n",
    "        temperature = f\"t0{i}\"\n",
    "        df = read_temperature(temperature)\n",
    "\n",
    "        train_idx = df[\"training\"] == 1  # get train data\n",
    "        train_data = df.loc[train_idx]\n",
    "        test_data = df.loc[~train_idx]\n",
    "\n",
    "        train_data, val_data = train_test_split(train_data, test_size=0.2)\n",
    "        \n",
    "        scaler = StandardScaler()\n",
    "        scaler.fit(train_data[num_cols])\n",
    "        dump(scaler, f\"../data/interim/scaler_{temperature}.pkl\")\n",
    "        \n",
    "        # Save the data as compressed numpy arrays\n",
    "        np.savez_compressed(f\"../data/interim/all_wavs_{temperature}\", \n",
    "                            train=train_data[save_cols].astype(int), \n",
    "                            val=val_data[save_cols].astype(int), \n",
    "                            test=test_data[save_cols].astype(int))"
   ]
  },
  {
   "cell_type": "code",
   "execution_count": 5,
   "metadata": {},
   "outputs": [],
   "source": [
    "make_temperatures()"
   ]
  },
  {
   "cell_type": "code",
   "execution_count": 80,
   "metadata": {},
   "outputs": [],
   "source": [
    "temp = np.load(\"../data/interim/all_wavs_t02.npz\", allow_pickle=True)[\"val\"]"
   ]
  },
  {
   "cell_type": "code",
   "execution_count": 81,
   "metadata": {},
   "outputs": [],
   "source": [
    "temp = temp[:, :-1]"
   ]
  },
  {
   "cell_type": "code",
   "execution_count": 82,
   "metadata": {},
   "outputs": [],
   "source": [
    "import joblib\n",
    "scaler = joblib.load(f\"../data/interim/scaler_t02.pkl\")"
   ]
  },
  {
   "cell_type": "code",
   "execution_count": 123,
   "metadata": {},
   "outputs": [],
   "source": [
    "example = scaler.transform(temp[0].reshape(1, -1))\n",
    "example = example.reshape(-1)\n",
    "example = example[:20]\n",
    "example[:5] = -1\n",
    "example[-5:] = +1"
   ]
  },
  {
   "cell_type": "code",
   "execution_count": 134,
   "metadata": {},
   "outputs": [
    {
     "name": "stdout",
     "output_type": "stream",
     "text": [
      "-1\n",
      "[-1. -1. -1. -1.  0.  0.  0.  0.  0.  0.  0.  0.  0.  0.  1.  1.  1.  1.\n",
      "  1.  0.]\n"
     ]
    }
   ],
   "source": [
    "sr = 22050\n",
    "roll_threshold = 0.1\n",
    "roll_idx = int(roll_threshold*sr)\n",
    "roll_idx = 2\n",
    "roll_offset = np.random.randint(-roll_idx, +roll_idx)\n",
    "left_extra = 0 if roll_offset <= 0 else roll_offset\n",
    "right_extra = 0 if roll_offset >= 0 else -roll_offset\n",
    "extra = ((left_extra),(right_extra))\n",
    "\n",
    "print(roll_offset)\n",
    "if roll_offset > 0:\n",
    "    print(np.pad(example, extra)[:-roll_offset])\n",
    "elif roll_offset < 0:\n",
    "    print(np.pad(example, extra)[-roll_offset:])"
   ]
  },
  {
   "cell_type": "code",
   "execution_count": null,
   "metadata": {},
   "outputs": [],
   "source": []
  },
  {
   "cell_type": "code",
   "execution_count": null,
   "metadata": {},
   "outputs": [],
   "source": []
  }
 ],
 "metadata": {
  "kernelspec": {
   "display_name": "mosquito-networking",
   "language": "python",
   "name": "mosquito-networking"
  },
  "language_info": {
   "codemirror_mode": {
    "name": "ipython",
    "version": 3
   },
   "file_extension": ".py",
   "mimetype": "text/x-python",
   "name": "python",
   "nbconvert_exporter": "python",
   "pygments_lexer": "ipython3",
   "version": "3.6.5rc1"
  },
  "notify_time": "30",
  "toc": {
   "base_numbering": 1,
   "nav_menu": {},
   "number_sections": true,
   "sideBar": true,
   "skip_h1_title": false,
   "title_cell": "Table of Contents",
   "title_sidebar": "Contents",
   "toc_cell": false,
   "toc_position": {},
   "toc_section_display": true,
   "toc_window_display": false
  }
 },
 "nbformat": 4,
 "nbformat_minor": 2
}
