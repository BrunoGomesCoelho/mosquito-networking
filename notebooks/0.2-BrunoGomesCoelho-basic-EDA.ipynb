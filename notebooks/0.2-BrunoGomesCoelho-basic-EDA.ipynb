{
 "cells": [
  {
   "cell_type": "markdown",
   "metadata": {},
   "source": []
  },
  {
   "cell_type": "code",
   "execution_count": 1,
   "metadata": {},
   "outputs": [],
   "source": [
    "import pandas as pd\n",
    "import numpy as np\n",
    "pd.set_option('display.max_columns', 50)\n",
    "\n",
    "import matplotlib.pyplot as plt\n",
    "%matplotlib inline\n",
    "plt.rcParams['figure.figsize'] = (10.0, 8.0) # set default size of plots\n",
    "import seaborn as sns\n",
    "sns.set()\n",
    "\n",
    "# OPTIONAL: Load the \"autoreload\" extension so that code can change\n",
    "%load_ext autoreload\n",
    "\n",
    "# OPTIONAL: always reload modules so that as you change code in src, it gets loaded\n",
    "%autoreload 2\n",
    "from src.data.read_dataset import read_all_csvs"
   ]
  },
  {
   "cell_type": "code",
   "execution_count": 2,
   "metadata": {},
   "outputs": [
    {
     "name": "stdout",
     "output_type": "stream",
     "text": [
      "(53830, 26)\n"
     ]
    },
    {
     "data": {
      "text/html": [
       "<div>\n",
       "<style scoped>\n",
       "    .dataframe tbody tr th:only-of-type {\n",
       "        vertical-align: middle;\n",
       "    }\n",
       "\n",
       "    .dataframe tbody tr th {\n",
       "        vertical-align: top;\n",
       "    }\n",
       "\n",
       "    .dataframe thead th {\n",
       "        text-align: right;\n",
       "    }\n",
       "</style>\n",
       "<table border=\"1\" class=\"dataframe\">\n",
       "  <thead>\n",
       "    <tr style=\"text-align: right;\">\n",
       "      <th></th>\n",
       "      <th>label</th>\n",
       "      <th>sensor_id</th>\n",
       "      <th>file</th>\n",
       "      <th>year</th>\n",
       "      <th>month</th>\n",
       "      <th>day</th>\n",
       "      <th>hour</th>\n",
       "      <th>min</th>\n",
       "      <th>sec</th>\n",
       "      <th>humidity</th>\n",
       "      <th>temperature</th>\n",
       "      <th>luminosity</th>\n",
       "      <th>altitude</th>\n",
       "      <th>air_pressure</th>\n",
       "      <th>wbf</th>\n",
       "      <th>complexity</th>\n",
       "      <th>peaks_freq_1</th>\n",
       "      <th>peaks_freq_2</th>\n",
       "      <th>peaks_freq_3</th>\n",
       "      <th>peaks_freq_4</th>\n",
       "      <th>peaks_freq_5</th>\n",
       "      <th>peaks_freq_6</th>\n",
       "      <th>inharmonicity</th>\n",
       "      <th>rho</th>\n",
       "      <th>rho_wbf</th>\n",
       "      <th>training</th>\n",
       "    </tr>\n",
       "  </thead>\n",
       "  <tbody>\n",
       "    <tr>\n",
       "      <td>0</td>\n",
       "      <td>1</td>\n",
       "      <td>S-ISCA</td>\n",
       "      <td>S-ISCA_C1_Aedes female-17-07-2017_1/009/263.wav</td>\n",
       "      <td>2017</td>\n",
       "      <td>7</td>\n",
       "      <td>16</td>\n",
       "      <td>1</td>\n",
       "      <td>29</td>\n",
       "      <td>31</td>\n",
       "      <td>82.2</td>\n",
       "      <td>32.2</td>\n",
       "      <td>0</td>\n",
       "      <td>283.8</td>\n",
       "      <td>98071.2</td>\n",
       "      <td>630.000000</td>\n",
       "      <td>0.101088</td>\n",
       "      <td>640.031362</td>\n",
       "      <td>174.882867</td>\n",
       "      <td>1285.605760</td>\n",
       "      <td>1901.109791</td>\n",
       "      <td>2498.769171</td>\n",
       "      <td>903.692371</td>\n",
       "      <td>852.170248</td>\n",
       "      <td>1.136137</td>\n",
       "      <td>715.766406</td>\n",
       "      <td>1.0</td>\n",
       "    </tr>\n",
       "    <tr>\n",
       "      <td>1</td>\n",
       "      <td>1</td>\n",
       "      <td>S-ISCA</td>\n",
       "      <td>S-ISCA_C2_Ae. aegypti Females 1/030/409.wav</td>\n",
       "      <td>2017</td>\n",
       "      <td>8</td>\n",
       "      <td>2</td>\n",
       "      <td>0</td>\n",
       "      <td>18</td>\n",
       "      <td>7</td>\n",
       "      <td>77.9</td>\n",
       "      <td>32.0</td>\n",
       "      <td>0</td>\n",
       "      <td>280.5</td>\n",
       "      <td>98108.3</td>\n",
       "      <td>531.325301</td>\n",
       "      <td>0.224806</td>\n",
       "      <td>555.793009</td>\n",
       "      <td>1112.718004</td>\n",
       "      <td>1637.186246</td>\n",
       "      <td>214.635467</td>\n",
       "      <td>132.680029</td>\n",
       "      <td>2151.962637</td>\n",
       "      <td>813.111519</td>\n",
       "      <td>1.138392</td>\n",
       "      <td>604.856552</td>\n",
       "      <td>1.0</td>\n",
       "    </tr>\n",
       "    <tr>\n",
       "      <td>2</td>\n",
       "      <td>1</td>\n",
       "      <td>S-ISCA</td>\n",
       "      <td>S-ISCA_C1_Aedes female-17-07-2017_1/009/334.wav</td>\n",
       "      <td>2017</td>\n",
       "      <td>7</td>\n",
       "      <td>16</td>\n",
       "      <td>4</td>\n",
       "      <td>14</td>\n",
       "      <td>19</td>\n",
       "      <td>82.9</td>\n",
       "      <td>32.2</td>\n",
       "      <td>0</td>\n",
       "      <td>289.6</td>\n",
       "      <td>98005.8</td>\n",
       "      <td>604.109589</td>\n",
       "      <td>0.219285</td>\n",
       "      <td>602.585260</td>\n",
       "      <td>1206.034901</td>\n",
       "      <td>1808.189594</td>\n",
       "      <td>169.315181</td>\n",
       "      <td>1039.594139</td>\n",
       "      <td>2501.189893</td>\n",
       "      <td>837.291757</td>\n",
       "      <td>1.135223</td>\n",
       "      <td>685.799085</td>\n",
       "      <td>1.0</td>\n",
       "    </tr>\n",
       "    <tr>\n",
       "      <td>3</td>\n",
       "      <td>1</td>\n",
       "      <td>S-ISCA</td>\n",
       "      <td>S-ISCA_C2_Ae. aegypti Females 1/017/017.wav</td>\n",
       "      <td>2017</td>\n",
       "      <td>7</td>\n",
       "      <td>28</td>\n",
       "      <td>18</td>\n",
       "      <td>38</td>\n",
       "      <td>39</td>\n",
       "      <td>74.9</td>\n",
       "      <td>32.7</td>\n",
       "      <td>6</td>\n",
       "      <td>289.5</td>\n",
       "      <td>98006.9</td>\n",
       "      <td>658.208955</td>\n",
       "      <td>0.061065</td>\n",
       "      <td>603.204472</td>\n",
       "      <td>171.281104</td>\n",
       "      <td>393.432048</td>\n",
       "      <td>1245.686466</td>\n",
       "      <td>1376.720576</td>\n",
       "      <td>1725.602073</td>\n",
       "      <td>616.744760</td>\n",
       "      <td>1.134593</td>\n",
       "      <td>746.799573</td>\n",
       "      <td>1.0</td>\n",
       "    </tr>\n",
       "    <tr>\n",
       "      <td>4</td>\n",
       "      <td>1</td>\n",
       "      <td>S-ISCA</td>\n",
       "      <td>S-ISCA_C2_Ae. aegypti Females 1/034/252.wav</td>\n",
       "      <td>2017</td>\n",
       "      <td>8</td>\n",
       "      <td>4</td>\n",
       "      <td>21</td>\n",
       "      <td>17</td>\n",
       "      <td>4</td>\n",
       "      <td>76.7</td>\n",
       "      <td>32.4</td>\n",
       "      <td>0</td>\n",
       "      <td>279.9</td>\n",
       "      <td>98115.8</td>\n",
       "      <td>495.505618</td>\n",
       "      <td>0.240299</td>\n",
       "      <td>512.479779</td>\n",
       "      <td>91.419255</td>\n",
       "      <td>991.708437</td>\n",
       "      <td>1504.997734</td>\n",
       "      <td>302.777490</td>\n",
       "      <td>1936.867124</td>\n",
       "      <td>722.437621</td>\n",
       "      <td>1.136877</td>\n",
       "      <td>563.329010</td>\n",
       "      <td>1.0</td>\n",
       "    </tr>\n",
       "  </tbody>\n",
       "</table>\n",
       "</div>"
      ],
      "text/plain": [
       "   label sensor_id                                             file  year  \\\n",
       "0      1    S-ISCA  S-ISCA_C1_Aedes female-17-07-2017_1/009/263.wav  2017   \n",
       "1      1    S-ISCA      S-ISCA_C2_Ae. aegypti Females 1/030/409.wav  2017   \n",
       "2      1    S-ISCA  S-ISCA_C1_Aedes female-17-07-2017_1/009/334.wav  2017   \n",
       "3      1    S-ISCA      S-ISCA_C2_Ae. aegypti Females 1/017/017.wav  2017   \n",
       "4      1    S-ISCA      S-ISCA_C2_Ae. aegypti Females 1/034/252.wav  2017   \n",
       "\n",
       "   month  day  hour  min  sec  humidity  temperature  luminosity  altitude  \\\n",
       "0      7   16     1   29   31      82.2         32.2           0     283.8   \n",
       "1      8    2     0   18    7      77.9         32.0           0     280.5   \n",
       "2      7   16     4   14   19      82.9         32.2           0     289.6   \n",
       "3      7   28    18   38   39      74.9         32.7           6     289.5   \n",
       "4      8    4    21   17    4      76.7         32.4           0     279.9   \n",
       "\n",
       "   air_pressure         wbf  complexity  peaks_freq_1  peaks_freq_2  \\\n",
       "0       98071.2  630.000000    0.101088    640.031362    174.882867   \n",
       "1       98108.3  531.325301    0.224806    555.793009   1112.718004   \n",
       "2       98005.8  604.109589    0.219285    602.585260   1206.034901   \n",
       "3       98006.9  658.208955    0.061065    603.204472    171.281104   \n",
       "4       98115.8  495.505618    0.240299    512.479779     91.419255   \n",
       "\n",
       "   peaks_freq_3  peaks_freq_4  peaks_freq_5  peaks_freq_6  inharmonicity  \\\n",
       "0   1285.605760   1901.109791   2498.769171    903.692371     852.170248   \n",
       "1   1637.186246    214.635467    132.680029   2151.962637     813.111519   \n",
       "2   1808.189594    169.315181   1039.594139   2501.189893     837.291757   \n",
       "3    393.432048   1245.686466   1376.720576   1725.602073     616.744760   \n",
       "4    991.708437   1504.997734    302.777490   1936.867124     722.437621   \n",
       "\n",
       "        rho     rho_wbf  training  \n",
       "0  1.136137  715.766406       1.0  \n",
       "1  1.138392  604.856552       1.0  \n",
       "2  1.135223  685.799085       1.0  \n",
       "3  1.134593  746.799573       1.0  \n",
       "4  1.136877  563.329010       1.0  "
      ]
     },
     "execution_count": 2,
     "metadata": {},
     "output_type": "execute_result"
    }
   ],
   "source": [
    "df = read_all_csvs(\"../data/raw/\")\n",
    "print(df.shape)\n",
    "df.head()"
   ]
  },
  {
   "cell_type": "code",
   "execution_count": 3,
   "metadata": {},
   "outputs": [
    {
     "data": {
      "text/plain": [
       "<matplotlib.axes._subplots.AxesSubplot at 0x7f5c5dca9240>"
      ]
     },
     "execution_count": 3,
     "metadata": {},
     "output_type": "execute_result"
    },
    {
     "data": {
      "image/png": "[encoded data removed]",
      "text/plain": [
       "<Figure size 432x288 with 1 Axes>"
      ]
     },
     "metadata": {},
     "output_type": "display_data"
    }
   ],
   "source": [
    "sns.countplot(df[\"training\"])"
   ]
  },
  {
   "cell_type": "code",
   "execution_count": 4,
   "metadata": {},
   "outputs": [
    {
     "data": {
      "text/plain": [
       "<matplotlib.axes._subplots.AxesSubplot at 0x7f5c5d320cf8>"
      ]
     },
     "execution_count": 4,
     "metadata": {},
     "output_type": "execute_result"
    },
    {
     "data": {
      "image/png": "[encoded data removed]",
      "text/plain": [
       "<Figure size 432x288 with 1 Axes>"
      ]
     },
     "metadata": {},
     "output_type": "display_data"
    }
   ],
   "source": [
    "sns.countplot(df[\"label\"])"
   ]
  },
  {
   "cell_type": "code",
   "execution_count": 5,
   "metadata": {},
   "outputs": [
    {
     "data": {
      "text/plain": [
       "53830"
      ]
     },
     "execution_count": 5,
     "metadata": {},
     "output_type": "execute_result"
    }
   ],
   "source": [
    "len(df)"
   ]
  },
  {
   "cell_type": "code",
   "execution_count": null,
   "metadata": {},
   "outputs": [],
   "source": []
  }
 ],
 "metadata": {
  "kernelspec": {
   "display_name": "Python 3",
   "language": "python",
   "name": "python3"
  },
  "language_info": {
   "codemirror_mode": {
    "name": "ipython",
    "version": 3
   },
   "file_extension": ".py",
   "mimetype": "text/x-python",
   "name": "python",
   "nbconvert_exporter": "python",
   "pygments_lexer": "ipython3",
   "version": "3.6.5rc1"
  },
  "toc": {
   "base_numbering": 1,
   "nav_menu": {},
   "number_sections": true,
   "sideBar": true,
   "skip_h1_title": false,
   "title_cell": "Table of Contents",
   "title_sidebar": "Contents",
   "toc_cell": false,
   "toc_position": {},
   "toc_section_display": true,
   "toc_window_display": false
  }
 },
 "nbformat": 4,
 "nbformat_minor": 2
}
