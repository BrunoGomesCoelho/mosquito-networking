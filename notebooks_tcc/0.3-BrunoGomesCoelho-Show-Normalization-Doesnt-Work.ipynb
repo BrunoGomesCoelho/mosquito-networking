{
 "cells": [
  {
   "cell_type": "markdown",
   "metadata": {},
   "source": [
    "# Analyze the range of values from the audio\n"
   ]
  },
  {
   "cell_type": "code",
   "execution_count": 5,
   "metadata": {},
   "outputs": [],
   "source": [
    "from scipy.io import wavfile"
   ]
  },
  {
   "cell_type": "code",
   "execution_count": 7,
   "metadata": {},
   "outputs": [],
   "source": [
    "wav_file = \"../data/raw/dadosBruno/t02/\" + \\\n",
    "            \"t02_S-ISCA_C1_Aedes female-20-07-2017_1_001_456.wav\"\n",
    "wav = wavfile.read(wav_file)"
   ]
  },
  {
   "cell_type": "code",
   "execution_count": null,
   "metadata": {},
   "outputs": [],
   "source": []
  },
  {
   "cell_type": "code",
   "execution_count": 1,
   "metadata": {},
   "outputs": [],
   "source": [
    "# OPTIONAL: Load the \"autoreload\" extension so that code can change\n",
    "%load_ext autoreload\n",
    "\n",
    "# OPTIONAL: always reload modules so that as you change code in src, it gets loaded\n",
    "%autoreload 2"
   ]
  },
  {
   "cell_type": "code",
   "execution_count": 2,
   "metadata": {},
   "outputs": [],
   "source": [
    "import numpy as np\n",
    "import pandas as pd\n",
    "from sklearn.preprocessing import StandardScaler\n",
    "from sklearn.model_selection import train_test_split\n",
    "from joblib import dump, load\n",
    "\n",
    "from src.data import make_dataset\n",
    "from src.data import read_dataset\n",
    "from src.data import util\n",
    "\n",
    "import matplotlib.pyplot as plt\n",
    "import seaborn as sns\n",
    "sns.set()"
   ]
  },
  {
   "cell_type": "code",
   "execution_count": 6,
   "metadata": {},
   "outputs": [],
   "source": [
    "# Set seed for reprodubility\n",
    "np.random.seed(42)"
   ]
  },
  {
   "cell_type": "code",
   "execution_count": 3,
   "metadata": {
    "scrolled": true
   },
   "outputs": [],
   "source": [
    "from src.data.read_dataset import read_temperature\n",
    "\n",
    "def make_temperatures(conversion, testing=False):\n",
    "    num_cols = [x for x in range(11025)]\n",
    "    save_cols = num_cols + [\"label\"]\n",
    "    \n",
    "    for i in range(2, 8):\n",
    "        temperature = f\"t0{i}\"\n",
    "        df = read_temperature(temperature, conversion)\n",
    "\n",
    "        train_idx = df[\"training\"] == 1  # get train data\n",
    "        train_data = df.loc[train_idx]\n",
    "        test_data = df.loc[~train_idx]\n",
    "        \n",
    "        # Create validation\n",
    "        train_data, val_data = train_test_split(train_data, test_size=0.2)\n",
    "\n",
    "        # Train scaler\n",
    "        scaler = StandardScaler()\n",
    "        scaler.fit(train_data[num_cols])\n",
    "        dump(scaler, f\"../data/interim/scaler_{conversion}_{temperature}.pkl\")\n",
    "        \n",
    "        # Save the data as compressed numpy arrays\n",
    "        np.savez_compressed(f\"../data/interim/all_wavs_{conversion}_{temperature}\", \n",
    "                            train=train_data[save_cols].astype(int), \n",
    "                            val=val_data[save_cols].astype(int), \n",
    "                            test=test_data[save_cols].astype(int))"
   ]
  },
  {
   "cell_type": "code",
   "execution_count": 4,
   "metadata": {},
   "outputs": [],
   "source": [
    "make_temperatures(\"repeat\")"
   ]
  },
  {
   "cell_type": "code",
   "execution_count": 5,
   "metadata": {},
   "outputs": [],
   "source": [
    "make_temperatures(\"zero\")"
   ]
  },
  {
   "cell_type": "code",
   "execution_count": null,
   "metadata": {},
   "outputs": [],
   "source": []
  },
  {
   "cell_type": "code",
   "execution_count": null,
   "metadata": {},
   "outputs": [],
   "source": []
  }
 ],
 "metadata": {
  "kernelspec": {
   "display_name": "Python 3",
   "language": "python",
   "name": "python3"
  },
  "language_info": {
   "codemirror_mode": {
    "name": "ipython",
    "version": 3
   },
   "file_extension": ".py",
   "mimetype": "text/x-python",
   "name": "python",
   "nbconvert_exporter": "python",
   "pygments_lexer": "ipython3",
   "version": "3.6.5rc1"
  },
  "notify_time": "30",
  "toc": {
   "base_numbering": 1,
   "nav_menu": {},
   "number_sections": true,
   "sideBar": true,
   "skip_h1_title": false,
   "title_cell": "Table of Contents",
   "title_sidebar": "Contents",
   "toc_cell": false,
   "toc_position": {},
   "toc_section_display": true,
   "toc_window_display": false
  }
 },
 "nbformat": 4,
 "nbformat_minor": 2
}
