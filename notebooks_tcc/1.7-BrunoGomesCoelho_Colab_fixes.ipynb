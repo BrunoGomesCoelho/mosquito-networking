{
 "cells": [
  {
   "cell_type": "markdown",
   "metadata": {
    "colab_type": "text",
    "id": "view-in-github"
   },
   "source": [
    "<a href=\"https://colab.research.google.com/github/BrunoGomesCoelho/mosquito-networking/blob/master/notebooks_tcc/1.7-BrunoGomesCoelho_Colab_fixes.ipynb\" target=\"_parent\"><img src=\"https://colab.research.google.com/assets/colab-badge.svg\" alt=\"Open In Colab\"/></a>"
   ]
  },
  {
   "cell_type": "code",
   "execution_count": 1,
   "metadata": {
    "colab": {
     "base_uri": "https://localhost:8080/",
     "height": 34
    },
    "colab_type": "code",
    "id": "elnFGDCRpUTP",
    "outputId": "e4c65da7-cb53-4857-8e99-abbf7f2caf48"
   },
   "outputs": [
    {
     "data": {
      "text/plain": [
       "'\\nfunction ClickConnect(){\\nconsole.log(\"Working\"); \\ndocument.querySelector(\"colab-toolbar-button#connect\").click() \\n}setInterval(ClickConnect,60000)\\n'"
      ]
     },
     "execution_count": 1,
     "metadata": {},
     "output_type": "execute_result"
    }
   ],
   "source": [
    "# Colab console code\n",
    "\"\"\"\n",
    "function ClickConnect(){\n",
    "console.log(\"Working\"); \n",
    "document.querySelector(\"colab-toolbar-button#connect\").click() \n",
    "}setInterval(ClickConnect,60000)\n",
    "\"\"\""
   ]
  },
  {
   "cell_type": "markdown",
   "metadata": {
    "colab_type": "text",
    "id": "_1sxbvWRjrHS"
   },
   "source": [
    "## Check tensorflow version"
   ]
  },
  {
   "cell_type": "code",
   "execution_count": 2,
   "metadata": {
    "colab": {
     "base_uri": "https://localhost:8080/",
     "height": 69
    },
    "colab_type": "code",
    "id": "kyanx6Yc5XiI",
    "outputId": "c4bb395c-c2a2-4521-8985-b3337d5158ba"
   },
   "outputs": [
    {
     "name": "stdout",
     "output_type": "stream",
     "text": [
      "\u001b[33mWARNING: You are using pip version 19.2.3, however version 19.3.1 is available.\r\n",
      "You should consider upgrading via the 'pip install --upgrade pip' command.\u001b[0m\r\n"
     ]
    }
   ],
   "source": [
    "!python3 -m pip install --upgrade tensorflow -q"
   ]
  },
  {
   "cell_type": "code",
   "execution_count": 3,
   "metadata": {
    "colab": {
     "base_uri": "https://localhost:8080/",
     "height": 34
    },
    "colab_type": "code",
    "id": "WSdeZ4BjjrHU",
    "outputId": "54db4035-18e2-4fca-f0ef-eeb54fee951e"
   },
   "outputs": [
    {
     "name": "stdout",
     "output_type": "stream",
     "text": [
      "TensorFlow version:  2.0.0\n"
     ]
    }
   ],
   "source": [
    "import tensorflow as tf\n",
    "from packaging import version\n",
    "\n",
    "print(\"TensorFlow version: \", tf.__version__)\n",
    "assert version.parse(tf.__version__).release[0] >= 2, \\\n",
    "    \"This notebook requires TensorFlow 2.0 or above.\""
   ]
  },
  {
   "cell_type": "code",
   "execution_count": 4,
   "metadata": {
    "colab": {},
    "colab_type": "code",
    "id": "cw3mWnPejrHb"
   },
   "outputs": [],
   "source": [
    "tf.keras.backend.clear_session()  # For easy reset of notebook state."
   ]
  },
  {
   "cell_type": "code",
   "execution_count": 5,
   "metadata": {
    "colab": {},
    "colab_type": "code",
    "id": "f0Rk5pw-1vc3"
   },
   "outputs": [],
   "source": [
    "# Start logging time\n",
    "import time\n",
    "start_time = time.time()"
   ]
  },
  {
   "cell_type": "code",
   "execution_count": 6,
   "metadata": {
    "colab": {},
    "colab_type": "code",
    "id": "3g_a6iLcO1xR"
   },
   "outputs": [],
   "source": [
    "COLAB_IDX = 1\n",
    "TEMPERATURE = \"t02\"\n",
    "FORMAT = \"repeat\""
   ]
  },
  {
   "cell_type": "code",
   "execution_count": 7,
   "metadata": {
    "colab": {},
    "colab_type": "code",
    "id": "RRfnZPSUG5MA"
   },
   "outputs": [],
   "source": [
    "SCALE = True\n",
    "TESTING = True\n",
    "COLAB = False\n",
    "\n",
    "if COLAB:\n",
    "    BASE_DIR = \"/content/drive/My Drive/IC/mosquito-networking/\"\n",
    "else:\n",
    "    BASE_DIR = \"../\""
   ]
  },
  {
   "cell_type": "code",
   "execution_count": 8,
   "metadata": {
    "colab": {
     "base_uri": "https://localhost:8080/",
     "height": 52
    },
    "colab_type": "code",
    "id": "AGLeMtFkG5MQ",
    "outputId": "1a398286-2775-424c-961d-5ea378e610c1"
   },
   "outputs": [],
   "source": [
    "if COLAB:\n",
    "    from google.colab import drive\n",
    "    drive.flush_and_unmount()\n",
    "    drive.mount('/content/drive', force_remount=True)"
   ]
  },
  {
   "cell_type": "code",
   "execution_count": 9,
   "metadata": {
    "colab": {},
    "colab_type": "code",
    "id": "RCABbANbG5Ma"
   },
   "outputs": [],
   "source": [
    "if COLAB:\n",
    "    import sys\n",
    "    sys.path.append(\"/content/drive/My Drive/IC/mosquito-networking/\")"
   ]
  },
  {
   "cell_type": "code",
   "execution_count": 10,
   "metadata": {
    "colab": {
     "base_uri": "https://localhost:8080/",
     "height": 173
    },
    "colab_type": "code",
    "id": "3JUG_aW2H7lf",
    "outputId": "9e6d43fc-78b5-4bc3-94ce-2db66774dd6f"
   },
   "outputs": [],
   "source": [
    "if COLAB:\n",
    "    !python3 -m pip install -qr \"/content/drive/My Drive/IC/mosquito-networking/drive_requirements.txt\""
   ]
  },
  {
   "cell_type": "code",
   "execution_count": 11,
   "metadata": {
    "colab": {},
    "colab_type": "code",
    "id": "S-UqU8J3G5Mp"
   },
   "outputs": [],
   "source": [
    "if not COLAB:\n",
    "    # OPTIONAL: Load the \"autoreload\" extension so that code can change\n",
    "    %load_ext autoreload\n",
    "    # OPTIONAL: always reload modules so that as you change code in src, it gets loaded\n",
    "    %autoreload 2"
   ]
  },
  {
   "cell_type": "code",
   "execution_count": 12,
   "metadata": {
    "colab": {},
    "colab_type": "code",
    "id": "6guAiINDjrIE"
   },
   "outputs": [],
   "source": [
    "import numpy as np\n",
    "import pandas as pd\n",
    "import joblib\n",
    "\n",
    "import matplotlib.pyplot as plt\n",
    "import seaborn as sns\n",
    "sns.set()"
   ]
  },
  {
   "cell_type": "markdown",
   "metadata": {
    "colab_type": "text",
    "id": "29syQKBqG5Ml"
   },
   "source": [
    "\n",
    "\n",
    "- - - \n",
    "\n",
    "<br>\n",
    "<br>\n",
    "<br>\n",
    "<br>\n",
    "<br>\n",
    "<br>\n",
    "<br>\n",
    "<br>\n",
    "<br>\n",
    "<br>\n",
    "<br>\n",
    "<br>"
   ]
  },
  {
   "cell_type": "markdown",
   "metadata": {
    "colab_type": "text",
    "id": "8qJ96Nw-G5Mx"
   },
   "source": [
    "# Experiment params"
   ]
  },
  {
   "cell_type": "code",
   "execution_count": 13,
   "metadata": {
    "colab": {},
    "colab_type": "code",
    "id": "VTHyGYcfG5M5"
   },
   "outputs": [],
   "source": [
    "# Parameters\n",
    "params = {'batch_size': 64,\n",
    "          'shuffle': True,\n",
    "          'epochs': 2 if TESTING else 100}"
   ]
  },
  {
   "cell_type": "markdown",
   "metadata": {
    "colab_type": "text",
    "id": "7lUKEmIlG5NG"
   },
   "source": [
    "# load data"
   ]
  },
  {
   "cell_type": "code",
   "execution_count": 14,
   "metadata": {
    "colab": {
     "base_uri": "https://localhost:8080/",
     "height": 72
    },
    "colab_type": "code",
    "id": "ZXUOOiHcG5NJ",
    "outputId": "b08a7052-d985-4ec5-a8b7-5113f8f9bc32"
   },
   "outputs": [],
   "source": [
    "# Load scaler\n",
    "#scaler = joblib.load(\"../data/interim/scaler.pkl\")\n",
    "if SCALE:\n",
    "    scaler = joblib.load(BASE_DIR + \n",
    "                         f\"data/interim/scaler_{FORMAT}_{TEMPERATURE}_no_std.pkl\")"
   ]
  },
  {
   "cell_type": "code",
   "execution_count": 15,
   "metadata": {
    "colab": {},
    "colab_type": "code",
    "id": "H3finABn5VMo"
   },
   "outputs": [],
   "source": [
    "#data = np.load(BASE_DIR + f\"data/interim/all_wavs_{FORMAT}_{TEMPERATURE}.npz\",\n",
    "data = np.load(BASE_DIR + f\"data/interim/all_wavs_{FORMAT}_{TEMPERATURE}_no_std.npz\",\n",
    "               allow_pickle=True)"
   ]
  },
  {
   "cell_type": "code",
   "execution_count": 16,
   "metadata": {
    "colab": {},
    "colab_type": "code",
    "id": "tXOlr4MoyEK-"
   },
   "outputs": [],
   "source": [
    "SCALE=False"
   ]
  },
  {
   "cell_type": "code",
   "execution_count": 76,
   "metadata": {
    "colab": {},
    "colab_type": "code",
    "id": "rwvRk7rX9YS8"
   },
   "outputs": [],
   "source": [
    "# Parse and divide data\n",
    "train_data = data[\"train\"]\n",
    "val_data = data[\"val\"]\n",
    "test_data = data[\"test\"]\n",
    "\n",
    "if SCALE:\n",
    "    x_train = scaler.transform(train_data[:, :-1])\n",
    "    x_val = scaler.transform(val_data[:, :-1])\n",
    "    x_test = scaler.transform(test_data[:, :-1])\n",
    "else:\n",
    "    x_train = train_data[:, :-1]\n",
    "    x_val = val_data[:, :-1]\n",
    "    x_test = test_data[:, :-1]\n",
    "\n",
    "y_train = train_data[:, -1]\n",
    "y_val = val_data[:, -1]\n",
    "y_test = test_data[:, -1]"
   ]
  },
  {
   "cell_type": "code",
   "execution_count": 77,
   "metadata": {},
   "outputs": [],
   "source": [
    "x_train = x_train / 32\n",
    "x_val = x_val / 32\n",
    "x_test = x_test / 32"
   ]
  },
  {
   "cell_type": "code",
   "execution_count": 78,
   "metadata": {},
   "outputs": [
    {
     "data": {
      "text/plain": [
       "<matplotlib.axes._subplots.AxesSubplot at 0x7f2494bc9780>"
      ]
     },
     "execution_count": 78,
     "metadata": {},
     "output_type": "execute_result"
    },
    {
     "data": {
      "image/png": "[encoded data removed]",
      "text/plain": [
       "<Figure size 432x288 with 1 Axes>"
      ]
     },
     "metadata": {},
     "output_type": "display_data"
    }
   ],
   "source": [
    "#sns.distplot(x_train[0])\n",
    "sns.distplot(x_train[-1])\n",
    "#sns.distplot(x_val[0])\n",
    "sns.distplot(x_val[-1])"
   ]
  },
  {
   "cell_type": "code",
   "execution_count": 79,
   "metadata": {},
   "outputs": [
    {
     "name": "stdout",
     "output_type": "stream",
     "text": [
      "Train: -774.71875 \t -0.02 1023.96875\n",
      "Val: -762.25 \t \t -0.02 1023.96875\n",
      "Test: -787.03125 \t -0.01 1023.96875\n"
     ]
    }
   ],
   "source": [
    "print(\"Train:\", x_train.min(), f\"\\t {x_train.mean():.2f}\", x_train.max())\n",
    "print(\"Val:\", x_val.min(), f\"\\t \\t {x_val.mean():.2f}\", x_val.max())\n",
    "print(\"Test:\", x_test.min(), f\"\\t {x_test.mean():.2f}\", x_test.max())"
   ]
  },
  {
   "cell_type": "code",
   "execution_count": 80,
   "metadata": {
    "colab": {},
    "colab_type": "code",
    "id": "T55sgV4nG5NT"
   },
   "outputs": [],
   "source": [
    "# Reshape data\n",
    "x_train = x_train.reshape((*x_train.shape, 1))\n",
    "x_val = x_val.reshape((*x_val.shape, 1))\n",
    "x_test = x_test.reshape((*x_test.shape, 1))"
   ]
  },
  {
   "cell_type": "code",
   "execution_count": 81,
   "metadata": {
    "colab": {},
    "colab_type": "code",
    "id": "LY8N6zHMjrIi"
   },
   "outputs": [],
   "source": [
    "# Generators\n",
    "# I am not using generators since currently the dataset fits on RAM"
   ]
  },
  {
   "cell_type": "markdown",
   "metadata": {
    "colab_type": "text",
    "id": "tnSGKM51G5NZ"
   },
   "source": [
    "# Load model"
   ]
  },
  {
   "cell_type": "code",
   "execution_count": 82,
   "metadata": {
    "code_folding": [],
    "colab": {
     "base_uri": "https://localhost:8080/",
     "height": 364
    },
    "colab_type": "code",
    "id": "i-4jOwGaG5Nb",
    "outputId": "be78c463-fdbf-485a-fc44-1928347c3db6"
   },
   "outputs": [
    {
     "name": "stdout",
     "output_type": "stream",
     "text": [
      "Model: \"sequential_12\"\n",
      "_________________________________________________________________\n",
      "Layer (type)                 Output Shape              Param #   \n",
      "=================================================================\n",
      "gaussian_noise_12 (GaussianN (None, 11025, 1)          0         \n",
      "_________________________________________________________________\n",
      "conv1d_44 (Conv1D)           (None, 11023, 16)         64        \n",
      "_________________________________________________________________\n",
      "conv1d_45 (Conv1D)           (None, 11021, 16)         784       \n",
      "_________________________________________________________________\n",
      "batch_normalization_22 (Batc (None, 11021, 16)         64        \n",
      "_________________________________________________________________\n",
      "global_average_pooling1d_7 ( (None, 16)                0         \n",
      "_________________________________________________________________\n",
      "dense_7 (Dense)              (None, 1)                 17        \n",
      "=================================================================\n",
      "Total params: 929\n",
      "Trainable params: 897\n",
      "Non-trainable params: 32\n",
      "_________________________________________________________________\n"
     ]
    }
   ],
   "source": [
    "\"\"\"A much better way to load a custom module since it allows us to change it easierly\n",
    "    on the fly. Idea from https://zerowithdot.com/colab-workspace/\n",
    "\"\"\"\n",
    "from os.path import join\n",
    "from importlib.machinery import SourceFileLoader\n",
    "wingbeats_model = SourceFileLoader('wingbeats_model', join(BASE_DIR, 'src/models/wingbeats_model.py')).load_module()\n",
    "model = wingbeats_model.WingbeatsNetModel(dropout=False)\n",
    "#from src.models.wingbeats_model import WingbeatsNetModel\n",
    "#model = WingbeatsNetModel(dropout=False)\n",
    "# load weights?\n",
    "#f\"runs/colab/{COLAB_IDX-1}/model_epoch_90.pt\"))\n",
    "model.summary() "
   ]
  },
  {
   "cell_type": "markdown",
   "metadata": {
    "colab_type": "text",
    "id": "fVoQ1CdUG5No"
   },
   "source": [
    "<br>\n",
    "<br>\n",
    "<br>\n",
    "<br>\n",
    "<br>\n",
    "<br>\n",
    "\n",
    "# Start tensorboard"
   ]
  },
  {
   "cell_type": "code",
   "execution_count": 22,
   "metadata": {
    "colab": {},
    "colab_type": "code",
    "id": "7PLsosnUG5Nq"
   },
   "outputs": [],
   "source": [
    "save_path =  BASE_DIR + f\"runs/TCC/{TEMPERATURE}/{FORMAT}/{COLAB_IDX}/\""
   ]
  },
  {
   "cell_type": "code",
   "execution_count": 23,
   "metadata": {
    "colab": {
     "base_uri": "https://localhost:8080/",
     "height": 52
    },
    "colab_type": "code",
    "id": "3V_XAwaX-4Jf",
    "outputId": "b2d5dbe9-cca7-4a7d-9b7b-63b21b681a08"
   },
   "outputs": [
    {
     "name": "stdout",
     "output_type": "stream",
     "text": [
      "Collecting grpcio\n",
      "  Using cached https://files.pythonhosted.org/packages/30/54/c9810421e41ec0bca2228c6f06b1b1189b196b69533cbcac9f71b44727f8/grpcio-1.24.3-cp36-cp36m-manylinux2010_x86_64.whl\n",
      "Requirement already satisfied, skipping upgrade: six>=1.5.2 in /home/bcoelho/.local/lib/python3.6/site-packages (from grpcio) (1.12.0)\n",
      "Installing collected packages: grpcio\n",
      "  Found existing installation: grpcio 1.11.0\n",
      "    Uninstalling grpcio-1.11.0:\n",
      "      Successfully uninstalled grpcio-1.11.0\n",
      "  Rolling back uninstall of grpcio\n",
      "  Moving to /home/bcoelho/.local/lib/python3.6/site-packages/grpc/\n",
      "   from /home/bcoelho/.local/lib/python3.6/site-packages/~rpc\n",
      "  Moving to /home/bcoelho/.local/lib/python3.6/site-packages/grpcio-1.11.0.dist-info/\n",
      "   from /home/bcoelho/.local/lib/python3.6/site-packages/~rpcio-1.11.0.dist-info\n",
      "\u001b[31mERROR: Could not install packages due to an EnvironmentError: [Errno 13] Permission denied: '/usr/local/lib/python3.6/dist-packages/grpcio-1.24.3.dist-info'\n",
      "Consider using the `--user` option or check the permissions.\n",
      "\u001b[0m\n",
      "\u001b[33mWARNING: You are using pip version 19.2.3, however version 19.3.1 is available.\n",
      "You should consider upgrading via the 'pip install --upgrade pip' command.\u001b[0m\n"
     ]
    }
   ],
   "source": [
    "!python3 -m pip install --upgrade grpcio"
   ]
  },
  {
   "cell_type": "code",
   "execution_count": 24,
   "metadata": {
    "colab": {
     "base_uri": "https://localhost:8080/",
     "height": 52
    },
    "colab_type": "code",
    "id": "EMaox1k49axx",
    "outputId": "05bac3de-74f5-4f6b-bae9-10c47e495589"
   },
   "outputs": [],
   "source": [
    "# Load the TensorBoard notebook extension\n",
    "%load_ext tensorboard"
   ]
  },
  {
   "cell_type": "code",
   "execution_count": 25,
   "metadata": {
    "colab": {
     "base_uri": "https://localhost:8080/",
     "height": 34
    },
    "colab_type": "code",
    "collapsed": true,
    "id": "VRVUierljrJV",
    "outputId": "520e830b-8aea-4650-f871-569fafefbff1"
   },
   "outputs": [
    {
     "data": {
      "text/plain": [
       "Reusing TensorBoard on port 6006 (pid 21549), started 0:45:34 ago. (Use '!kill 21549' to kill it.)"
      ]
     },
     "metadata": {},
     "output_type": "display_data"
    },
    {
     "data": {
      "text/html": [
       "\n",
       "      <iframe id=\"tensorboard-frame-f56de02e526b07d3\" width=\"100%\" height=\"800\" frameborder=\"0\">\n",
       "      </iframe>\n",
       "      <script>\n",
       "        (function() {\n",
       "          const frame = document.getElementById(\"tensorboard-frame-f56de02e526b07d3\");\n",
       "          const url = new URL(\"/\", window.location);\n",
       "          url.port = 6006;\n",
       "          frame.src = url;\n",
       "        })();\n",
       "      </script>\n",
       "  "
      ],
      "text/plain": [
       "<IPython.core.display.HTML object>"
      ]
     },
     "metadata": {},
     "output_type": "display_data"
    }
   ],
   "source": [
    "%tensorboard --logdir logs"
   ]
  },
  {
   "cell_type": "markdown",
   "metadata": {
    "colab_type": "text",
    "id": "lvnnGZpPG5Nv"
   },
   "source": [
    "<br>\n",
    "<br>\n",
    "<br>\n",
    "<br>\n",
    "<br>\n",
    "<br>\n",
    "<br>\n",
    "<br>\n",
    "<br>\n",
    "<br>\n",
    "<br>\n",
    "\n",
    "# train function"
   ]
  },
  {
   "cell_type": "code",
   "execution_count": 83,
   "metadata": {
    "colab": {},
    "colab_type": "code",
    "id": "pa9a0cRgjrI4"
   },
   "outputs": [],
   "source": [
    "MODEL = \"testing\"\n",
    "model_name = f\"{MODEL}\""
   ]
  },
  {
   "cell_type": "code",
   "execution_count": 84,
   "metadata": {
    "colab": {},
    "colab_type": "code",
    "id": "qtS1puNCjrI8"
   },
   "outputs": [],
   "source": [
    "from tensorflow.keras.optimizers import SGD\n",
    "from tensorflow.keras.callbacks import (ModelCheckpoint, EarlyStopping, \n",
    "                                        ReduceLROnPlateau, CSVLogger,\n",
    "                                        TensorBoard)"
   ]
  },
  {
   "cell_type": "code",
   "execution_count": 85,
   "metadata": {
    "colab": {},
    "colab_type": "code",
    "id": "WIqWRgVAXG5h"
   },
   "outputs": [],
   "source": [
    "# Overfit small amount of data\n",
    "temp = x_train.copy()\n",
    "temp_y = y_train.copy()"
   ]
  },
  {
   "cell_type": "code",
   "execution_count": 86,
   "metadata": {},
   "outputs": [],
   "source": [
    "#x_train = x_train[:10]\n",
    "#_train = y_train[:10]"
   ]
  },
  {
   "cell_type": "code",
   "execution_count": 98,
   "metadata": {
    "colab": {
     "base_uri": "https://localhost:8080/",
     "height": 469
    },
    "colab_type": "code",
    "id": "CX5pTDdgjrI_",
    "outputId": "ccb182bc-faed-4463-9617-47e4cbd80242",
    "scrolled": true
   },
   "outputs": [
    {
     "name": "stdout",
     "output_type": "stream",
     "text": [
      "Model: \"sequential_18\"\n",
      "_________________________________________________________________\n",
      "Layer (type)                 Output Shape              Param #   \n",
      "=================================================================\n",
      "gaussian_noise_18 (GaussianN (None, 11025, 1)          0         \n",
      "_________________________________________________________________\n",
      "conv1d_54 (Conv1D)           (None, 11023, 16)         64        \n",
      "_________________________________________________________________\n",
      "conv1d_55 (Conv1D)           (None, 11021, 16)         784       \n",
      "_________________________________________________________________\n",
      "batch_normalization_27 (Batc (None, 11021, 16)         64        \n",
      "_________________________________________________________________\n",
      "conv1d_56 (Conv1D)           (None, 11019, 32)         1568      \n",
      "_________________________________________________________________\n",
      "conv1d_57 (Conv1D)           (None, 11017, 32)         3104      \n",
      "_________________________________________________________________\n",
      "batch_normalization_28 (Batc (None, 11017, 32)         128       \n",
      "_________________________________________________________________\n",
      "max_pooling1d_18 (MaxPooling (None, 5508, 32)          0         \n",
      "_________________________________________________________________\n",
      "conv1d_58 (Conv1D)           (None, 5506, 64)          6208      \n",
      "_________________________________________________________________\n",
      "conv1d_59 (Conv1D)           (None, 5504, 64)          12352     \n",
      "_________________________________________________________________\n",
      "batch_normalization_29 (Batc (None, 5504, 64)          256       \n",
      "_________________________________________________________________\n",
      "max_pooling1d_19 (MaxPooling (None, 2752, 64)          0         \n",
      "_________________________________________________________________\n",
      "conv1d_60 (Conv1D)           (None, 2750, 128)         24704     \n",
      "_________________________________________________________________\n",
      "conv1d_61 (Conv1D)           (None, 2748, 128)         49280     \n",
      "_________________________________________________________________\n",
      "batch_normalization_30 (Batc (None, 2748, 128)         512       \n",
      "_________________________________________________________________\n",
      "max_pooling1d_20 (MaxPooling (None, 1374, 128)         0         \n",
      "_________________________________________________________________\n",
      "global_average_pooling1d_9 ( (None, 128)               0         \n",
      "_________________________________________________________________\n",
      "dropout_6 (Dropout)          (None, 128)               0         \n",
      "_________________________________________________________________\n",
      "dense_9 (Dense)              (None, 1)                 129       \n",
      "=================================================================\n",
      "Total params: 99,153\n",
      "Trainable params: 98,673\n",
      "Non-trainable params: 480\n",
      "_________________________________________________________________\n"
     ]
    }
   ],
   "source": [
    "params[\"epochs\"] = 10\n",
    "params[\"batch_size\"] = 64\n",
    "\n",
    "model = wingbeats_model.WingbeatsNetModel(dropout=True, batch_norm=True, \n",
    "                                          use_noise=True, blocks=4,\n",
    "                                          noise_std=1)#lr=0.0001)\n",
    "model.summary()"
   ]
  },
  {
   "cell_type": "code",
   "execution_count": 99,
   "metadata": {},
   "outputs": [
    {
     "data": {
      "text/plain": [
       "'\\nfrom tensorflow.keras.models import Sequential\\n\\nmodel2 = Sequential()\\nwingbeats_model.add_gaussian_noise(model2, 10, x_train.shape[1])\\nmodel2.compile(loss=\"binary_crossentropy\")\\n'"
      ]
     },
     "execution_count": 99,
     "metadata": {},
     "output_type": "execute_result"
    }
   ],
   "source": [
    "\"\"\"\n",
    "from tensorflow.keras.models import Sequential\n",
    "\n",
    "model2 = Sequential()\n",
    "wingbeats_model.add_gaussian_noise(model2, 10, x_train.shape[1])\n",
    "model2.compile(loss=\"binary_crossentropy\")\n",
    "\"\"\""
   ]
  },
  {
   "cell_type": "code",
   "execution_count": null,
   "metadata": {
    "colab": {
     "base_uri": "https://localhost:8080/",
     "height": 1000
    },
    "colab_type": "code",
    "id": "DmvC8Q2-jrJS",
    "outputId": "99b22ba7-659d-47de-89c1-565e90140427"
   },
   "outputs": [
    {
     "name": "stdout",
     "output_type": "stream",
     "text": [
      "WARNING:tensorflow:`write_grads` will be ignored in TensorFlow 2.0 for the `TensorBoard` Callback.\n",
      "Train on 2972 samples, validate on 743 samples\n",
      "Epoch 1/10\n"
     ]
    }
   ],
   "source": [
    "from datetime import datetime\n",
    "\n",
    "top_weights_path = 'model_' + model_name + '.h5'\n",
    "\n",
    "logdir = \"logs/scalars/\" + datetime.now().strftime(\"%Y%m%d-%H%M%S\")\n",
    "tensorboard_callback = TensorBoard(log_dir=logdir, write_grads=True,\n",
    "                                   write_graph=True, write_images=True,\n",
    "                                   histogram_freq=1)\n",
    "\n",
    "callbacks_list = [\n",
    "    #ModelCheckpoint(top_weights_path, monitor='val_acc', verbose=1,\n",
    "    #                save_best_only=True, save_weights_only=True),\n",
    "    #EarlyStopping(monitor='val_accuracy', patience=6, verbose=1),\n",
    "    tensorboard_callback]#,\n",
    "    #ReduceLROnPlateau(monitor = 'val_accuracy', factor=0.1, \n",
    "    #                  patience=3, verbose=1),\n",
    "    #CSVLogger('model_' + model_name + '.log')]\n",
    "\n",
    "histories = model.fit(x_train, y_train, \n",
    "          validation_data=[x_val, y_val],\n",
    "          callbacks=callbacks_list,\n",
    "          **params)\n",
    "\n",
    "#model.load_weights(top_weights_path)\n",
    "#loss, acc = model.evaluate(x_test, y_test)\n",
    "\n",
    "#print('loss', loss)\n",
    "#print('Test accuracy:', acc)"
   ]
  },
  {
   "cell_type": "code",
   "execution_count": null,
   "metadata": {
    "colab": {},
    "colab_type": "code",
    "id": "u9ocU3fFPtm9"
   },
   "outputs": [],
   "source": [
    "def check_grad_proportion(model, x_train, layer_idx=0):\n",
    "    name = model.get_config()[\"layers\"][layer_idx][\"config\"][\"name\"]\n",
    "    inputs = tf.cast(x_train, tf.float32)\n",
    "\n",
    "    with tf.GradientTape() as tape:\n",
    "        preds = model(inputs)\n",
    "\n",
    "    grads = tape.gradient(preds, model.get_layer(name).trainable_variables)\n",
    "\n",
    "    weights =  model.get_layer(name).weights\n",
    "    proportion = grads[0] / weights[0]\n",
    "    proportion_avg = tf.math.reduce_mean(proportion)\n",
    "    print(f\"Average proportion between grad and weights: {proportion_avg}\")\n",
    "    print(f\"Some proportions:\")\n",
    "    print(proportion[:5])\n",
    "    return grads, weights\n"
   ]
  },
  {
   "cell_type": "code",
   "execution_count": null,
   "metadata": {
    "colab": {
     "base_uri": "https://localhost:8080/",
     "height": 312
    },
    "colab_type": "code",
    "id": "wl0DqUOtTdV1",
    "outputId": "4cf8e096-4de6-4c6d-9430-9ac9f61caf0a"
   },
   "outputs": [],
   "source": [
    "grads, weights = check_grad_proportion(model, x_train)"
   ]
  },
  {
   "cell_type": "code",
   "execution_count": null,
   "metadata": {},
   "outputs": [],
   "source": []
  },
  {
   "cell_type": "code",
   "execution_count": null,
   "metadata": {},
   "outputs": [],
   "source": []
  }
 ],
 "metadata": {
  "colab": {
   "collapsed_sections": [],
   "include_colab_link": true,
   "name": "Continuation of 1.6",
   "provenance": []
  },
  "kernelspec": {
   "display_name": "Python 3",
   "language": "python",
   "name": "python3"
  },
  "language_info": {
   "codemirror_mode": {
    "name": "ipython",
    "version": 3
   },
   "file_extension": ".py",
   "mimetype": "text/x-python",
   "name": "python",
   "nbconvert_exporter": "python",
   "pygments_lexer": "ipython3",
   "version": "3.6.5rc1"
  },
  "toc": {
   "base_numbering": 1,
   "nav_menu": {},
   "number_sections": true,
   "sideBar": true,
   "skip_h1_title": false,
   "title_cell": "Table of Contents",
   "title_sidebar": "Contents",
   "toc_cell": false,
   "toc_position": {},
   "toc_section_display": true,
   "toc_window_display": false
  }
 },
 "nbformat": 4,
 "nbformat_minor": 1
}
