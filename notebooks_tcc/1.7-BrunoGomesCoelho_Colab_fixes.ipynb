{
  "nbformat": 4,
  "nbformat_minor": 0,
  "metadata": {
    "colab": {
      "name": "Continuation of 1.6",
      "provenance": [],
      "collapsed_sections": [],
      "include_colab_link": true
    },
    "kernelspec": {
      "name": "python3",
      "display_name": "Python 3"
    },
    "language_info": {
      "codemirror_mode": {
        "name": "ipython",
        "version": 3
      },
      "file_extension": ".py",
      "mimetype": "text/x-python",
      "name": "python",
      "nbconvert_exporter": "python",
      "pygments_lexer": "ipython3",
      "version": "3.6.5rc1"
    },
    "toc": {
      "base_numbering": 1,
      "nav_menu": {},
      "number_sections": true,
      "sideBar": true,
      "skip_h1_title": false,
      "title_cell": "Table of Contents",
      "title_sidebar": "Contents",
      "toc_cell": false,
      "toc_position": {},
      "toc_section_display": true,
      "toc_window_display": false
    }
  },
  "cells": [
    {
      "cell_type": "markdown",
      "metadata": {
        "id": "view-in-github",
        "colab_type": "text"
      },
      "source": [
        "<a href=\"https://colab.research.google.com/github/BrunoGomesCoelho/mosquito-networking/blob/master/notebooks_tcc/1.7-BrunoGomesCoelho_Colab_fixes.ipynb\" target=\"_parent\"><img src=\"https://colab.research.google.com/assets/colab-badge.svg\" alt=\"Open In Colab\"/></a>"
      ]
    },
    {
      "cell_type": "code",
      "metadata": {
        "colab_type": "code",
        "id": "elnFGDCRpUTP",
        "outputId": "e4c65da7-cb53-4857-8e99-abbf7f2caf48",
        "colab": {
          "base_uri": "https://localhost:8080/",
          "height": 34
        }
      },
      "source": [
        "# Colab console code\n",
        "\"\"\"\n",
        "function ClickConnect(){\n",
        "console.log(\"Working\"); \n",
        "document.querySelector(\"colab-toolbar-button#connect\").click() \n",
        "}setInterval(ClickConnect,60000)\n",
        "\"\"\""
      ],
      "execution_count": 0,
      "outputs": [
        {
          "output_type": "execute_result",
          "data": {
            "text/plain": [
              "'\\nfunction ClickConnect(){\\nconsole.log(\"Working\"); \\ndocument.querySelector(\"colab-toolbar-button#connect\").click() \\n}setInterval(ClickConnect,60000)\\n'"
            ]
          },
          "metadata": {
            "tags": []
          },
          "execution_count": 1
        }
      ]
    },
    {
      "cell_type": "markdown",
      "metadata": {
        "id": "_1sxbvWRjrHS",
        "colab_type": "text"
      },
      "source": [
        "## Check tensorflow version"
      ]
    },
    {
      "cell_type": "code",
      "metadata": {
        "id": "kyanx6Yc5XiI",
        "colab_type": "code",
        "outputId": "c4bb395c-c2a2-4521-8985-b3337d5158ba",
        "colab": {
          "base_uri": "https://localhost:8080/",
          "height": 69
        }
      },
      "source": [
        "!python3 -m pip install --upgrade tensorflow -q"
      ],
      "execution_count": 0,
      "outputs": [
        {
          "output_type": "stream",
          "text": [
            "\u001b[K     |████████████████████████████████| 86.3MB 120kB/s \n",
            "\u001b[K     |████████████████████████████████| 3.8MB 30.2MB/s \n",
            "\u001b[K     |████████████████████████████████| 450kB 43.1MB/s \n",
            "\u001b[?25h"
          ],
          "name": "stdout"
        }
      ]
    },
    {
      "cell_type": "code",
      "metadata": {
        "id": "WSdeZ4BjjrHU",
        "colab_type": "code",
        "outputId": "54db4035-18e2-4fca-f0ef-eeb54fee951e",
        "colab": {
          "base_uri": "https://localhost:8080/",
          "height": 34
        }
      },
      "source": [
        "import tensorflow as tf\n",
        "from packaging import version\n",
        "\n",
        "print(\"TensorFlow version: \", tf.__version__)\n",
        "assert version.parse(tf.__version__).release[0] >= 2, \\\n",
        "    \"This notebook requires TensorFlow 2.0 or above.\""
      ],
      "execution_count": 0,
      "outputs": [
        {
          "output_type": "stream",
          "text": [
            "TensorFlow version:  2.0.0\n"
          ],
          "name": "stdout"
        }
      ]
    },
    {
      "cell_type": "code",
      "metadata": {
        "id": "cw3mWnPejrHb",
        "colab_type": "code",
        "colab": {}
      },
      "source": [
        "tf.keras.backend.clear_session()  # For easy reset of notebook state."
      ],
      "execution_count": 0,
      "outputs": []
    },
    {
      "cell_type": "code",
      "metadata": {
        "colab_type": "code",
        "id": "f0Rk5pw-1vc3",
        "colab": {}
      },
      "source": [
        "# Start logging time\n",
        "import time\n",
        "start_time = time.time()"
      ],
      "execution_count": 0,
      "outputs": []
    },
    {
      "cell_type": "code",
      "metadata": {
        "colab_type": "code",
        "id": "3g_a6iLcO1xR",
        "colab": {}
      },
      "source": [
        "COLAB_IDX = 1\n",
        "TEMPERATURE = \"t02\"\n",
        "FORMAT = \"repeat\""
      ],
      "execution_count": 0,
      "outputs": []
    },
    {
      "cell_type": "code",
      "metadata": {
        "colab_type": "code",
        "id": "RRfnZPSUG5MA",
        "colab": {}
      },
      "source": [
        "SCALE = True\n",
        "TESTING = True\n",
        "COLAB = True\n",
        "\n",
        "if COLAB:\n",
        "    BASE_DIR = \"/content/drive/My Drive/IC/mosquito-networking/\"\n",
        "else:\n",
        "    BASE_DIR = \"../\""
      ],
      "execution_count": 0,
      "outputs": []
    },
    {
      "cell_type": "code",
      "metadata": {
        "colab_type": "code",
        "id": "AGLeMtFkG5MQ",
        "outputId": "1a398286-2775-424c-961d-5ea378e610c1",
        "colab": {
          "base_uri": "https://localhost:8080/",
          "height": 52
        }
      },
      "source": [
        "if COLAB:\n",
        "    from google.colab import drive\n",
        "    drive.flush_and_unmount()\n",
        "    drive.mount('/content/drive', force_remount=True)"
      ],
      "execution_count": 0,
      "outputs": [
        {
          "output_type": "stream",
          "text": [
            "Drive not mounted, so nothing to flush and unmount.\n",
            "Mounted at /content/drive\n"
          ],
          "name": "stdout"
        }
      ]
    },
    {
      "cell_type": "code",
      "metadata": {
        "colab_type": "code",
        "id": "RCABbANbG5Ma",
        "colab": {}
      },
      "source": [
        "if COLAB:\n",
        "    import sys\n",
        "    sys.path.append(\"/content/drive/My Drive/IC/mosquito-networking/\")"
      ],
      "execution_count": 0,
      "outputs": []
    },
    {
      "cell_type": "code",
      "metadata": {
        "colab_type": "code",
        "id": "3JUG_aW2H7lf",
        "outputId": "9e6d43fc-78b5-4bc3-94ce-2db66774dd6f",
        "colab": {
          "base_uri": "https://localhost:8080/",
          "height": 173
        }
      },
      "source": [
        "if COLAB:\n",
        "    !python3 -m pip install -qr \"/content/drive/My Drive/IC/mosquito-networking/drive_requirements.txt\""
      ],
      "execution_count": 0,
      "outputs": [
        {
          "output_type": "stream",
          "text": [
            "\u001b[K     |████████████████████████████████| 2.4MB 3.3MB/s \n",
            "\u001b[K     |████████████████████████████████| 71kB 4.2MB/s \n",
            "\u001b[K     |████████████████████████████████| 122kB 46.0MB/s \n",
            "\u001b[K     |████████████████████████████████| 51kB 6.1MB/s \n",
            "\u001b[K     |████████████████████████████████| 5.3MB 31.6MB/s \n",
            "\u001b[K     |████████████████████████████████| 51kB 6.0MB/s \n",
            "\u001b[K     |████████████████████████████████| 61kB 6.8MB/s \n",
            "\u001b[?25h  Building wheel for autopep8 (setup.py) ... \u001b[?25l\u001b[?25hdone\n",
            "  Building wheel for jupyter-tensorboard (setup.py) ... \u001b[?25l\u001b[?25hdone\n"
          ],
          "name": "stdout"
        }
      ]
    },
    {
      "cell_type": "code",
      "metadata": {
        "colab_type": "code",
        "id": "S-UqU8J3G5Mp",
        "colab": {}
      },
      "source": [
        "if not COLAB:\n",
        "    # OPTIONAL: Load the \"autoreload\" extension so that code can change\n",
        "    %load_ext autoreload\n",
        "    # OPTIONAL: always reload modules so that as you change code in src, it gets loaded\n",
        "    %autoreload 2"
      ],
      "execution_count": 0,
      "outputs": []
    },
    {
      "cell_type": "code",
      "metadata": {
        "colab_type": "code",
        "id": "6guAiINDjrIE",
        "colab": {}
      },
      "source": [
        "import numpy as np\n",
        "import pandas as pd\n",
        "import joblib\n",
        "\n",
        "import matplotlib.pyplot as plt\n",
        "import seaborn as sns\n",
        "sns.set()"
      ],
      "execution_count": 0,
      "outputs": []
    },
    {
      "cell_type": "markdown",
      "metadata": {
        "colab_type": "text",
        "id": "29syQKBqG5Ml"
      },
      "source": [
        "\n",
        "\n",
        "- - - \n",
        "\n",
        "<br>\n",
        "<br>\n",
        "<br>\n",
        "<br>\n",
        "<br>\n",
        "<br>\n",
        "<br>\n",
        "<br>\n",
        "<br>\n",
        "<br>\n",
        "<br>\n",
        "<br>"
      ]
    },
    {
      "cell_type": "markdown",
      "metadata": {
        "colab_type": "text",
        "id": "8qJ96Nw-G5Mx"
      },
      "source": [
        "# Experiment params"
      ]
    },
    {
      "cell_type": "code",
      "metadata": {
        "colab_type": "code",
        "id": "VTHyGYcfG5M5",
        "colab": {}
      },
      "source": [
        "# Parameters\n",
        "params = {'batch_size': 64,\n",
        "          'shuffle': True,\n",
        "          'epochs': 2 if TESTING else 100}"
      ],
      "execution_count": 0,
      "outputs": []
    },
    {
      "cell_type": "markdown",
      "metadata": {
        "colab_type": "text",
        "id": "7lUKEmIlG5NG"
      },
      "source": [
        "# load data"
      ]
    },
    {
      "cell_type": "code",
      "metadata": {
        "colab_type": "code",
        "id": "ZXUOOiHcG5NJ",
        "outputId": "b08a7052-d985-4ec5-a8b7-5113f8f9bc32",
        "colab": {
          "base_uri": "https://localhost:8080/",
          "height": 72
        }
      },
      "source": [
        "# Load scaler\n",
        "#scaler = joblib.load(\"../data/interim/scaler.pkl\")\n",
        "if SCALE:\n",
        "    scaler = joblib.load(BASE_DIR + \n",
        "                         f\"data/interim/scaler_{FORMAT}_{TEMPERATURE}_no_std.pkl\")"
      ],
      "execution_count": 0,
      "outputs": [
        {
          "output_type": "stream",
          "text": [
            "/usr/local/lib/python3.6/dist-packages/sklearn/base.py:306: UserWarning: Trying to unpickle estimator StandardScaler from version 0.21.2 when using version 0.21.3. This might lead to breaking code or invalid results. Use at your own risk.\n",
            "  UserWarning)\n"
          ],
          "name": "stderr"
        }
      ]
    },
    {
      "cell_type": "code",
      "metadata": {
        "colab_type": "code",
        "id": "H3finABn5VMo",
        "colab": {}
      },
      "source": [
        "#data = np.load(BASE_DIR + f\"data/interim/all_wavs_{FORMAT}_{TEMPERATURE}.npz\",\n",
        "data = np.load(BASE_DIR + f\"data/interim/all_wavs_{FORMAT}_{TEMPERATURE}_no_std.npz\",\n",
        "               allow_pickle=True)"
      ],
      "execution_count": 0,
      "outputs": []
    },
    {
      "cell_type": "code",
      "metadata": {
        "id": "tXOlr4MoyEK-",
        "colab_type": "code",
        "colab": {}
      },
      "source": [
        "SCALE=False"
      ],
      "execution_count": 0,
      "outputs": []
    },
    {
      "cell_type": "code",
      "metadata": {
        "colab_type": "code",
        "id": "rwvRk7rX9YS8",
        "colab": {}
      },
      "source": [
        "# Parse and divide data\n",
        "train_data = data[\"train\"]\n",
        "val_data = data[\"val\"]\n",
        "test_data = data[\"test\"]\n",
        "\n",
        "if SCALE:\n",
        "    x_train = scaler.transform(train_data[:, :-1])\n",
        "    x_val = scaler.transform(val_data[:, :-1])\n",
        "    x_test = scaler.transform(test_data[:, :-1])\n",
        "else:\n",
        "    x_train = train_data[:, :-1]\n",
        "    x_val = val_data[:, :-1]\n",
        "    x_test = test_data[:, :-1]\n",
        "\n",
        "y_train = train_data[:, -1]\n",
        "y_val = val_data[:, -1]\n",
        "y_test = test_data[:, -1]"
      ],
      "execution_count": 0,
      "outputs": []
    },
    {
      "cell_type": "code",
      "metadata": {
        "colab_type": "code",
        "id": "T55sgV4nG5NT",
        "colab": {}
      },
      "source": [
        "# Reshape data\n",
        "x_train = x_train.reshape((*x_train.shape, 1))\n",
        "x_val = x_val.reshape((*x_val.shape, 1))\n",
        "x_test = x_test.reshape((*x_test.shape, 1))"
      ],
      "execution_count": 0,
      "outputs": []
    },
    {
      "cell_type": "code",
      "metadata": {
        "colab_type": "code",
        "id": "LY8N6zHMjrIi",
        "colab": {}
      },
      "source": [
        "# Generators\n",
        "# I am not using generators since currently the dataset fits on RAM"
      ],
      "execution_count": 0,
      "outputs": []
    },
    {
      "cell_type": "markdown",
      "metadata": {
        "colab_type": "text",
        "id": "tnSGKM51G5NZ"
      },
      "source": [
        "# Load model"
      ]
    },
    {
      "cell_type": "code",
      "metadata": {
        "code_folding": [],
        "colab_type": "code",
        "id": "i-4jOwGaG5Nb",
        "outputId": "be78c463-fdbf-485a-fc44-1928347c3db6",
        "colab": {
          "base_uri": "https://localhost:8080/",
          "height": 364
        }
      },
      "source": [
        "\"\"\"A much better way to load a custom module since it allows us to change it easierly\n",
        "    on the fly. Idea from https://zerowithdot.com/colab-workspace/\n",
        "\"\"\"\n",
        "from os.path import join\n",
        "from importlib.machinery import SourceFileLoader\n",
        "wingbeats_model = SourceFileLoader('wingbeats_model', join(BASE_DIR, 'src/models/wingbeats_model.py')).load_module()\n",
        "model = wingbeats_model.WingbeatsNetModel(dropout=False)\n",
        "#from src.models.wingbeats_model import WingbeatsNetModel\n",
        "#model = WingbeatsNetModel(dropout=False)\n",
        "# load weights?\n",
        "#f\"runs/colab/{COLAB_IDX-1}/model_epoch_90.pt\"))\n",
        "model.summary() "
      ],
      "execution_count": 0,
      "outputs": [
        {
          "output_type": "stream",
          "text": [
            "Model: \"sequential\"\n",
            "_________________________________________________________________\n",
            "Layer (type)                 Output Shape              Param #   \n",
            "=================================================================\n",
            "gaussian_noise (GaussianNois (None, 11025, 1)          0         \n",
            "_________________________________________________________________\n",
            "conv1d (Conv1D)              (None, 11023, 16)         64        \n",
            "_________________________________________________________________\n",
            "conv1d_1 (Conv1D)            (None, 11021, 16)         784       \n",
            "_________________________________________________________________\n",
            "batch_normalization (BatchNo (None, 11021, 16)         64        \n",
            "_________________________________________________________________\n",
            "global_average_pooling1d (Gl (None, 16)                0         \n",
            "_________________________________________________________________\n",
            "dense (Dense)                (None, 1)                 17        \n",
            "=================================================================\n",
            "Total params: 929\n",
            "Trainable params: 897\n",
            "Non-trainable params: 32\n",
            "_________________________________________________________________\n"
          ],
          "name": "stdout"
        }
      ]
    },
    {
      "cell_type": "markdown",
      "metadata": {
        "id": "DkDHjlNkvWjn",
        "colab_type": "text"
      },
      "source": [
        "![](wingbeats_model.png)"
      ]
    },
    {
      "cell_type": "markdown",
      "metadata": {
        "colab_type": "text",
        "id": "fVoQ1CdUG5No"
      },
      "source": [
        "<br>\n",
        "<br>\n",
        "<br>\n",
        "<br>\n",
        "<br>\n",
        "<br>\n",
        "\n",
        "# Start tensorboard"
      ]
    },
    {
      "cell_type": "code",
      "metadata": {
        "colab_type": "code",
        "id": "7PLsosnUG5Nq",
        "colab": {}
      },
      "source": [
        "save_path =  BASE_DIR + f\"runs/TCC/{TEMPERATURE}/{FORMAT}/{COLAB_IDX}/\""
      ],
      "execution_count": 0,
      "outputs": []
    },
    {
      "cell_type": "code",
      "metadata": {
        "id": "3V_XAwaX-4Jf",
        "colab_type": "code",
        "outputId": "b2d5dbe9-cca7-4a7d-9b7b-63b21b681a08",
        "colab": {
          "base_uri": "https://localhost:8080/",
          "height": 52
        }
      },
      "source": [
        "!python3 -m pip install --upgrade grpcio"
      ],
      "execution_count": 0,
      "outputs": [
        {
          "output_type": "stream",
          "text": [
            "Requirement already up-to-date: grpcio in /usr/local/lib/python3.6/dist-packages (1.24.3)\n",
            "Requirement already satisfied, skipping upgrade: six>=1.5.2 in /usr/local/lib/python3.6/dist-packages (from grpcio) (1.12.0)\n"
          ],
          "name": "stdout"
        }
      ]
    },
    {
      "cell_type": "code",
      "metadata": {
        "id": "EMaox1k49axx",
        "colab_type": "code",
        "outputId": "05bac3de-74f5-4f6b-bae9-10c47e495589",
        "colab": {
          "base_uri": "https://localhost:8080/",
          "height": 52
        }
      },
      "source": [
        "# Load the TensorBoard notebook extension\n",
        "%load_ext tensorboard"
      ],
      "execution_count": 0,
      "outputs": [
        {
          "output_type": "stream",
          "text": [
            "The tensorboard extension is already loaded. To reload it, use:\n",
            "  %reload_ext tensorboard\n"
          ],
          "name": "stdout"
        }
      ]
    },
    {
      "cell_type": "code",
      "metadata": {
        "id": "VRVUierljrJV",
        "colab_type": "code",
        "outputId": "520e830b-8aea-4650-f871-569fafefbff1",
        "colab": {
          "base_uri": "https://localhost:8080/",
          "height": 34
        }
      },
      "source": [
        "#!kill 5269\n",
        "%tensorboard --logdir logs"
      ],
      "execution_count": 0,
      "outputs": [
        {
          "output_type": "stream",
          "text": [
            "/bin/bash: line 0: kill: (5269) - No such process\n"
          ],
          "name": "stdout"
        },
        {
          "output_type": "display_data",
          "data": {
            "text/html": [
              "\n",
              "    <div id=\"root\"></div>\n",
              "    <script>\n",
              "      (function() {\n",
              "        window.TENSORBOARD_ENV = window.TENSORBOARD_ENV || {};\n",
              "        window.TENSORBOARD_ENV[\"IN_COLAB\"] = true;\n",
              "        document.querySelector(\"base\").href = \"https://localhost:6006\";\n",
              "        function fixUpTensorboard(root) {\n",
              "          const tftb = root.querySelector(\"tf-tensorboard\");\n",
              "          // Disable the fragment manipulation behavior in Colab. Not\n",
              "          // only is the behavior not useful (as the iframe's location\n",
              "          // is not visible to the user), it causes TensorBoard's usage\n",
              "          // of `window.replace` to navigate away from the page and to\n",
              "          // the `localhost:<port>` URL specified by the base URI, which\n",
              "          // in turn causes the frame to (likely) crash.\n",
              "          tftb.removeAttribute(\"use-hash\");\n",
              "        }\n",
              "        function executeAllScripts(root) {\n",
              "          // When `script` elements are inserted into the DOM by\n",
              "          // assigning to an element's `innerHTML`, the scripts are not\n",
              "          // executed. Thus, we manually re-insert these scripts so that\n",
              "          // TensorBoard can initialize itself.\n",
              "          for (const script of root.querySelectorAll(\"script\")) {\n",
              "            const newScript = document.createElement(\"script\");\n",
              "            newScript.type = script.type;\n",
              "            newScript.textContent = script.textContent;\n",
              "            root.appendChild(newScript);\n",
              "            script.remove();\n",
              "          }\n",
              "        }\n",
              "        function setHeight(root, height) {\n",
              "          // We set the height dynamically after the TensorBoard UI has\n",
              "          // been initialized. This avoids an intermediate state in\n",
              "          // which the container plus the UI become taller than the\n",
              "          // final width and cause the Colab output frame to be\n",
              "          // permanently resized, eventually leading to an empty\n",
              "          // vertical gap below the TensorBoard UI. It's not clear\n",
              "          // exactly what causes this problematic intermediate state,\n",
              "          // but setting the height late seems to fix it.\n",
              "          root.style.height = `${height}px`;\n",
              "        }\n",
              "        const root = document.getElementById(\"root\");\n",
              "        fetch(\".\")\n",
              "          .then((x) => x.text())\n",
              "          .then((html) => void (root.innerHTML = html))\n",
              "          .then(() => fixUpTensorboard(root))\n",
              "          .then(() => executeAllScripts(root))\n",
              "          .then(() => setHeight(root, 800));\n",
              "      })();\n",
              "    </script>\n",
              "  "
            ],
            "text/plain": [
              "<IPython.core.display.HTML object>"
            ]
          },
          "metadata": {
            "tags": []
          }
        }
      ]
    },
    {
      "cell_type": "markdown",
      "metadata": {
        "colab_type": "text",
        "id": "lvnnGZpPG5Nv"
      },
      "source": [
        "<br>\n",
        "<br>\n",
        "<br>\n",
        "<br>\n",
        "<br>\n",
        "<br>\n",
        "<br>\n",
        "<br>\n",
        "<br>\n",
        "<br>\n",
        "<br>\n",
        "\n",
        "# train function"
      ]
    },
    {
      "cell_type": "code",
      "metadata": {
        "id": "pa9a0cRgjrI4",
        "colab_type": "code",
        "colab": {}
      },
      "source": [
        "MODEL = \"testing\"\n",
        "model_name = f\"{MODEL}\""
      ],
      "execution_count": 0,
      "outputs": []
    },
    {
      "cell_type": "code",
      "metadata": {
        "id": "qtS1puNCjrI8",
        "colab_type": "code",
        "colab": {}
      },
      "source": [
        "from tensorflow.keras.optimizers import SGD\n",
        "from tensorflow.keras.callbacks import (ModelCheckpoint, EarlyStopping, \n",
        "                                        ReduceLROnPlateau, CSVLogger,\n",
        "                                        TensorBoard)"
      ],
      "execution_count": 0,
      "outputs": []
    },
    {
      "cell_type": "code",
      "metadata": {
        "id": "WIqWRgVAXG5h",
        "colab_type": "code",
        "colab": {}
      },
      "source": [
        "# Overfit small amount of data\n",
        "temp = x_train.copy()\n",
        "temp_y = y_train.copy()"
      ],
      "execution_count": 0,
      "outputs": []
    },
    {
      "cell_type": "code",
      "metadata": {
        "id": "CX5pTDdgjrI_",
        "colab_type": "code",
        "outputId": "ccb182bc-faed-4463-9617-47e4cbd80242",
        "colab": {
          "base_uri": "https://localhost:8080/",
          "height": 469
        }
      },
      "source": [
        "x_train = x_train[:10]\n",
        "y_train = y_train[:10]\n",
        "\n",
        "params[\"epochs\"] = 10\n",
        "params[\"batch_size\"] = 20\n",
        "\n",
        "model = wingbeats_model.WingbeatsNetModel(dropout=False, batch_norm=False, \n",
        "                                          use_noise=False, blocks=3)#lr=0.0001)\n",
        "model.summary()"
      ],
      "execution_count": 0,
      "outputs": [
        {
          "output_type": "stream",
          "text": [
            "Model: \"sequential_5\"\n",
            "_________________________________________________________________\n",
            "Layer (type)                 Output Shape              Param #   \n",
            "=================================================================\n",
            "conv1d_12 (Conv1D)           (None, 11023, 16)         64        \n",
            "_________________________________________________________________\n",
            "conv1d_13 (Conv1D)           (None, 11021, 16)         784       \n",
            "_________________________________________________________________\n",
            "conv1d_14 (Conv1D)           (None, 11019, 32)         1568      \n",
            "_________________________________________________________________\n",
            "conv1d_15 (Conv1D)           (None, 11017, 32)         3104      \n",
            "_________________________________________________________________\n",
            "max_pooling1d (MaxPooling1D) (None, 5508, 32)          0         \n",
            "_________________________________________________________________\n",
            "conv1d_16 (Conv1D)           (None, 5506, 64)          6208      \n",
            "_________________________________________________________________\n",
            "conv1d_17 (Conv1D)           (None, 5504, 64)          12352     \n",
            "_________________________________________________________________\n",
            "global_average_pooling1d_5 ( (None, 64)                0         \n",
            "_________________________________________________________________\n",
            "dense_5 (Dense)              (None, 1)                 65        \n",
            "=================================================================\n",
            "Total params: 24,145\n",
            "Trainable params: 24,145\n",
            "Non-trainable params: 0\n",
            "_________________________________________________________________\n"
          ],
          "name": "stdout"
        }
      ]
    },
    {
      "cell_type": "code",
      "metadata": {
        "scrolled": true,
        "id": "DmvC8Q2-jrJS",
        "colab_type": "code",
        "outputId": "99b22ba7-659d-47de-89c1-565e90140427",
        "colab": {
          "base_uri": "https://localhost:8080/",
          "height": 1000
        }
      },
      "source": [
        "from datetime import datetime\n",
        "\n",
        "top_weights_path = 'model_' + model_name + '.h5'\n",
        "\n",
        "logdir = \"logs/scalars/\" + datetime.now().strftime(\"%Y%m%d-%H%M%S\")\n",
        "tensorboard_callback = TensorBoard(log_dir=logdir, write_grads=True,\n",
        "                                   write_graph=True, write_images=True,\n",
        "                                   histogram_freq=1)\n",
        "\n",
        "callbacks_list = [\n",
        "    #ModelCheckpoint(top_weights_path, monitor='val_acc', verbose=1,\n",
        "    #                save_best_only=True, save_weights_only=True),\n",
        "    #EarlyStopping(monitor='val_accuracy', patience=6, verbose=1),\n",
        "    tensorboard_callback]#,\n",
        "    #ReduceLROnPlateau(monitor = 'val_accuracy', factor=0.1, \n",
        "    #                  patience=3, verbose=1),\n",
        "    #CSVLogger('model_' + model_name + '.log')]\n",
        "\n",
        "histories = model.fit(x_train, y_train, \n",
        "          validation_data=[x_val, y_val],\n",
        "          callbacks=callbacks_list,\n",
        "          **params)\n",
        "\n",
        "#model.load_weights(top_weights_path)\n",
        "#loss, acc = model.evaluate(x_test, y_test)\n",
        "\n",
        "#print('loss', loss)\n",
        "#print('Test accuracy:', acc)"
      ],
      "execution_count": 0,
      "outputs": [
        {
          "output_type": "stream",
          "text": [
            "WARNING:tensorflow:`write_grads` will be ignored in TensorFlow 2.0 for the `TensorBoard` Callback.\n",
            "Train on 10 samples, validate on 743 samples\n",
            "Epoch 1/100\n",
            "10/10 [==============================] - 12s 1s/sample - loss: 12.8364 - accuracy: 0.5000 - val_loss: 0.7866 - val_accuracy: 0.4616\n",
            "Epoch 2/100\n",
            "10/10 [==============================] - 11s 1s/sample - loss: 0.8034 - accuracy: 0.5000 - val_loss: 3.1100 - val_accuracy: 0.4670\n",
            "Epoch 3/100\n",
            "10/10 [==============================] - 11s 1s/sample - loss: 3.1343 - accuracy: 0.5000 - val_loss: 1.8146 - val_accuracy: 0.5330\n",
            "Epoch 4/100\n",
            "10/10 [==============================] - 11s 1s/sample - loss: 1.5043 - accuracy: 0.5000 - val_loss: 1.9336 - val_accuracy: 0.5330\n",
            "Epoch 5/100\n",
            "10/10 [==============================] - 11s 1s/sample - loss: 1.6035 - accuracy: 0.5000 - val_loss: 0.7300 - val_accuracy: 0.4603\n",
            "Epoch 6/100\n",
            "10/10 [==============================] - 11s 1s/sample - loss: 0.7376 - accuracy: 0.5000 - val_loss: 1.2362 - val_accuracy: 0.4670\n",
            "Epoch 7/100\n",
            "10/10 [==============================] - 11s 1s/sample - loss: 1.2356 - accuracy: 0.5000 - val_loss: 0.7829 - val_accuracy: 0.5316\n",
            "Epoch 8/100\n",
            "10/10 [==============================] - 11s 1s/sample - loss: 0.7175 - accuracy: 0.5000 - val_loss: 1.1671 - val_accuracy: 0.5330\n",
            "Epoch 9/100\n",
            "10/10 [==============================] - 11s 1s/sample - loss: 0.9892 - accuracy: 0.5000 - val_loss: 0.8251 - val_accuracy: 0.5330\n",
            "Epoch 10/100\n",
            "10/10 [==============================] - 11s 1s/sample - loss: 0.7382 - accuracy: 0.5000 - val_loss: 0.8678 - val_accuracy: 0.4670\n",
            "Epoch 11/100\n",
            "10/10 [==============================] - 11s 1s/sample - loss: 0.8697 - accuracy: 0.5000 - val_loss: 0.7940 - val_accuracy: 0.4670\n",
            "Epoch 12/100\n",
            "10/10 [==============================] - 11s 1s/sample - loss: 0.7951 - accuracy: 0.5000 - val_loss: 0.8208 - val_accuracy: 0.5289\n",
            "Epoch 13/100\n",
            "10/10 [==============================] - 11s 1s/sample - loss: 0.7252 - accuracy: 0.5000 - val_loss: 0.9917 - val_accuracy: 0.5330\n",
            "Epoch 14/100\n",
            "10/10 [==============================] - 11s 1s/sample - loss: 0.8385 - accuracy: 0.5000 - val_loss: 0.7727 - val_accuracy: 0.5222\n",
            "Epoch 15/100\n",
            "10/10 [==============================] - 11s 1s/sample - loss: 0.6894 - accuracy: 0.5000 - val_loss: 0.7555 - val_accuracy: 0.4724\n",
            "Epoch 16/100\n",
            "10/10 [==============================] - 11s 1s/sample - loss: 0.7475 - accuracy: 0.6000 - val_loss: 0.7619 - val_accuracy: 0.4738\n",
            "Epoch 17/100\n",
            "10/10 [==============================] - 11s 1s/sample - loss: 0.7523 - accuracy: 0.6000 - val_loss: 0.7321 - val_accuracy: 0.5061\n",
            "Epoch 18/100\n",
            "10/10 [==============================] - 11s 1s/sample - loss: 0.6604 - accuracy: 0.6000 - val_loss: 0.8850 - val_accuracy: 0.5289\n",
            "Epoch 19/100\n",
            "10/10 [==============================] - 11s 1s/sample - loss: 0.7447 - accuracy: 0.5000 - val_loss: 0.8041 - val_accuracy: 0.5236\n",
            "Epoch 20/100\n",
            "10/10 [==============================] - 11s 1s/sample - loss: 0.6900 - accuracy: 0.5000 - val_loss: 0.7014 - val_accuracy: 0.5424\n",
            "Epoch 21/100\n",
            "10/10 [==============================] - 11s 1s/sample - loss: 0.6617 - accuracy: 0.5000 - val_loss: 0.7414 - val_accuracy: 0.4859\n",
            "Epoch 22/100\n",
            "10/10 [==============================] - 11s 1s/sample - loss: 0.7169 - accuracy: 0.6000 - val_loss: 0.7024 - val_accuracy: 0.5424\n",
            "Epoch 23/100\n",
            "10/10 [==============================] - 11s 1s/sample - loss: 0.6454 - accuracy: 0.6000 - val_loss: 0.7994 - val_accuracy: 0.5128\n",
            "Epoch 24/100\n",
            "10/10 [==============================] - 11s 1s/sample - loss: 0.6750 - accuracy: 0.5000 - val_loss: 0.8118 - val_accuracy: 0.5182\n",
            "Epoch 25/100\n",
            "10/10 [==============================] - 11s 1s/sample - loss: 0.6789 - accuracy: 0.5000 - val_loss: 0.7140 - val_accuracy: 0.5491\n",
            "Epoch 26/100\n",
            "10/10 [==============================] - 11s 1s/sample - loss: 0.6335 - accuracy: 0.7000 - val_loss: 0.7161 - val_accuracy: 0.5222\n",
            "Epoch 27/100\n",
            "10/10 [==============================] - 11s 1s/sample - loss: 0.6693 - accuracy: 0.6000 - val_loss: 0.7053 - val_accuracy: 0.5545\n",
            "Epoch 28/100\n",
            "10/10 [==============================] - 11s 1s/sample - loss: 0.6437 - accuracy: 0.5000 - val_loss: 0.7492 - val_accuracy: 0.5141\n",
            "Epoch 29/100\n",
            "10/10 [==============================] - 11s 1s/sample - loss: 0.6326 - accuracy: 0.7000 - val_loss: 0.7990 - val_accuracy: 0.5047\n",
            "Epoch 30/100\n",
            "10/10 [==============================] - 11s 1s/sample - loss: 0.6529 - accuracy: 0.6000 - val_loss: 0.7396 - val_accuracy: 0.5155\n",
            "Epoch 31/100\n",
            "10/10 [==============================] - 11s 1s/sample - loss: 0.6227 - accuracy: 0.7000 - val_loss: 0.7096 - val_accuracy: 0.5559\n",
            "Epoch 32/100\n",
            "10/10 [==============================] - 11s 1s/sample - loss: 0.6335 - accuracy: 0.5000 - val_loss: 0.7110 - val_accuracy: 0.5559\n",
            "Epoch 33/100\n",
            "10/10 [==============================] - 11s 1s/sample - loss: 0.6317 - accuracy: 0.5000 - val_loss: 0.7382 - val_accuracy: 0.5289\n",
            "Epoch 34/100\n",
            "10/10 [==============================] - 11s 1s/sample - loss: 0.6144 - accuracy: 0.7000 - val_loss: 0.7846 - val_accuracy: 0.5101\n",
            "Epoch 35/100\n",
            "10/10 [==============================] - 11s 1s/sample - loss: 0.6296 - accuracy: 0.6000 - val_loss: 0.7442 - val_accuracy: 0.5236\n",
            "Epoch 36/100\n",
            "10/10 [==============================] - 11s 1s/sample - loss: 0.6095 - accuracy: 0.7000 - val_loss: 0.7204 - val_accuracy: 0.5572\n",
            "Epoch 37/100\n",
            "10/10 [==============================] - 11s 1s/sample - loss: 0.6206 - accuracy: 0.5000 - val_loss: 0.7223 - val_accuracy: 0.5464\n",
            "Epoch 38/100\n",
            "10/10 [==============================] - 11s 1s/sample - loss: 0.6056 - accuracy: 0.6000 - val_loss: 0.7635 - val_accuracy: 0.5195\n",
            "Epoch 39/100\n",
            "10/10 [==============================] - 11s 1s/sample - loss: 0.6065 - accuracy: 0.7000 - val_loss: 0.7668 - val_accuracy: 0.5128\n",
            "Epoch 40/100\n",
            "10/10 [==============================] - 11s 1s/sample - loss: 0.6047 - accuracy: 0.7000 - val_loss: 0.7277 - val_accuracy: 0.5343\n",
            "Epoch 41/100\n",
            "10/10 [==============================] - 11s 1s/sample - loss: 0.5943 - accuracy: 0.6000 - val_loss: 0.7241 - val_accuracy: 0.5545\n",
            "Epoch 42/100\n",
            "10/10 [==============================] - 11s 1s/sample - loss: 0.6005 - accuracy: 0.7000 - val_loss: 0.7396 - val_accuracy: 0.5155\n",
            "Epoch 43/100\n",
            "10/10 [==============================] - 11s 1s/sample - loss: 0.5867 - accuracy: 0.7000 - val_loss: 0.7718 - val_accuracy: 0.5074\n",
            "Epoch 44/100\n",
            "10/10 [==============================] - 11s 1s/sample - loss: 0.5918 - accuracy: 0.7000 - val_loss: 0.7495 - val_accuracy: 0.5061\n",
            "Epoch 45/100\n",
            "10/10 [==============================] - 11s 1s/sample - loss: 0.5810 - accuracy: 0.7000 - val_loss: 0.7340 - val_accuracy: 0.5424\n",
            "Epoch 46/100\n",
            "10/10 [==============================] - 11s 1s/sample - loss: 0.5858 - accuracy: 0.7000 - val_loss: 0.7464 - val_accuracy: 0.5209\n",
            "Epoch 47/100\n",
            "10/10 [==============================] - 11s 1s/sample - loss: 0.5737 - accuracy: 0.7000 - val_loss: 0.7773 - val_accuracy: 0.4993\n",
            "Epoch 48/100\n",
            "10/10 [==============================] - 11s 1s/sample - loss: 0.5761 - accuracy: 0.6000 - val_loss: 0.7560 - val_accuracy: 0.5061\n",
            "Epoch 49/100\n",
            "10/10 [==============================] - 11s 1s/sample - loss: 0.5661 - accuracy: 0.7000 - val_loss: 0.7464 - val_accuracy: 0.5384\n",
            "Epoch 50/100\n",
            "10/10 [==============================] - 11s 1s/sample - loss: 0.5700 - accuracy: 0.7000 - val_loss: 0.7766 - val_accuracy: 0.4980\n",
            "Epoch 51/100\n",
            "10/10 [==============================] - 11s 1s/sample - loss: 0.5614 - accuracy: 0.6000 - val_loss: 0.7840 - val_accuracy: 0.5007\n",
            "Epoch 52/100\n",
            "10/10 [==============================] - 11s 1s/sample - loss: 0.5593 - accuracy: 0.6000 - val_loss: 0.7575 - val_accuracy: 0.5303\n",
            "Epoch 53/100\n",
            "10/10 [==============================] - 11s 1s/sample - loss: 0.5584 - accuracy: 0.8000 - val_loss: 0.7724 - val_accuracy: 0.5047\n",
            "Epoch 54/100\n",
            "10/10 [==============================] - 11s 1s/sample - loss: 0.5501 - accuracy: 0.7000 - val_loss: 0.7960 - val_accuracy: 0.4939\n",
            "Epoch 55/100\n",
            "10/10 [==============================] - 11s 1s/sample - loss: 0.5502 - accuracy: 0.6000 - val_loss: 0.7718 - val_accuracy: 0.5182\n",
            "Epoch 56/100\n",
            "10/10 [==============================] - 11s 1s/sample - loss: 0.5428 - accuracy: 0.7000 - val_loss: 0.7728 - val_accuracy: 0.5222\n",
            "Epoch 57/100\n",
            "10/10 [==============================] - 11s 1s/sample - loss: 0.5395 - accuracy: 0.9000 - val_loss: 0.8020 - val_accuracy: 0.4966\n",
            "Epoch 58/100\n",
            "10/10 [==============================] - 11s 1s/sample - loss: 0.5370 - accuracy: 0.6000 - val_loss: 0.7875 - val_accuracy: 0.5047\n",
            "Epoch 59/100\n",
            "10/10 [==============================] - 11s 1s/sample - loss: 0.5297 - accuracy: 0.7000 - val_loss: 0.7844 - val_accuracy: 0.5168\n",
            "Epoch 60/100\n",
            "10/10 [==============================] - 11s 1s/sample - loss: 0.5279 - accuracy: 0.9000 - val_loss: 0.8215 - val_accuracy: 0.4926\n",
            "Epoch 61/100\n",
            "10/10 [==============================] - 11s 1s/sample - loss: 0.5254 - accuracy: 0.6000 - val_loss: 0.7987 - val_accuracy: 0.5101\n",
            "Epoch 62/100\n",
            "10/10 [==============================] - 11s 1s/sample - loss: 0.5174 - accuracy: 0.9000 - val_loss: 0.8082 - val_accuracy: 0.5101\n",
            "Epoch 63/100\n",
            "10/10 [==============================] - 11s 1s/sample - loss: 0.5120 - accuracy: 0.9000 - val_loss: 0.8399 - val_accuracy: 0.4980\n",
            "Epoch 64/100\n",
            "10/10 [==============================] - 11s 1s/sample - loss: 0.5105 - accuracy: 0.7000 - val_loss: 0.8127 - val_accuracy: 0.5141\n",
            "Epoch 65/100\n",
            "10/10 [==============================] - 11s 1s/sample - loss: 0.5093 - accuracy: 0.8000 - val_loss: 0.8672 - val_accuracy: 0.4939\n",
            "Epoch 66/100\n",
            "10/10 [==============================] - 11s 1s/sample - loss: 0.5062 - accuracy: 0.6000 - val_loss: 0.8270 - val_accuracy: 0.5074\n",
            "Epoch 67/100\n",
            "10/10 [==============================] - 11s 1s/sample - loss: 0.4944 - accuracy: 0.9000 - val_loss: 0.8406 - val_accuracy: 0.4980\n",
            "Epoch 68/100\n",
            "10/10 [==============================] - 11s 1s/sample - loss: 0.4865 - accuracy: 0.9000 - val_loss: 0.8659 - val_accuracy: 0.4859\n",
            "Epoch 69/100\n",
            "10/10 [==============================] - 11s 1s/sample - loss: 0.4848 - accuracy: 0.8000 - val_loss: 0.8430 - val_accuracy: 0.5101\n",
            "Epoch 70/100\n",
            "10/10 [==============================] - 11s 1s/sample - loss: 0.4837 - accuracy: 0.9000 - val_loss: 0.8984 - val_accuracy: 0.4886\n",
            "Epoch 71/100\n",
            "10/10 [==============================] - 11s 1s/sample - loss: 0.4812 - accuracy: 0.7000 - val_loss: 0.8608 - val_accuracy: 0.5101\n",
            "Epoch 72/100\n",
            "10/10 [==============================] - 11s 1s/sample - loss: 0.4707 - accuracy: 0.9000 - val_loss: 0.8900 - val_accuracy: 0.4845\n",
            "Epoch 73/100\n",
            "10/10 [==============================] - 11s 1s/sample - loss: 0.4610 - accuracy: 0.9000 - val_loss: 0.8974 - val_accuracy: 0.4926\n",
            "Epoch 74/100\n",
            "10/10 [==============================] - 11s 1s/sample - loss: 0.4545 - accuracy: 0.9000 - val_loss: 0.8944 - val_accuracy: 0.4966\n",
            "Epoch 75/100\n",
            "10/10 [==============================] - 11s 1s/sample - loss: 0.4511 - accuracy: 0.9000 - val_loss: 0.9606 - val_accuracy: 0.4886\n",
            "Epoch 76/100\n",
            "10/10 [==============================] - 11s 1s/sample - loss: 0.4559 - accuracy: 0.8000 - val_loss: 0.9126 - val_accuracy: 0.5141\n",
            "Epoch 77/100\n",
            "10/10 [==============================] - 11s 1s/sample - loss: 0.4823 - accuracy: 0.8000 - val_loss: 1.1163 - val_accuracy: 0.4953\n",
            "Epoch 78/100\n",
            "10/10 [==============================] - 11s 1s/sample - loss: 0.5378 - accuracy: 0.7000 - val_loss: 0.9125 - val_accuracy: 0.5087\n",
            "Epoch 79/100\n",
            "10/10 [==============================] - 11s 1s/sample - loss: 0.4397 - accuracy: 0.9000 - val_loss: 0.9147 - val_accuracy: 0.5101\n",
            "Epoch 80/100\n",
            "10/10 [==============================] - 11s 1s/sample - loss: 0.4477 - accuracy: 0.8000 - val_loss: 1.0922 - val_accuracy: 0.4966\n",
            "Epoch 81/100\n",
            "10/10 [==============================] - 11s 1s/sample - loss: 0.5050 - accuracy: 0.7000 - val_loss: 0.9237 - val_accuracy: 0.4953\n",
            "Epoch 82/100\n",
            "10/10 [==============================] - 11s 1s/sample - loss: 0.4212 - accuracy: 0.9000 - val_loss: 0.9287 - val_accuracy: 0.5114\n",
            "Epoch 83/100\n",
            "10/10 [==============================] - 11s 1s/sample - loss: 0.4547 - accuracy: 0.8000 - val_loss: 1.0959 - val_accuracy: 0.4899\n",
            "Epoch 84/100\n",
            "10/10 [==============================] - 11s 1s/sample - loss: 0.4890 - accuracy: 0.7000 - val_loss: 0.9541 - val_accuracy: 0.4886\n",
            "Epoch 85/100\n",
            "10/10 [==============================] - 11s 1s/sample - loss: 0.4054 - accuracy: 0.9000 - val_loss: 0.9639 - val_accuracy: 0.5114\n",
            "Epoch 86/100\n",
            "10/10 [==============================] - 10s 1s/sample - loss: 0.4829 - accuracy: 0.8000 - val_loss: 1.1112 - val_accuracy: 0.4899\n",
            "Epoch 87/100\n",
            "10/10 [==============================] - 11s 1s/sample - loss: 0.4727 - accuracy: 0.7000 - val_loss: 1.0075 - val_accuracy: 0.4899\n",
            "Epoch 88/100\n",
            "10/10 [==============================] - 11s 1s/sample - loss: 0.4016 - accuracy: 0.9000 - val_loss: 1.0042 - val_accuracy: 0.4980\n",
            "Epoch 89/100\n",
            "10/10 [==============================] - 11s 1s/sample - loss: 0.5052 - accuracy: 0.7000 - val_loss: 1.0963 - val_accuracy: 0.4886\n",
            "Epoch 90/100\n",
            "10/10 [==============================] - 11s 1s/sample - loss: 0.4329 - accuracy: 0.6000 - val_loss: 1.0747 - val_accuracy: 0.4845\n",
            "Epoch 91/100\n",
            "10/10 [==============================] - 11s 1s/sample - loss: 0.4111 - accuracy: 0.7000 - val_loss: 1.0118 - val_accuracy: 0.5101\n",
            "Epoch 92/100\n",
            "10/10 [==============================] - 11s 1s/sample - loss: 0.4749 - accuracy: 0.8000 - val_loss: 1.0447 - val_accuracy: 0.4913\n",
            "Epoch 93/100\n",
            "10/10 [==============================] - 11s 1s/sample - loss: 0.3809 - accuracy: 0.9000 - val_loss: 1.1251 - val_accuracy: 0.4899\n",
            "Epoch 94/100\n",
            "10/10 [==============================] - 11s 1s/sample - loss: 0.4158 - accuracy: 0.7000 - val_loss: 1.0046 - val_accuracy: 0.5141\n",
            "Epoch 95/100\n",
            "10/10 [==============================] - 11s 1s/sample - loss: 0.4022 - accuracy: 0.9000 - val_loss: 1.0195 - val_accuracy: 0.4953\n",
            "Epoch 96/100\n",
            "10/10 [==============================] - 11s 1s/sample - loss: 0.3631 - accuracy: 0.9000 - val_loss: 1.1415 - val_accuracy: 0.4899\n",
            "Epoch 97/100\n",
            "10/10 [==============================] - 11s 1s/sample - loss: 0.3988 - accuracy: 0.8000 - val_loss: 1.0329 - val_accuracy: 0.4966\n",
            "Epoch 98/100\n",
            "10/10 [==============================] - 11s 1s/sample - loss: 0.3565 - accuracy: 0.9000 - val_loss: 1.0347 - val_accuracy: 0.5101\n",
            "Epoch 99/100\n",
            "10/10 [==============================] - 11s 1s/sample - loss: 0.3668 - accuracy: 0.9000 - val_loss: 1.1534 - val_accuracy: 0.4899\n",
            "Epoch 100/100\n",
            "10/10 [==============================] - 11s 1s/sample - loss: 0.3757 - accuracy: 0.8000 - val_loss: 1.0765 - val_accuracy: 0.5007\n"
          ],
          "name": "stdout"
        }
      ]
    },
    {
      "cell_type": "code",
      "metadata": {
        "id": "u9ocU3fFPtm9",
        "colab_type": "code",
        "colab": {}
      },
      "source": [
        "def check_grad_proportion(model, x_train, layer_idx=0):\n",
        "    name = model.get_config()[\"layers\"][layer_idx][\"config\"][\"name\"]\n",
        "    inputs = tf.cast(x_train, tf.float32)\n",
        "\n",
        "    with tf.GradientTape() as tape:\n",
        "        preds = model(inputs)\n",
        "\n",
        "    grads = tape.gradient(preds, model.get_layer(name).trainable_variables)\n",
        "\n",
        "    weights =  model.get_layer(name).weights\n",
        "    proportion = grads[0] / weights[0]\n",
        "    proportion_avg = tf.math.reduce_mean(proportion)\n",
        "    print(f\"Average proportion between grad and weights: {proportion_avg}\")\n",
        "    print(f\"Some proportions:\")\n",
        "    print(proportion[:5])\n",
        "    return grads, weights\n"
      ],
      "execution_count": 0,
      "outputs": []
    },
    {
      "cell_type": "code",
      "metadata": {
        "id": "wl0DqUOtTdV1",
        "colab_type": "code",
        "outputId": "4cf8e096-4de6-4c6d-9430-9ac9f61caf0a",
        "colab": {
          "base_uri": "https://localhost:8080/",
          "height": 312
        }
      },
      "source": [
        "grads, weights = check_grad_proportion(model, x_train)"
      ],
      "execution_count": 0,
      "outputs": [
        {
          "output_type": "stream",
          "text": [
            "Average proportion between grad and weights: 68.9854736328125\n",
            "Some proportions:\n",
            "tf.Tensor(\n",
            "[[[ 7.6938620e+00 -5.7699676e+00 -3.3229630e+01 -1.7223685e+02\n",
            "    4.4788728e+00  6.2952038e+01  2.5098743e+01 -1.0169546e+01\n",
            "   -1.6430066e+00 -1.1519778e+03  2.4968575e+02 -1.1131790e+01\n",
            "    9.3059874e+00  3.7635372e+01 -1.4491734e+02  1.4018068e+01]]\n",
            "\n",
            " [[ 4.3587241e+00  2.5055573e+01 -4.6687897e+02 -1.4131907e+01\n",
            "    4.9236407e+00  9.2895287e+01 -1.8585780e+02 -3.6796679e+00\n",
            "    5.3466258e+00  1.8454512e+02  5.0662224e+01  3.0264890e+02\n",
            "    2.2525251e+01 -4.3277748e+01  4.9968178e+01 -2.3169279e+01]]\n",
            "\n",
            " [[ 2.2614448e+00 -7.4580505e+01 -1.5991063e+02 -1.2604927e+01\n",
            "   -2.8860109e+00 -4.3903851e+01  4.0538604e+03  2.3806844e+00\n",
            "    1.1009400e+00 -8.2831230e+01  6.0226599e+02  2.6159475e+01\n",
            "   -2.3446371e+01  7.9546104e+01  2.6068020e+01  3.2096184e+01]]], shape=(3, 1, 16), dtype=float32)\n"
          ],
          "name": "stdout"
        }
      ]
    },
    {
      "cell_type": "code",
      "metadata": {
        "id": "Wuvl35JJXAaI",
        "colab_type": "code",
        "colab": {}
      },
      "source": [
        ""
      ],
      "execution_count": 0,
      "outputs": []
    }
  ]
}