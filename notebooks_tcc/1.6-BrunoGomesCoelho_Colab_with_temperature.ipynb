{
 "cells": [
  {
   "cell_type": "markdown",
   "metadata": {
    "colab_type": "text",
    "id": "view-in-github"
   },
   "source": [
    "<a href=\"https://colab.research.google.com/github/BrunoGomesCoelho/mosquito-networking/blob/master/notebooks/1.3-BrunoGomesCoelho_Colab3.ipynb\" target=\"_parent\"><img src=\"https://colab.research.google.com/assets/colab-badge.svg\" alt=\"Open In Colab\"/></a>"
   ]
  },
  {
   "cell_type": "code",
   "execution_count": 1,
   "metadata": {
    "colab": {},
    "colab_type": "code",
    "id": "elnFGDCRpUTP"
   },
   "outputs": [
    {
     "data": {
      "text/plain": [
       "'\\nfunction ClickConnect(){\\nconsole.log(\"Working\"); \\ndocument.querySelector(\"colab-toolbar-button#connect\").click() \\n}setInterval(ClickConnect,60000)\\n'"
      ]
     },
     "execution_count": 1,
     "metadata": {},
     "output_type": "execute_result"
    }
   ],
   "source": [
    "# Colab console code\n",
    "\"\"\"\n",
    "function ClickConnect(){\n",
    "console.log(\"Working\"); \n",
    "document.querySelector(\"colab-toolbar-button#connect\").click() \n",
    "}setInterval(ClickConnect,60000)\n",
    "\"\"\""
   ]
  },
  {
   "cell_type": "markdown",
   "metadata": {},
   "source": [
    "## Check tensorflow version"
   ]
  },
  {
   "cell_type": "code",
   "execution_count": 157,
   "metadata": {},
   "outputs": [
    {
     "name": "stdout",
     "output_type": "stream",
     "text": [
      "TensorFlow version:  2.0.0\n"
     ]
    }
   ],
   "source": [
    "import tensorflow as tf\n",
    "from packaging import version\n",
    "\n",
    "print(\"TensorFlow version: \", tf.__version__)\n",
    "assert version.parse(tf.__version__).release[0] >= 2, \\\n",
    "    \"This notebook requires TensorFlow 2.0 or above.\""
   ]
  },
  {
   "cell_type": "code",
   "execution_count": null,
   "metadata": {},
   "outputs": [],
   "source": [
    "tf.keras.backend.clear_session()  # For easy reset of notebook state."
   ]
  },
  {
   "cell_type": "code",
   "execution_count": 2,
   "metadata": {
    "colab": {},
    "colab_type": "code",
    "id": "f0Rk5pw-1vc3"
   },
   "outputs": [],
   "source": [
    "# Start logging time\n",
    "import time\n",
    "start_time = time.time()"
   ]
  },
  {
   "cell_type": "code",
   "execution_count": 74,
   "metadata": {
    "colab": {},
    "colab_type": "code",
    "id": "3g_a6iLcO1xR"
   },
   "outputs": [],
   "source": [
    "COLAB_IDX = 1\n",
    "TEMPERATURE = \"t02\"\n",
    "FORMAT = \"repeat\""
   ]
  },
  {
   "cell_type": "code",
   "execution_count": 4,
   "metadata": {
    "colab": {},
    "colab_type": "code",
    "id": "RRfnZPSUG5MA"
   },
   "outputs": [],
   "source": [
    "TESTING = True\n",
    "COLAB = False\n",
    "\n",
    "if COLAB:\n",
    "    BASE_DIR = \"/content/drive/My Drive/IC/mosquito-networking/\"\n",
    "else:\n",
    "    BASE_DIR = \"../\""
   ]
  },
  {
   "cell_type": "code",
   "execution_count": 5,
   "metadata": {
    "colab": {
     "base_uri": "https://localhost:8080/",
     "height": 124
    },
    "colab_type": "code",
    "id": "AGLeMtFkG5MQ",
    "outputId": "9e89f651-581c-41c9-f037-a2699b35ca9a"
   },
   "outputs": [],
   "source": [
    "if COLAB:\n",
    "    from google.colab import drive\n",
    "    drive.mount('/content/drive')"
   ]
  },
  {
   "cell_type": "code",
   "execution_count": 6,
   "metadata": {
    "colab": {},
    "colab_type": "code",
    "id": "RCABbANbG5Ma"
   },
   "outputs": [],
   "source": [
    "if COLAB:\n",
    "    import sys\n",
    "    sys.path.append(\"/content/drive/My Drive/IC/mosquito-networking/\")"
   ]
  },
  {
   "cell_type": "code",
   "execution_count": 7,
   "metadata": {
    "colab": {
     "base_uri": "https://localhost:8080/",
     "height": 173
    },
    "colab_type": "code",
    "id": "3JUG_aW2H7lf",
    "outputId": "582b761b-169f-47fe-b01c-0a2ea05c2ee5"
   },
   "outputs": [],
   "source": [
    "if COLAB:\n",
    "    !python3 -m pip install -qr \"/content/drive/My Drive/IC/mosquito-networking/drive_requirements.txt\""
   ]
  },
  {
   "cell_type": "code",
   "execution_count": 55,
   "metadata": {
    "colab": {},
    "colab_type": "code",
    "id": "S-UqU8J3G5Mp"
   },
   "outputs": [
    {
     "name": "stdout",
     "output_type": "stream",
     "text": [
      "The autoreload extension is already loaded. To reload it, use:\n",
      "  %reload_ext autoreload\n"
     ]
    }
   ],
   "source": [
    "if not COLAB:\n",
    "    # OPTIONAL: Load the \"autoreload\" extension so that code can change\n",
    "    %load_ext autoreload\n",
    "    # OPTIONAL: always reload modules so that as you change code in src, it gets loaded\n",
    "    %autoreload 2"
   ]
  },
  {
   "cell_type": "code",
   "execution_count": 56,
   "metadata": {
    "colab": {},
    "colab_type": "code",
    "id": "S-UqU8J3G5Mp"
   },
   "outputs": [],
   "source": [
    "import numpy as np\n",
    "import pandas as pd\n",
    "import joblib\n",
    "\n",
    "import matplotlib.pyplot as plt\n",
    "import seaborn as sns\n",
    "sns.set()"
   ]
  },
  {
   "cell_type": "markdown",
   "metadata": {
    "colab_type": "text",
    "id": "29syQKBqG5Ml"
   },
   "source": [
    "\n",
    "\n",
    "- - - \n",
    "\n",
    "<br>\n",
    "<br>\n",
    "<br>\n",
    "<br>\n",
    "<br>\n",
    "<br>\n",
    "<br>\n",
    "<br>\n",
    "<br>\n",
    "<br>\n",
    "<br>\n",
    "<br>"
   ]
  },
  {
   "cell_type": "markdown",
   "metadata": {
    "colab_type": "text",
    "id": "8qJ96Nw-G5Mx"
   },
   "source": [
    "# Experiment params"
   ]
  },
  {
   "cell_type": "code",
   "execution_count": 109,
   "metadata": {
    "colab": {},
    "colab_type": "code",
    "id": "VTHyGYcfG5M5"
   },
   "outputs": [],
   "source": [
    "# Parameters\n",
    "params = {'batch_size': 64,\n",
    "          'shuffle': True,\n",
    "          'epochs': 2 if TESTING else 100}"
   ]
  },
  {
   "cell_type": "markdown",
   "metadata": {
    "colab_type": "text",
    "id": "7lUKEmIlG5NG"
   },
   "source": [
    "# load data"
   ]
  },
  {
   "cell_type": "code",
   "execution_count": 128,
   "metadata": {
    "colab": {},
    "colab_type": "code",
    "id": "ZXUOOiHcG5NJ"
   },
   "outputs": [],
   "source": [
    "# Load scaler\n",
    "#scaler = joblib.load(\"../data/interim/scaler.pkl\")\n",
    "scaler = joblib.load(BASE_DIR + \n",
    "                     f\"data/interim/scaler_{FORMAT}_{TEMPERATURE}.pkl\")"
   ]
  },
  {
   "cell_type": "code",
   "execution_count": 76,
   "metadata": {
    "colab": {},
    "colab_type": "code",
    "id": "H3finABn5VMo"
   },
   "outputs": [],
   "source": [
    "data = np.load(BASE_DIR + f\"data/interim/all_wavs_{FORMAT}_{TEMPERATURE}.npz\",\n",
    "               allow_pickle=True)"
   ]
  },
  {
   "cell_type": "code",
   "execution_count": 148,
   "metadata": {
    "colab": {},
    "colab_type": "code",
    "id": "rwvRk7rX9YS8"
   },
   "outputs": [],
   "source": [
    "# Parse and divide data\n",
    "train_data = data[\"train\"]\n",
    "val_data = data[\"val\"]\n",
    "test_data = data[\"test\"]\n",
    "\n",
    "x_train = scaler.transform(train_data[:, :-1])\n",
    "y_train = train_data[:, -1]\n",
    "\n",
    "x_val = scaler.transform(val_data[:, :-1])\n",
    "y_val = val_data[:, -1]\n",
    "\n",
    "x_test = scaler.transform(test_data[:, :-1])\n",
    "y_test = test_data[:, -1]"
   ]
  },
  {
   "cell_type": "code",
   "execution_count": 149,
   "metadata": {
    "colab": {},
    "colab_type": "code",
    "id": "T55sgV4nG5NT"
   },
   "outputs": [],
   "source": [
    "# Reshape data\n",
    "x_train = x_train.reshape((*x_train.shape, 1))\n",
    "x_val = x_val.reshape((*x_val.shape, 1))\n",
    "x_test = x_test.reshape((*x_test.shape, 1))"
   ]
  },
  {
   "cell_type": "code",
   "execution_count": 150,
   "metadata": {
    "colab": {},
    "colab_type": "code",
    "id": "T55sgV4nG5NT"
   },
   "outputs": [],
   "source": [
    "# Generators\n",
    "# I am not using generators since currently the dataset fits on RAM"
   ]
  },
  {
   "cell_type": "markdown",
   "metadata": {
    "colab_type": "text",
    "id": "tnSGKM51G5NZ"
   },
   "source": [
    "# Load model"
   ]
  },
  {
   "cell_type": "code",
   "execution_count": 213,
   "metadata": {
    "code_folding": [],
    "colab": {},
    "colab_type": "code",
    "id": "i-4jOwGaG5Nb"
   },
   "outputs": [
    {
     "name": "stdout",
     "output_type": "stream",
     "text": [
      "Model: \"sequential_15\"\n",
      "_________________________________________________________________\n",
      "Layer (type)                 Output Shape              Param #   \n",
      "=================================================================\n",
      "conv1d_77 (Conv1D)           (None, 11023, 32)         128       \n",
      "_________________________________________________________________\n",
      "global_average_pooling1d_15  (None, 32)                0         \n",
      "_________________________________________________________________\n",
      "dropout_15 (Dropout)         (None, 32)                0         \n",
      "_________________________________________________________________\n",
      "dense_15 (Dense)             (None, 1)                 33        \n",
      "=================================================================\n",
      "Total params: 161\n",
      "Trainable params: 161\n",
      "Non-trainable params: 0\n",
      "_________________________________________________________________\n"
     ]
    }
   ],
   "source": [
    "from src.models.wingbeats_model import WingbeatsNetModel\n",
    "model = WingbeatsNetModel()\n",
    "# load weights?\n",
    "#f\"runs/colab/{COLAB_IDX-1}/model_epoch_90.pt\"))\n",
    "model.summary() "
   ]
  },
  {
   "cell_type": "markdown",
   "metadata": {
    "colab": {
     "base_uri": "https://localhost:8080/",
     "height": 330
    },
    "colab_type": "code",
    "id": "OAmDeYoqG5Nj",
    "outputId": "a5b2fa64-994c-4a08-87ba-4451648bba9c"
   },
   "source": [
    "![](wingbeats_model.png)"
   ]
  },
  {
   "cell_type": "markdown",
   "metadata": {
    "colab_type": "text",
    "id": "fVoQ1CdUG5No"
   },
   "source": [
    "# Start tensorboard"
   ]
  },
  {
   "cell_type": "code",
   "execution_count": 0,
   "metadata": {
    "colab": {},
    "colab_type": "code",
    "id": "7PLsosnUG5Nq"
   },
   "outputs": [],
   "source": [
    "save_path =  BASE_DIR + f\"runs/TCC/{TEMPERATURE}/{COLAB_IDX}/\""
   ]
  },
  {
   "cell_type": "markdown",
   "metadata": {
    "colab_type": "text",
    "id": "lvnnGZpPG5Nv"
   },
   "source": [
    "# train function"
   ]
  },
  {
   "cell_type": "code",
   "execution_count": 152,
   "metadata": {},
   "outputs": [],
   "source": [
    "MODEL = \"testing\"\n",
    "model_name = f\"{MODEL}_{FORMAT}\""
   ]
  },
  {
   "cell_type": "code",
   "execution_count": 161,
   "metadata": {},
   "outputs": [],
   "source": [
    "from tensorflow import  keras\n",
    "from tensorflow.keras.optimizers import SGD\n",
    "from tensorflow.keras.callbacks import (ModelCheckpoint, EarlyStopping, \n",
    "                                        ReduceLROnPlateau, CSVLogger)"
   ]
  },
  {
   "cell_type": "code",
   "execution_count": 190,
   "metadata": {},
   "outputs": [],
   "source": [
    "temp = x_train.copy()"
   ]
  },
  {
   "cell_type": "code",
   "execution_count": 192,
   "metadata": {},
   "outputs": [],
   "source": [
    "temp_y = y_train.copy()"
   ]
  },
  {
   "cell_type": "code",
   "execution_count": 194,
   "metadata": {},
   "outputs": [
    {
     "data": {
      "text/plain": [
       "(2972, 11025, 1)"
      ]
     },
     "execution_count": 194,
     "metadata": {},
     "output_type": "execute_result"
    }
   ],
   "source": [
    "temp.shape"
   ]
  },
  {
   "cell_type": "code",
   "execution_count": 197,
   "metadata": {},
   "outputs": [],
   "source": [
    "x_train = x_train[:20]\n",
    "y_train = y_train[:20]"
   ]
  },
  {
   "cell_type": "code",
   "execution_count": 209,
   "metadata": {},
   "outputs": [],
   "source": [
    "params[\"epochs\"] = 100\n",
    "params[\"batch_size\"] = 1"
   ]
  },
  {
   "cell_type": "code",
   "execution_count": null,
   "metadata": {
    "scrolled": true
   },
   "outputs": [
    {
     "name": "stdout",
     "output_type": "stream",
     "text": [
      "Train on 20 samples, validate on 743 samples\n",
      "Epoch 1/100\n",
      "20/20 [==============================] - 2s 83ms/step - loss: 0.7017 - accuracy: 0.4500 - val_loss: 0.6932 - val_accuracy: 0.5141\n",
      "Epoch 2/100\n",
      "20/20 [==============================] - 2s 78ms/step - loss: 0.6850 - accuracy: 0.6000 - val_loss: 0.6937 - val_accuracy: 0.4926\n",
      "Epoch 3/100\n",
      "20/20 [==============================] - 2s 75ms/step - loss: 0.6842 - accuracy: 0.6500 - val_loss: 0.6940 - val_accuracy: 0.4926\n",
      "Epoch 4/100\n",
      "20/20 [==============================] - 2s 75ms/step - loss: 0.6796 - accuracy: 0.5500 - val_loss: 0.6945 - val_accuracy: 0.4926\n",
      "Epoch 5/100\n",
      "20/20 [==============================] - 2s 76ms/step - loss: 0.6893 - accuracy: 0.5500 - val_loss: 0.6953 - val_accuracy: 0.4926\n",
      "Epoch 6/100\n",
      "20/20 [==============================] - 1s 75ms/step - loss: 0.6901 - accuracy: 0.6000 - val_loss: 0.6960 - val_accuracy: 0.4926\n",
      "Epoch 7/100\n",
      "13/20 [==================>...........] - ETA: 0s - loss: 0.6915 - accuracy: 0.5385    "
     ]
    }
   ],
   "source": [
    "from datetime import datetime\n",
    "import keras\n",
    "\n",
    "top_weights_path = 'model_' + model_name + '.h5'\n",
    "\n",
    "logdir = \"logs/scalars/\" + datetime.now().strftime(\"%Y%m%d-%H%M%S\")\n",
    "tensorboard_callback = keras.callbacks.TensorBoard(log_dir=logdir)\n",
    "\n",
    "callbacks_list = [\n",
    "    #ModelCheckpoint(top_weights_path, monitor='val_acc', verbose=1,\n",
    "    #                save_best_only=True, save_weights_only=True),\n",
    "    #EarlyStopping(monitor='val_accuracy', patience=6, verbose=1),\n",
    "    tensorboard_callback]#,\n",
    "    #ReduceLROnPlateau(monitor = 'val_accuracy', factor=0.1, \n",
    "    #                  patience=3, verbose=1),\n",
    "    #CSVLogger('model_' + model_name + '.log')]\n",
    "\n",
    "histories = model.fit(x_train, y_train, \n",
    "          validation_data=[x_val, y_val],\n",
    "          callbacks=callbacks_list,\n",
    "          **params)\n",
    "\n",
    "#model.load_weights(top_weights_path)\n",
    "#loss, acc = model.evaluate(x_test, y_test)\n",
    "\n",
    "#print('loss', loss)\n",
    "#print('Test accuracy:', acc)"
   ]
  },
  {
   "cell_type": "code",
   "execution_count": null,
   "metadata": {},
   "outputs": [],
   "source": []
  },
  {
   "cell_type": "code",
   "execution_count": null,
   "metadata": {},
   "outputs": [],
   "source": []
  },
  {
   "cell_type": "code",
   "execution_count": null,
   "metadata": {},
   "outputs": [],
   "source": []
  },
  {
   "cell_type": "code",
   "execution_count": 188,
   "metadata": {},
   "outputs": [
    {
     "data": {
      "text/plain": [
       "(0.694406767597113, 0.49775785207748413)"
      ]
     },
     "execution_count": 188,
     "metadata": {},
     "output_type": "execute_result"
    }
   ],
   "source": [
    "loss, acc"
   ]
  },
  {
   "cell_type": "code",
   "execution_count": null,
   "metadata": {},
   "outputs": [],
   "source": []
  },
  {
   "cell_type": "code",
   "execution_count": null,
   "metadata": {},
   "outputs": [],
   "source": []
  },
  {
   "cell_type": "code",
   "execution_count": null,
   "metadata": {},
   "outputs": [],
   "source": []
  }
 ],
 "metadata": {
  "accelerator": "GPU",
  "colab": {
   "collapsed_sections": [],
   "include_colab_link": true,
   "name": "Copy of 0.9-BrunoGomesCoelho-Actual-Colab experiment.ipynb",
   "provenance": []
  },
  "kernelspec": {
   "display_name": "Python 3",
   "language": "python",
   "name": "python3"
  },
  "language_info": {
   "codemirror_mode": {
    "name": "ipython",
    "version": 3
   },
   "file_extension": ".py",
   "mimetype": "text/x-python",
   "name": "python",
   "nbconvert_exporter": "python",
   "pygments_lexer": "ipython3",
   "version": "3.6.5rc1"
  },
  "toc": {
   "base_numbering": 1,
   "nav_menu": {},
   "number_sections": true,
   "sideBar": true,
   "skip_h1_title": false,
   "title_cell": "Table of Contents",
   "title_sidebar": "Contents",
   "toc_cell": false,
   "toc_position": {},
   "toc_section_display": true,
   "toc_window_display": false
  }
 },
 "nbformat": 4,
 "nbformat_minor": 1
}
